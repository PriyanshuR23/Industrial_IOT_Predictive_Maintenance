{
  "nbformat": 4,
  "nbformat_minor": 0,
  "metadata": {
    "colab": {
      "provenance": [],
      "authorship_tag": "ABX9TyMwSmrF4Bg8k3lxfHpdKHIb",
      "include_colab_link": true
    },
    "kernelspec": {
      "name": "python3",
      "display_name": "Python 3"
    },
    "language_info": {
      "name": "python"
    }
  },
  "cells": [
    {
      "cell_type": "markdown",
      "metadata": {
        "id": "view-in-github",
        "colab_type": "text"
      },
      "source": [
        "<a href=\"https://colab.research.google.com/github/PriyanshuR23/Industrial_IOT_Predictive_Maintenance/blob/main/Final.ipynb\" target=\"_parent\"><img src=\"https://colab.research.google.com/assets/colab-badge.svg\" alt=\"Open In Colab\"/></a>"
      ]
    },
    {
      "cell_type": "code",
      "source": [
        "import numpy as np\n",
        "import pandas as pd\n",
        "from google.colab import drive\n",
        "import numpy as np\n",
        "from sklearn.preprocessing import LabelEncoder\n",
        "from sklearn.experimental import enable_iterative_imputer #\n",
        "from sklearn.impute import IterativeImputer\n",
        "from sklearn.linear_model import BayesianRidge\n",
        "import seaborn as sns\n",
        "import matplotlib.pyplot as plt\n",
        "from sklearn.model_selection import train_test_split\n",
        "from sklearn.preprocessing import StandardScaler\n",
        "import torch\n",
        "import joblib\n",
        "from sklearn.metrics import classification_report,accuracy_score,precision_score, recall_score, f1_score"
      ],
      "metadata": {
        "id": "nozG4squyyMR"
      },
      "execution_count": 1,
      "outputs": []
    },
    {
      "cell_type": "code",
      "execution_count": 2,
      "metadata": {
        "colab": {
          "base_uri": "https://localhost:8080/"
        },
        "id": "TyD534wNuJAR",
        "outputId": "3a26ecf5-9031-46e7-c182-db4c6e021adf"
      },
      "outputs": [
        {
          "output_type": "stream",
          "name": "stdout",
          "text": [
            "Mounted at /content/drive\n",
            "   UDI              Date  System Control Product ID Type  Air temperature (K)  \\\n",
            "0    1  15/04/2014 11:56       0       C     M14860    M                  NaN   \n",
            "1    2  12/04/2014 16:09       0       A     L47181    L                298.2   \n",
            "2    3  13/04/2014 01:13       0       A     L47182    L                298.1   \n",
            "3    4  24/07/2014 20:35       0       B     L47183    L                  NaN   \n",
            "4    5  22/07/2014 01:31       0       C     L47184    L                  NaN   \n",
            "\n",
            "   Process temperature (K)  Rotational speed (rpm)  Torque (Nm)  \\\n",
            "0                      NaN                     NaN         42.8   \n",
            "1                    308.7                  1408.0          NaN   \n",
            "2                    308.5                  1498.0          NaN   \n",
            "3                      NaN                  1433.0         39.5   \n",
            "4                      NaN                     NaN         40.0   \n",
            "\n",
            "   Tool wear (min)  Diagnostic  \n",
            "0              0.0  No failure  \n",
            "1              NaN  No failure  \n",
            "2              NaN  No failure  \n",
            "3              NaN  No failure  \n",
            "4              9.0  No failure  \n"
          ]
        }
      ],
      "source": [
        "drive.mount('/content/drive')\n",
        "\n",
        "df = pd.read_csv('/content/drive/MyDrive/Datasets/AI4I-PMDI.csv')\n",
        "\n",
        "print(df.head())"
      ]
    },
    {
      "cell_type": "code",
      "source": [
        "from IPython.display import display, HTML\n",
        "display(HTML(df.head().to_html()))\n",
        "print(df.isnull().sum())"
      ],
      "metadata": {
        "colab": {
          "base_uri": "https://localhost:8080/",
          "height": 415
        },
        "id": "wxcWfJX1uP4s",
        "outputId": "a52123b2-97e2-4707-be65-9a25130e16b6"
      },
      "execution_count": 3,
      "outputs": [
        {
          "output_type": "display_data",
          "data": {
            "text/plain": [
              "<IPython.core.display.HTML object>"
            ],
            "text/html": [
              "<table border=\"1\" class=\"dataframe\">\n",
              "  <thead>\n",
              "    <tr style=\"text-align: right;\">\n",
              "      <th></th>\n",
              "      <th>UDI</th>\n",
              "      <th>Date</th>\n",
              "      <th>System</th>\n",
              "      <th>Control</th>\n",
              "      <th>Product ID</th>\n",
              "      <th>Type</th>\n",
              "      <th>Air temperature (K)</th>\n",
              "      <th>Process temperature (K)</th>\n",
              "      <th>Rotational speed (rpm)</th>\n",
              "      <th>Torque (Nm)</th>\n",
              "      <th>Tool wear (min)</th>\n",
              "      <th>Diagnostic</th>\n",
              "    </tr>\n",
              "  </thead>\n",
              "  <tbody>\n",
              "    <tr>\n",
              "      <th>0</th>\n",
              "      <td>1</td>\n",
              "      <td>15/04/2014 11:56</td>\n",
              "      <td>0</td>\n",
              "      <td>C</td>\n",
              "      <td>M14860</td>\n",
              "      <td>M</td>\n",
              "      <td>NaN</td>\n",
              "      <td>NaN</td>\n",
              "      <td>NaN</td>\n",
              "      <td>42.8</td>\n",
              "      <td>0.0</td>\n",
              "      <td>No failure</td>\n",
              "    </tr>\n",
              "    <tr>\n",
              "      <th>1</th>\n",
              "      <td>2</td>\n",
              "      <td>12/04/2014 16:09</td>\n",
              "      <td>0</td>\n",
              "      <td>A</td>\n",
              "      <td>L47181</td>\n",
              "      <td>L</td>\n",
              "      <td>298.2</td>\n",
              "      <td>308.7</td>\n",
              "      <td>1408.0</td>\n",
              "      <td>NaN</td>\n",
              "      <td>NaN</td>\n",
              "      <td>No failure</td>\n",
              "    </tr>\n",
              "    <tr>\n",
              "      <th>2</th>\n",
              "      <td>3</td>\n",
              "      <td>13/04/2014 01:13</td>\n",
              "      <td>0</td>\n",
              "      <td>A</td>\n",
              "      <td>L47182</td>\n",
              "      <td>L</td>\n",
              "      <td>298.1</td>\n",
              "      <td>308.5</td>\n",
              "      <td>1498.0</td>\n",
              "      <td>NaN</td>\n",
              "      <td>NaN</td>\n",
              "      <td>No failure</td>\n",
              "    </tr>\n",
              "    <tr>\n",
              "      <th>3</th>\n",
              "      <td>4</td>\n",
              "      <td>24/07/2014 20:35</td>\n",
              "      <td>0</td>\n",
              "      <td>B</td>\n",
              "      <td>L47183</td>\n",
              "      <td>L</td>\n",
              "      <td>NaN</td>\n",
              "      <td>NaN</td>\n",
              "      <td>1433.0</td>\n",
              "      <td>39.5</td>\n",
              "      <td>NaN</td>\n",
              "      <td>No failure</td>\n",
              "    </tr>\n",
              "    <tr>\n",
              "      <th>4</th>\n",
              "      <td>5</td>\n",
              "      <td>22/07/2014 01:31</td>\n",
              "      <td>0</td>\n",
              "      <td>C</td>\n",
              "      <td>L47184</td>\n",
              "      <td>L</td>\n",
              "      <td>NaN</td>\n",
              "      <td>NaN</td>\n",
              "      <td>NaN</td>\n",
              "      <td>40.0</td>\n",
              "      <td>9.0</td>\n",
              "      <td>No failure</td>\n",
              "    </tr>\n",
              "  </tbody>\n",
              "</table>"
            ]
          },
          "metadata": {}
        },
        {
          "output_type": "stream",
          "name": "stdout",
          "text": [
            "UDI                           0\n",
            "Date                          0\n",
            "System                        0\n",
            "Control                       0\n",
            "Product ID                    0\n",
            "Type                          0\n",
            "Air temperature (K)        6563\n",
            "Process temperature (K)    6563\n",
            "Rotational speed (rpm)     3321\n",
            "Torque (Nm)                3437\n",
            "Tool wear (min)            6679\n",
            "Diagnostic                    0\n",
            "dtype: int64\n"
          ]
        }
      ]
    },
    {
      "cell_type": "code",
      "source": [
        "\n",
        "unique_diagnostics = df['Diagnostic'].unique()\n",
        "num_unique_diagnostics = len(unique_diagnostics)\n",
        "\n",
        "print(f\"Number of unique diagnostics: {num_unique_diagnostics}\")\n",
        "print(f\"Unique diagnostic names: {unique_diagnostics}\")"
      ],
      "metadata": {
        "colab": {
          "base_uri": "https://localhost:8080/"
        },
        "id": "QoNxWy4Lv20h",
        "outputId": "4559ef86-77bf-475f-a341-addc8b2adf4d"
      },
      "execution_count": 4,
      "outputs": [
        {
          "output_type": "stream",
          "name": "stdout",
          "text": [
            "Number of unique diagnostics: 6\n",
            "Unique diagnostic names: ['No failure' 'Power Failure' 'Overstrain Failure' 'Tool Wear Failure'\n",
            " 'Random Failures' 'Heat Dissipation Failure']\n"
          ]
        }
      ]
    },
    {
      "cell_type": "markdown",
      "source": [
        "***Assigning Numeric Values to the classes using Label Encoder.***"
      ],
      "metadata": {
        "id": "-Hy4b4c8x2u_"
      }
    },
    {
      "cell_type": "code",
      "source": [
        "label_encoder = LabelEncoder()\n",
        "\n",
        "label_encoder.fit(df['Diagnostic'])\n",
        "\n",
        "# 'No failure' is always 0\n",
        "diagnostic_classes = list(label_encoder.classes_)\n",
        "diagnostic_classes.remove('No failure')\n",
        "diagnostic_classes.insert(0, 'No failure')\n",
        "\n",
        "# Apply the adjusted mapping\n",
        "label_encoder.classes_ = np.array(diagnostic_classes, dtype=object)\n",
        "df['Diagnostic_encoded'] = label_encoder.transform(df['Diagnostic'])\n",
        "\n",
        "# Create a mapping dictionary for reference\n",
        "diagnostic_mapping = dict(zip(label_encoder.classes_, label_encoder.transform(label_encoder.classes_)))\n",
        "\n",
        "# Print the mapping\n",
        "print(\"Diagnostic Mapping:\")\n",
        "for diagnostic, encoded_value in diagnostic_mapping.items():\n",
        "    print(f\"{diagnostic}: {encoded_value}\")\n",
        "\n",
        "# Display the updated DataFrame with the encoded column\n",
        "print(\"\\nUpdated DataFrame with encoded 'Diagnostic' column:\")\n",
        "display(HTML(df.head().to_html()))"
      ],
      "metadata": {
        "colab": {
          "base_uri": "https://localhost:8080/",
          "height": 349
        },
        "id": "uB_lXZ5CwItA",
        "outputId": "f25f5cad-0ffe-4cbc-e129-e149d77db39d"
      },
      "execution_count": 5,
      "outputs": [
        {
          "output_type": "stream",
          "name": "stdout",
          "text": [
            "Diagnostic Mapping:\n",
            "No failure: 0\n",
            "Heat Dissipation Failure: 1\n",
            "Overstrain Failure: 2\n",
            "Power Failure: 3\n",
            "Random Failures: 4\n",
            "Tool Wear Failure: 5\n",
            "\n",
            "Updated DataFrame with encoded 'Diagnostic' column:\n"
          ]
        },
        {
          "output_type": "display_data",
          "data": {
            "text/plain": [
              "<IPython.core.display.HTML object>"
            ],
            "text/html": [
              "<table border=\"1\" class=\"dataframe\">\n",
              "  <thead>\n",
              "    <tr style=\"text-align: right;\">\n",
              "      <th></th>\n",
              "      <th>UDI</th>\n",
              "      <th>Date</th>\n",
              "      <th>System</th>\n",
              "      <th>Control</th>\n",
              "      <th>Product ID</th>\n",
              "      <th>Type</th>\n",
              "      <th>Air temperature (K)</th>\n",
              "      <th>Process temperature (K)</th>\n",
              "      <th>Rotational speed (rpm)</th>\n",
              "      <th>Torque (Nm)</th>\n",
              "      <th>Tool wear (min)</th>\n",
              "      <th>Diagnostic</th>\n",
              "      <th>Diagnostic_encoded</th>\n",
              "    </tr>\n",
              "  </thead>\n",
              "  <tbody>\n",
              "    <tr>\n",
              "      <th>0</th>\n",
              "      <td>1</td>\n",
              "      <td>15/04/2014 11:56</td>\n",
              "      <td>0</td>\n",
              "      <td>C</td>\n",
              "      <td>M14860</td>\n",
              "      <td>M</td>\n",
              "      <td>NaN</td>\n",
              "      <td>NaN</td>\n",
              "      <td>NaN</td>\n",
              "      <td>42.8</td>\n",
              "      <td>0.0</td>\n",
              "      <td>No failure</td>\n",
              "      <td>0</td>\n",
              "    </tr>\n",
              "    <tr>\n",
              "      <th>1</th>\n",
              "      <td>2</td>\n",
              "      <td>12/04/2014 16:09</td>\n",
              "      <td>0</td>\n",
              "      <td>A</td>\n",
              "      <td>L47181</td>\n",
              "      <td>L</td>\n",
              "      <td>298.2</td>\n",
              "      <td>308.7</td>\n",
              "      <td>1408.0</td>\n",
              "      <td>NaN</td>\n",
              "      <td>NaN</td>\n",
              "      <td>No failure</td>\n",
              "      <td>0</td>\n",
              "    </tr>\n",
              "    <tr>\n",
              "      <th>2</th>\n",
              "      <td>3</td>\n",
              "      <td>13/04/2014 01:13</td>\n",
              "      <td>0</td>\n",
              "      <td>A</td>\n",
              "      <td>L47182</td>\n",
              "      <td>L</td>\n",
              "      <td>298.1</td>\n",
              "      <td>308.5</td>\n",
              "      <td>1498.0</td>\n",
              "      <td>NaN</td>\n",
              "      <td>NaN</td>\n",
              "      <td>No failure</td>\n",
              "      <td>0</td>\n",
              "    </tr>\n",
              "    <tr>\n",
              "      <th>3</th>\n",
              "      <td>4</td>\n",
              "      <td>24/07/2014 20:35</td>\n",
              "      <td>0</td>\n",
              "      <td>B</td>\n",
              "      <td>L47183</td>\n",
              "      <td>L</td>\n",
              "      <td>NaN</td>\n",
              "      <td>NaN</td>\n",
              "      <td>1433.0</td>\n",
              "      <td>39.5</td>\n",
              "      <td>NaN</td>\n",
              "      <td>No failure</td>\n",
              "      <td>0</td>\n",
              "    </tr>\n",
              "    <tr>\n",
              "      <th>4</th>\n",
              "      <td>5</td>\n",
              "      <td>22/07/2014 01:31</td>\n",
              "      <td>0</td>\n",
              "      <td>C</td>\n",
              "      <td>L47184</td>\n",
              "      <td>L</td>\n",
              "      <td>NaN</td>\n",
              "      <td>NaN</td>\n",
              "      <td>NaN</td>\n",
              "      <td>40.0</td>\n",
              "      <td>9.0</td>\n",
              "      <td>No failure</td>\n",
              "      <td>0</td>\n",
              "    </tr>\n",
              "  </tbody>\n",
              "</table>"
            ]
          },
          "metadata": {}
        }
      ]
    },
    {
      "cell_type": "markdown",
      "source": [],
      "metadata": {
        "id": "e9wo6wwmyTGr"
      }
    },
    {
      "cell_type": "code",
      "source": [
        "# Save the columns to be dropped\n",
        "dropped_columns = df[['UDI', 'Date', 'System', 'Control', 'Product ID', 'Type', 'Diagnostic']]\n",
        "\n",
        "# Create a new dataframe with dropped columns.\n",
        "df_dropped = pd.DataFrame(dropped_columns)\n",
        "\n",
        "# Export the dropped columns to a new CSV file\n",
        "df_dropped.to_csv('/content/drive/MyDrive/Capstone/dropped_columns.csv', index=False)\n",
        "\n",
        "# Drop the specified columns from the original DataFrame\n",
        "df = df.drop(['UDI', 'Date', 'System', 'Control', 'Product ID', 'Type', 'Diagnostic'], axis=1)\n",
        "\n",
        "# Display the updated DataFrame\n",
        "print(\"\\nDataFrame after dropping columns:\")\n",
        "display(HTML(df.head().to_html()))\n"
      ],
      "metadata": {
        "colab": {
          "base_uri": "https://localhost:8080/",
          "height": 234
        },
        "id": "q7UnmTCn2K33",
        "outputId": "90412a39-03e7-42be-ed07-459f6636d0db"
      },
      "execution_count": 6,
      "outputs": [
        {
          "output_type": "stream",
          "name": "stdout",
          "text": [
            "\n",
            "DataFrame after dropping columns:\n"
          ]
        },
        {
          "output_type": "display_data",
          "data": {
            "text/plain": [
              "<IPython.core.display.HTML object>"
            ],
            "text/html": [
              "<table border=\"1\" class=\"dataframe\">\n",
              "  <thead>\n",
              "    <tr style=\"text-align: right;\">\n",
              "      <th></th>\n",
              "      <th>Air temperature (K)</th>\n",
              "      <th>Process temperature (K)</th>\n",
              "      <th>Rotational speed (rpm)</th>\n",
              "      <th>Torque (Nm)</th>\n",
              "      <th>Tool wear (min)</th>\n",
              "      <th>Diagnostic_encoded</th>\n",
              "    </tr>\n",
              "  </thead>\n",
              "  <tbody>\n",
              "    <tr>\n",
              "      <th>0</th>\n",
              "      <td>NaN</td>\n",
              "      <td>NaN</td>\n",
              "      <td>NaN</td>\n",
              "      <td>42.8</td>\n",
              "      <td>0.0</td>\n",
              "      <td>0</td>\n",
              "    </tr>\n",
              "    <tr>\n",
              "      <th>1</th>\n",
              "      <td>298.2</td>\n",
              "      <td>308.7</td>\n",
              "      <td>1408.0</td>\n",
              "      <td>NaN</td>\n",
              "      <td>NaN</td>\n",
              "      <td>0</td>\n",
              "    </tr>\n",
              "    <tr>\n",
              "      <th>2</th>\n",
              "      <td>298.1</td>\n",
              "      <td>308.5</td>\n",
              "      <td>1498.0</td>\n",
              "      <td>NaN</td>\n",
              "      <td>NaN</td>\n",
              "      <td>0</td>\n",
              "    </tr>\n",
              "    <tr>\n",
              "      <th>3</th>\n",
              "      <td>NaN</td>\n",
              "      <td>NaN</td>\n",
              "      <td>1433.0</td>\n",
              "      <td>39.5</td>\n",
              "      <td>NaN</td>\n",
              "      <td>0</td>\n",
              "    </tr>\n",
              "    <tr>\n",
              "      <th>4</th>\n",
              "      <td>NaN</td>\n",
              "      <td>NaN</td>\n",
              "      <td>NaN</td>\n",
              "      <td>40.0</td>\n",
              "      <td>9.0</td>\n",
              "      <td>0</td>\n",
              "    </tr>\n",
              "  </tbody>\n",
              "</table>"
            ]
          },
          "metadata": {}
        }
      ]
    },
    {
      "cell_type": "code",
      "source": [
        "\n",
        "import pandas as pd\n",
        "for col in df.columns:\n",
        "  if pd.api.types.is_numeric_dtype(df[col]):\n",
        "    print(f\"Column: {col}, Min: {df[col].min()}, Max: {df[col].max()}\")\n"
      ],
      "metadata": {
        "colab": {
          "base_uri": "https://localhost:8080/"
        },
        "id": "vKpJq6tJBMoy",
        "outputId": "b02f7833-5543-4ebf-cd58-15fb11cde372"
      },
      "execution_count": 7,
      "outputs": [
        {
          "output_type": "stream",
          "name": "stdout",
          "text": [
            "Column: Air temperature (K), Min: 295.4, Max: 304.3\n",
            "Column: Process temperature (K), Min: 305.8, Max: 313.8\n",
            "Column: Rotational speed (rpm), Min: 1168.0, Max: 2886.0\n",
            "Column: Torque (Nm), Min: 3.8, Max: 76.6\n",
            "Column: Tool wear (min), Min: 0.0, Max: 253.0\n",
            "Column: Diagnostic_encoded, Min: 0, Max: 5\n"
          ]
        }
      ]
    },
    {
      "cell_type": "code",
      "source": [
        "numerical_cols = df.select_dtypes(include=['number']).columns\n",
        "# Create an IterativeImputer object with Bayesian Ridge\n",
        "imputer = IterativeImputer(estimator=BayesianRidge(), random_state=42,tol =0.02)\n",
        "\n",
        "# Apply imputation\n",
        "df[numerical_cols] = imputer.fit_transform(df[numerical_cols])\n",
        "\n",
        "# Apply constraints to keep values within reasonable limits\n",
        "df['Air temperature (K)'] = np.clip(df['Air temperature (K)'], 295, 305)\n",
        "df['Process temperature (K)'] = np.clip(df['Process temperature (K)'], 305, 314)\n",
        "df['Rotational speed (rpm)'] = np.clip(df['Rotational speed (rpm)'], 1168, 2886)\n",
        "df['Torque (Nm)'] = np.clip(df['Torque (Nm)'], 4, 77)\n",
        "df['Tool wear (min)'] = np.clip(df['Tool wear (min)'], 0, 253)\n",
        "\n",
        "# Display the updated DataFrame\n",
        "print(\"\\nUpdated DataFrame after imputing and clipping:\")\n",
        "display(HTML(df.head().to_html()))"
      ],
      "metadata": {
        "colab": {
          "base_uri": "https://localhost:8080/",
          "height": 267
        },
        "id": "Nxaa0l8vxNAE",
        "outputId": "9489818e-b7a4-48d2-9773-3d292110b612"
      },
      "execution_count": 8,
      "outputs": [
        {
          "output_type": "stream",
          "name": "stdout",
          "text": [
            "\n",
            "Updated DataFrame after imputing and clipping:\n"
          ]
        },
        {
          "output_type": "stream",
          "name": "stderr",
          "text": [
            "/usr/local/lib/python3.11/dist-packages/sklearn/impute/_iterative.py:895: ConvergenceWarning: [IterativeImputer] Early stopping criterion not reached.\n",
            "  warnings.warn(\n"
          ]
        },
        {
          "output_type": "display_data",
          "data": {
            "text/plain": [
              "<IPython.core.display.HTML object>"
            ],
            "text/html": [
              "<table border=\"1\" class=\"dataframe\">\n",
              "  <thead>\n",
              "    <tr style=\"text-align: right;\">\n",
              "      <th></th>\n",
              "      <th>Air temperature (K)</th>\n",
              "      <th>Process temperature (K)</th>\n",
              "      <th>Rotational speed (rpm)</th>\n",
              "      <th>Torque (Nm)</th>\n",
              "      <th>Tool wear (min)</th>\n",
              "      <th>Diagnostic_encoded</th>\n",
              "    </tr>\n",
              "  </thead>\n",
              "  <tbody>\n",
              "    <tr>\n",
              "      <th>0</th>\n",
              "      <td>295.0</td>\n",
              "      <td>305.0</td>\n",
              "      <td>1168.0</td>\n",
              "      <td>42.800000</td>\n",
              "      <td>0.000000</td>\n",
              "      <td>0.0</td>\n",
              "    </tr>\n",
              "    <tr>\n",
              "      <th>1</th>\n",
              "      <td>298.2</td>\n",
              "      <td>308.7</td>\n",
              "      <td>1408.0</td>\n",
              "      <td>49.352130</td>\n",
              "      <td>101.735729</td>\n",
              "      <td>0.0</td>\n",
              "    </tr>\n",
              "    <tr>\n",
              "      <th>2</th>\n",
              "      <td>298.1</td>\n",
              "      <td>308.5</td>\n",
              "      <td>1498.0</td>\n",
              "      <td>44.847462</td>\n",
              "      <td>104.383550</td>\n",
              "      <td>0.0</td>\n",
              "    </tr>\n",
              "    <tr>\n",
              "      <th>3</th>\n",
              "      <td>295.0</td>\n",
              "      <td>305.0</td>\n",
              "      <td>1433.0</td>\n",
              "      <td>39.500000</td>\n",
              "      <td>77.538358</td>\n",
              "      <td>0.0</td>\n",
              "    </tr>\n",
              "    <tr>\n",
              "      <th>4</th>\n",
              "      <td>295.0</td>\n",
              "      <td>305.0</td>\n",
              "      <td>1168.0</td>\n",
              "      <td>40.000000</td>\n",
              "      <td>9.000000</td>\n",
              "      <td>0.0</td>\n",
              "    </tr>\n",
              "  </tbody>\n",
              "</table>"
            ]
          },
          "metadata": {}
        }
      ]
    },
    {
      "cell_type": "code",
      "source": [
        "# Count occurrences of each diagnostic\n",
        "diagnostic_counts = df['Diagnostic_encoded'].value_counts()\n",
        "\n",
        "# Calculate percentages\n",
        "diagnostic_percentages = (diagnostic_counts / len(df)) * 100\n",
        "\n",
        "# Print counts and percentages\n",
        "print(\"Diagnostic Counts and Percentages:\")\n",
        "for diagnostic, count in diagnostic_counts.items():\n",
        "    percentage = diagnostic_percentages[diagnostic]\n",
        "    print(f\"Diagnostic {diagnostic}: Count = {count}, Percentage = {percentage:.2f}%\")"
      ],
      "metadata": {
        "colab": {
          "base_uri": "https://localhost:8080/"
        },
        "id": "rEbs5UiSyrEI",
        "outputId": "cfc0bad8-4320-4b1a-942d-bbc7f4b6bcc1"
      },
      "execution_count": 9,
      "outputs": [
        {
          "output_type": "stream",
          "name": "stdout",
          "text": [
            "Diagnostic Counts and Percentages:\n",
            "Diagnostic 0.0: Count = 9652, Percentage = 96.52%\n",
            "Diagnostic 1.0: Count = 106, Percentage = 1.06%\n",
            "Diagnostic 2.0: Count = 98, Percentage = 0.98%\n",
            "Diagnostic 3.0: Count = 83, Percentage = 0.83%\n",
            "Diagnostic 5.0: Count = 42, Percentage = 0.42%\n",
            "Diagnostic 4.0: Count = 19, Percentage = 0.19%\n"
          ]
        }
      ]
    },
    {
      "cell_type": "code",
      "source": [
        "plt.figure(figsize=(10, 6))\n",
        "sns.histplot(df['Diagnostic_encoded'], kde=True,color=\"purple\")\n",
        "plt.title('Histogram of Diagnostic Encoded')\n",
        "plt.xlabel('Diagnostic Encoded')\n",
        "plt.ylabel('Frequency')\n",
        "plt.show()\n"
      ],
      "metadata": {
        "colab": {
          "base_uri": "https://localhost:8080/",
          "height": 563
        },
        "id": "YAQ2lyxnofbu",
        "outputId": "cc5a396c-c5d0-4796-f834-d1d985de7dfc"
      },
      "execution_count": 10,
      "outputs": [
        {
          "output_type": "display_data",
          "data": {
            "text/plain": [
              "<Figure size 1000x600 with 1 Axes>"
            ],
            "image/png": "[encoded data removed]"
          },
          "metadata": {}
        }
      ]
    },
    {
      "cell_type": "code",
      "source": [
        "from imblearn.over_sampling import SMOTE\n",
        "import numpy as np\n",
        "import pandas as pd\n",
        "\n",
        "# Assuming `df` is your original dataset\n",
        "X = df.drop(columns=['Diagnostic_encoded'])  # Features\n",
        "y = df['Diagnostic_encoded']                 # Target Variable\n",
        "\n",
        "# Define new sampling strategy based on encoded values\n",
        "sampling_strategy = {\n",
        "    1.0: 4800,\n",
        "    2.0: 3700,\n",
        "    3.0: 3500,\n",
        "    5.0: 3900,\n",
        "    4.0: 3200\n",
        "}\n",
        "\n",
        "# Apply SMOTE with custom distribution\n",
        "smote = SMOTE(sampling_strategy=sampling_strategy, random_state=42)\n",
        "X_resampled, y_resampled = smote.fit_resample(X, y)\n",
        "\n",
        "# Convert back to DataFrame\n",
        "df = pd.DataFrame(X_resampled, columns=X.columns)\n",
        "df['Diagnostic_encoded'] = y_resampled\n",
        "\n",
        "# Check new class distribution\n",
        "print(df['Diagnostic_encoded'].value_counts(normalize=True) * 100)"
      ],
      "metadata": {
        "colab": {
          "base_uri": "https://localhost:8080/"
        },
        "id": "6u18_a4VlOaK",
        "outputId": "1dcca1c1-8d6e-4f8a-a74f-4099854be7e1"
      },
      "execution_count": 11,
      "outputs": [
        {
          "output_type": "stream",
          "name": "stdout",
          "text": [
            "Diagnostic_encoded\n",
            "0.0    33.569839\n",
            "1.0    16.694491\n",
            "5.0    13.564274\n",
            "2.0    12.868670\n",
            "3.0    12.173066\n",
            "4.0    11.129661\n",
            "Name: proportion, dtype: float64\n"
          ]
        }
      ]
    },
    {
      "cell_type": "code",
      "source": [
        "plt.figure(figsize=(10, 6))\n",
        "sns.histplot(df['Diagnostic_encoded'], kde=True,color=\"pink\")\n",
        "plt.title('Histogram of Diagnostic Encoded')\n",
        "plt.xlabel('Diagnostic Encoded')\n",
        "plt.ylabel('Frequency')\n",
        "plt.show()\n"
      ],
      "metadata": {
        "colab": {
          "base_uri": "https://localhost:8080/",
          "height": 563
        },
        "id": "qS6aJHfTpkkq",
        "outputId": "7544b695-5aa2-4b44-ee84-091b4f210c6a"
      },
      "execution_count": 12,
      "outputs": [
        {
          "output_type": "display_data",
          "data": {
            "text/plain": [
              "<Figure size 1000x600 with 1 Axes>"
            ],
            "image/png": "[encoded data removed]"
          },
          "metadata": {}
        }
      ]
    },
    {
      "cell_type": "code",
      "source": [
        "# Calculate the correlation matrix\n",
        "correlation_matrix = df.corr()\n",
        "\n",
        "# Create a heatmap\n",
        "plt.figure(figsize=(12, 10))\n",
        "sns.heatmap(correlation_matrix, annot=True, cmap='coolwarm', fmt=\".2f\")\n",
        "plt.title('Correlation Matrix of Features')\n",
        "plt.show()\n"
      ],
      "metadata": {
        "colab": {
          "base_uri": "https://localhost:8080/",
          "height": 1000
        },
        "id": "L7LR46Pf3ib-",
        "outputId": "ac031b0a-25a4-4d9e-a832-bf4469e52ad4"
      },
      "execution_count": 13,
      "outputs": [
        {
          "output_type": "display_data",
          "data": {
            "text/plain": [
              "<Figure size 1200x1000 with 2 Axes>"
            ],
            "image/png": "[encoded data removed]"
          },
          "metadata": {}
        }
      ]
    },
    {
      "cell_type": "code",
      "source": [
        "# Create box plots for all numerical features\n",
        "plt.figure(figsize=(15, 10))\n",
        "for i, col in enumerate(df.select_dtypes(include=np.number).columns):\n",
        "    plt.subplot(3, 3, i + 1)\n",
        "    sns.boxplot(y=df[col])\n",
        "    plt.title(col)\n",
        "plt.tight_layout()\n",
        "plt.show()\n"
      ],
      "metadata": {
        "colab": {
          "base_uri": "https://localhost:8080/",
          "height": 681
        },
        "id": "k_igcbwD3wyP",
        "outputId": "f1c5cd53-2f5a-418c-a1d7-9c659509aa0a"
      },
      "execution_count": 14,
      "outputs": [
        {
          "output_type": "display_data",
          "data": {
            "text/plain": [
              "<Figure size 1500x1000 with 6 Axes>"
            ],
            "image/png": "[encoded data removed]"
          },
          "metadata": {}
        }
      ]
    },
    {
      "cell_type": "code",
      "source": [
        "def calculate_iqr_outliers(df):\n",
        "  \"\"\"\n",
        "  Calculates the IQR and counts outliers for numerical features in a DataFrame.\n",
        "\n",
        "  Args:\n",
        "    df: The DataFrame to analyze.\n",
        "\n",
        "  Returns:\n",
        "    A dictionary with feature names as keys and a tuple of (IQR, outlier_count) as values.\n",
        "  \"\"\"\n",
        "  outlier_info = {}\n",
        "  for column in df.select_dtypes(include=['number']).columns:\n",
        "    if column != 'Diagnostic_encoded':  # Exclude the target variable\n",
        "      Q1 = df[column].quantile(0.25)\n",
        "      Q3 = df[column].quantile(0.75)\n",
        "      IQR = Q3 - Q1\n",
        "      lower_bound = Q1 - 1.5 * IQR\n",
        "      upper_bound = Q3 + 1.5 * IQR\n",
        "      outlier_count = len(df[(df[column] < lower_bound) | (df[column] > upper_bound)])\n",
        "      outlier_info[column] = (IQR, outlier_count)\n",
        "  return outlier_info\n",
        "\n",
        "# Calculate IQR and outlier counts for df_balanced\n",
        "outlier_counts_df = calculate_iqr_outliers(df)\n",
        "\n",
        "\n",
        "# Print the results\n",
        "for feature, (IQR, outlier_count) in outlier_counts_df.items():\n",
        "  print(f\"Feature: {feature}, IQR: {IQR:.2f}, Outlier Count: {outlier_count}\")"
      ],
      "metadata": {
        "colab": {
          "base_uri": "https://localhost:8080/"
        },
        "id": "Msa4nCu20dk3",
        "outputId": "86de9bc3-ce39-4fb3-b478-7b3507926115"
      },
      "execution_count": 15,
      "outputs": [
        {
          "output_type": "stream",
          "name": "stdout",
          "text": [
            "Feature: Air temperature (K), IQR: 10.00, Outlier Count: 0\n",
            "Feature: Process temperature (K), IQR: 9.00, Outlier Count: 0\n",
            "Feature: Rotational speed (rpm), IQR: 318.78, Outlier Count: 1693\n",
            "Feature: Torque (Nm), IQR: 19.46, Outlier Count: 267\n",
            "Feature: Tool wear (min), IQR: 97.59, Outlier Count: 0\n"
          ]
        }
      ]
    },
    {
      "cell_type": "code",
      "source": [
        "# # Define the IQR range for 'Rotational speed (rpm)' and 'Tool wear (min)'\n",
        "# Q1 = df[['Rotational speed (rpm)', 'Tool wear (min)']].quantile(0.25)\n",
        "# Q3 = df[['Rotational speed (rpm)', 'Tool wear (min)']].quantile(0.75)\n",
        "# IQR = Q3 - Q1\n",
        "\n",
        "# # Define outlier boundaries\n",
        "# lower_bound = Q1 - 1.5 * IQR\n",
        "# upper_bound = Q3 + 1.5 * IQR\n",
        "\n",
        "# # Filter the DataFrame to remove outliers\n",
        "# df = df[\n",
        "#     (df['Rotational speed (rpm)'] >= lower_bound['Rotational speed (rpm)']) &\n",
        "#     (df['Rotational speed (rpm)'] <= upper_bound['Rotational speed (rpm)']) &\n",
        "#     (df['Tool wear (min)'] >= lower_bound['Tool wear (min)']) &\n",
        "#     (df['Tool wear (min)'] <= upper_bound['Tool wear (min)'])\n",
        "# ]\n",
        "\n",
        "# print(f\"New dataset shape after outlier removal: {df.shape}\")\n"
      ],
      "metadata": {
        "id": "uxBz7N_S0zfV"
      },
      "execution_count": null,
      "outputs": []
    },
    {
      "cell_type": "code",
      "source": [
        "print(df['Diagnostic_encoded'].nunique())\n"
      ],
      "metadata": {
        "colab": {
          "base_uri": "https://localhost:8080/"
        },
        "id": "3938tilyC5Dk",
        "outputId": "f6fc4f8e-dc6a-4720-b452-e919b3e121a1"
      },
      "execution_count": 16,
      "outputs": [
        {
          "output_type": "stream",
          "name": "stdout",
          "text": [
            "6\n"
          ]
        }
      ]
    },
    {
      "cell_type": "code",
      "source": [
        "from sklearn.model_selection import train_test_split\n",
        "\n",
        "# Define features (X) and target (y)\n",
        "X = df.drop(columns=['Diagnostic_encoded'])\n",
        "y = df['Diagnostic_encoded']\n",
        "\n",
        "# Get unique classes\n",
        "classes = y.unique()\n",
        "\n",
        "# Separate out each class\n",
        "X_class = {cls: X[y == cls] for cls in classes}\n",
        "y_class = {cls: y[y == cls] for cls in classes}\n",
        "\n",
        "# Set aside at least one sample from each class for test\n",
        "X_test_list = []\n",
        "y_test_list = []\n",
        "\n",
        "for cls in classes:\n",
        "    X_cls, X_remaining, y_cls, y_remaining = train_test_split(\n",
        "        X_class[cls], y_class[cls], test_size=0.8, random_state=42  # Keep 20% as test\n",
        "    )\n",
        "\n",
        "    X_test_list.append(X_cls)\n",
        "    y_test_list.append(y_cls)\n",
        "\n",
        "    X_class[cls] = X_remaining\n",
        "    y_class[cls] = y_remaining\n",
        "\n",
        "# Combine test sets\n",
        "X_test = pd.concat(X_test_list, axis=0)\n",
        "y_test = pd.concat(y_test_list, axis=0)\n",
        "\n",
        "# Combine remaining samples and split into train/val\n",
        "X_remaining = pd.concat(X_class.values(), axis=0)\n",
        "y_remaining = pd.concat(y_class.values(), axis=0)\n",
        "\n",
        "X_train, X_val, y_train, y_val = train_test_split(\n",
        "    X_remaining, y_remaining, test_size=0.2, random_state=42, stratify=y_remaining\n",
        ")\n",
        "\n",
        "# Print class distributions\n",
        "print(\"Class distribution in training set:\\n\", y_train.value_counts())\n",
        "print(\"Class distribution in test set:\\n\", y_test.value_counts())"
      ],
      "metadata": {
        "colab": {
          "base_uri": "https://localhost:8080/"
        },
        "id": "Gb4d7wUM4RFg",
        "outputId": "d31d6443-b933-4bf5-d674-4a68569d16cf"
      },
      "execution_count": 17,
      "outputs": [
        {
          "output_type": "stream",
          "name": "stdout",
          "text": [
            "Class distribution in training set:\n",
            " Diagnostic_encoded\n",
            "0.0    6177\n",
            "1.0    3072\n",
            "5.0    2496\n",
            "2.0    2368\n",
            "3.0    2240\n",
            "4.0    2048\n",
            "Name: count, dtype: int64\n",
            "Class distribution in test set:\n",
            " Diagnostic_encoded\n",
            "0.0    1930\n",
            "1.0     960\n",
            "5.0     780\n",
            "2.0     740\n",
            "3.0     700\n",
            "4.0     640\n",
            "Name: count, dtype: int64\n"
          ]
        }
      ]
    },
    {
      "cell_type": "code",
      "source": [
        "# Initialize the scaler\n",
        "scaler = StandardScaler()\n",
        "\n",
        "# Fit on training data and transform both train and test sets\n",
        "X_train_scaled = scaler.fit_transform(X_train)\n",
        "X_test_scaled = scaler.transform(X_test)"
      ],
      "metadata": {
        "id": "8Bue1eT0479_"
      },
      "execution_count": 18,
      "outputs": []
    },
    {
      "cell_type": "code",
      "source": [
        "!pip install pytorch-tabnet\n",
        "from pytorch_tabnet.tab_model import TabNetClassifier"
      ],
      "metadata": {
        "colab": {
          "base_uri": "https://localhost:8080/"
        },
        "collapsed": true,
        "id": "QzVxwbe56Rai",
        "outputId": "dfbe43a3-bc26-4abf-ddd6-fbba4f07b375"
      },
      "execution_count": 20,
      "outputs": [
        {
          "output_type": "stream",
          "name": "stdout",
          "text": [
            "Collecting pytorch-tabnet\n",
            "  Downloading pytorch_tabnet-4.1.0-py3-none-any.whl.metadata (15 kB)\n",
            "Requirement already satisfied: numpy>=1.17 in /usr/local/lib/python3.11/dist-packages (from pytorch-tabnet) (2.0.2)\n",
            "Requirement already satisfied: scikit_learn>0.21 in /usr/local/lib/python3.11/dist-packages (from pytorch-tabnet) (1.6.1)\n",
            "Requirement already satisfied: scipy>1.4 in /usr/local/lib/python3.11/dist-packages (from pytorch-tabnet) (1.14.1)\n",
            "Requirement already satisfied: torch>=1.3 in /usr/local/lib/python3.11/dist-packages (from pytorch-tabnet) (2.6.0+cu124)\n",
            "Requirement already satisfied: tqdm>=4.36 in /usr/local/lib/python3.11/dist-packages (from pytorch-tabnet) (4.67.1)\n",
            "Requirement already satisfied: joblib>=1.2.0 in /usr/local/lib/python3.11/dist-packages (from scikit_learn>0.21->pytorch-tabnet) (1.4.2)\n",
            "Requirement already satisfied: threadpoolctl>=3.1.0 in /usr/local/lib/python3.11/dist-packages (from scikit_learn>0.21->pytorch-tabnet) (3.6.0)\n",
            "Requirement already satisfied: filelock in /usr/local/lib/python3.11/dist-packages (from torch>=1.3->pytorch-tabnet) (3.18.0)\n",
            "Requirement already satisfied: typing-extensions>=4.10.0 in /usr/local/lib/python3.11/dist-packages (from torch>=1.3->pytorch-tabnet) (4.12.2)\n",
            "Requirement already satisfied: networkx in /usr/local/lib/python3.11/dist-packages (from torch>=1.3->pytorch-tabnet) (3.4.2)\n",
            "Requirement already satisfied: jinja2 in /usr/local/lib/python3.11/dist-packages (from torch>=1.3->pytorch-tabnet) (3.1.6)\n",
            "Requirement already satisfied: fsspec in /usr/local/lib/python3.11/dist-packages (from torch>=1.3->pytorch-tabnet) (2025.3.0)\n",
            "Collecting nvidia-cuda-nvrtc-cu12==12.4.127 (from torch>=1.3->pytorch-tabnet)\n",
            "  Downloading nvidia_cuda_nvrtc_cu12-12.4.127-py3-none-manylinux2014_x86_64.whl.metadata (1.5 kB)\n",
            "Collecting nvidia-cuda-runtime-cu12==12.4.127 (from torch>=1.3->pytorch-tabnet)\n",
            "  Downloading nvidia_cuda_runtime_cu12-12.4.127-py3-none-manylinux2014_x86_64.whl.metadata (1.5 kB)\n",
            "Collecting nvidia-cuda-cupti-cu12==12.4.127 (from torch>=1.3->pytorch-tabnet)\n",
            "  Downloading nvidia_cuda_cupti_cu12-12.4.127-py3-none-manylinux2014_x86_64.whl.metadata (1.6 kB)\n",
            "Collecting nvidia-cudnn-cu12==9.1.0.70 (from torch>=1.3->pytorch-tabnet)\n",
            "  Downloading nvidia_cudnn_cu12-9.1.0.70-py3-none-manylinux2014_x86_64.whl.metadata (1.6 kB)\n",
            "Collecting nvidia-cublas-cu12==12.4.5.8 (from torch>=1.3->pytorch-tabnet)\n",
            "  Downloading nvidia_cublas_cu12-12.4.5.8-py3-none-manylinux2014_x86_64.whl.metadata (1.5 kB)\n",
            "Collecting nvidia-cufft-cu12==11.2.1.3 (from torch>=1.3->pytorch-tabnet)\n",
            "  Downloading nvidia_cufft_cu12-11.2.1.3-py3-none-manylinux2014_x86_64.whl.metadata (1.5 kB)\n",
            "Collecting nvidia-curand-cu12==10.3.5.147 (from torch>=1.3->pytorch-tabnet)\n",
            "  Downloading nvidia_curand_cu12-10.3.5.147-py3-none-manylinux2014_x86_64.whl.metadata (1.5 kB)\n",
            "Collecting nvidia-cusolver-cu12==11.6.1.9 (from torch>=1.3->pytorch-tabnet)\n",
            "  Downloading nvidia_cusolver_cu12-11.6.1.9-py3-none-manylinux2014_x86_64.whl.metadata (1.6 kB)\n",
            "Collecting nvidia-cusparse-cu12==12.3.1.170 (from torch>=1.3->pytorch-tabnet)\n",
            "  Downloading nvidia_cusparse_cu12-12.3.1.170-py3-none-manylinux2014_x86_64.whl.metadata (1.6 kB)\n",
            "Requirement already satisfied: nvidia-cusparselt-cu12==0.6.2 in /usr/local/lib/python3.11/dist-packages (from torch>=1.3->pytorch-tabnet) (0.6.2)\n",
            "Requirement already satisfied: nvidia-nccl-cu12==2.21.5 in /usr/local/lib/python3.11/dist-packages (from torch>=1.3->pytorch-tabnet) (2.21.5)\n",
            "Requirement already satisfied: nvidia-nvtx-cu12==12.4.127 in /usr/local/lib/python3.11/dist-packages (from torch>=1.3->pytorch-tabnet) (12.4.127)\n",
            "Collecting nvidia-nvjitlink-cu12==12.4.127 (from torch>=1.3->pytorch-tabnet)\n",
            "  Downloading nvidia_nvjitlink_cu12-12.4.127-py3-none-manylinux2014_x86_64.whl.metadata (1.5 kB)\n",
            "Requirement already satisfied: triton==3.2.0 in /usr/local/lib/python3.11/dist-packages (from torch>=1.3->pytorch-tabnet) (3.2.0)\n",
            "Requirement already satisfied: sympy==1.13.1 in /usr/local/lib/python3.11/dist-packages (from torch>=1.3->pytorch-tabnet) (1.13.1)\n",
            "Requirement already satisfied: mpmath<1.4,>=1.1.0 in /usr/local/lib/python3.11/dist-packages (from sympy==1.13.1->torch>=1.3->pytorch-tabnet) (1.3.0)\n",
            "Requirement already satisfied: MarkupSafe>=2.0 in /usr/local/lib/python3.11/dist-packages (from jinja2->torch>=1.3->pytorch-tabnet) (3.0.2)\n",
            "Downloading pytorch_tabnet-4.1.0-py3-none-any.whl (44 kB)\n",
            "\u001b[2K   \u001b[90m━━━━━━━━━━━━━━━━━━━━━━━━━━━━━━━━━━━━━━━━\u001b[0m \u001b[32m44.5/44.5 kB\u001b[0m \u001b[31m2.7 MB/s\u001b[0m eta \u001b[36m0:00:00\u001b[0m\n",
            "\u001b[?25hDownloading nvidia_cublas_cu12-12.4.5.8-py3-none-manylinux2014_x86_64.whl (363.4 MB)\n",
            "\u001b[2K   \u001b[90m━━━━━━━━━━━━━━━━━━━━━━━━━━━━━━━━━━━━━━━━\u001b[0m \u001b[32m363.4/363.4 MB\u001b[0m \u001b[31m3.6 MB/s\u001b[0m eta \u001b[36m0:00:00\u001b[0m\n",
            "\u001b[?25hDownloading nvidia_cuda_cupti_cu12-12.4.127-py3-none-manylinux2014_x86_64.whl (13.8 MB)\n",
            "\u001b[2K   \u001b[90m━━━━━━━━━━━━━━━━━━━━━━━━━━━━━━━━━━━━━━━━\u001b[0m \u001b[32m13.8/13.8 MB\u001b[0m \u001b[31m79.2 MB/s\u001b[0m eta \u001b[36m0:00:00\u001b[0m\n",
            "\u001b[?25hDownloading nvidia_cuda_nvrtc_cu12-12.4.127-py3-none-manylinux2014_x86_64.whl (24.6 MB)\n",
            "\u001b[2K   \u001b[90m━━━━━━━━━━━━━━━━━━━━━━━━━━━━━━━━━━━━━━━━\u001b[0m \u001b[32m24.6/24.6 MB\u001b[0m \u001b[31m74.5 MB/s\u001b[0m eta \u001b[36m0:00:00\u001b[0m\n",
            "\u001b[?25hDownloading nvidia_cuda_runtime_cu12-12.4.127-py3-none-manylinux2014_x86_64.whl (883 kB)\n",
            "\u001b[2K   \u001b[90m━━━━━━━━━━━━━━━━━━━━━━━━━━━━━━━━━━━━━━━━\u001b[0m \u001b[32m883.7/883.7 kB\u001b[0m \u001b[31m46.0 MB/s\u001b[0m eta \u001b[36m0:00:00\u001b[0m\n",
            "\u001b[?25hDownloading nvidia_cudnn_cu12-9.1.0.70-py3-none-manylinux2014_x86_64.whl (664.8 MB)\n",
            "\u001b[2K   \u001b[90m━━━━━━━━━━━━━━━━━━━━━━━━━━━━━━━━━━━━━━━━\u001b[0m \u001b[32m664.8/664.8 MB\u001b[0m \u001b[31m1.5 MB/s\u001b[0m eta \u001b[36m0:00:00\u001b[0m\n",
            "\u001b[?25hDownloading nvidia_cufft_cu12-11.2.1.3-py3-none-manylinux2014_x86_64.whl (211.5 MB)\n",
            "\u001b[2K   \u001b[90m━━━━━━━━━━━━━━━━━━━━━━━━━━━━━━━━━━━━━━━━\u001b[0m \u001b[32m211.5/211.5 MB\u001b[0m \u001b[31m7.0 MB/s\u001b[0m eta \u001b[36m0:00:00\u001b[0m\n",
            "\u001b[?25hDownloading nvidia_curand_cu12-10.3.5.147-py3-none-manylinux2014_x86_64.whl (56.3 MB)\n",
            "\u001b[2K   \u001b[90m━━━━━━━━━━━━━━━━━━━━━━━━━━━━━━━━━━━━━━━━\u001b[0m \u001b[32m56.3/56.3 MB\u001b[0m \u001b[31m14.4 MB/s\u001b[0m eta \u001b[36m0:00:00\u001b[0m\n",
            "\u001b[?25hDownloading nvidia_cusolver_cu12-11.6.1.9-py3-none-manylinux2014_x86_64.whl (127.9 MB)\n",
            "\u001b[2K   \u001b[90m━━━━━━━━━━━━━━━━━━━━━━━━━━━━━━━━━━━━━━━━\u001b[0m \u001b[32m127.9/127.9 MB\u001b[0m \u001b[31m6.8 MB/s\u001b[0m eta \u001b[36m0:00:00\u001b[0m\n",
            "\u001b[?25hDownloading nvidia_cusparse_cu12-12.3.1.170-py3-none-manylinux2014_x86_64.whl (207.5 MB)\n",
            "\u001b[2K   \u001b[90m━━━━━━━━━━━━━━━━━━━━━━━━━━━━━━━━━━━━━━━━\u001b[0m \u001b[32m207.5/207.5 MB\u001b[0m \u001b[31m5.7 MB/s\u001b[0m eta \u001b[36m0:00:00\u001b[0m\n",
            "\u001b[?25hDownloading nvidia_nvjitlink_cu12-12.4.127-py3-none-manylinux2014_x86_64.whl (21.1 MB)\n",
            "\u001b[2K   \u001b[90m━━━━━━━━━━━━━━━━━━━━━━━━━━━━━━━━━━━━━━━━\u001b[0m \u001b[32m21.1/21.1 MB\u001b[0m \u001b[31m77.5 MB/s\u001b[0m eta \u001b[36m0:00:00\u001b[0m\n",
            "\u001b[?25hInstalling collected packages: nvidia-nvjitlink-cu12, nvidia-curand-cu12, nvidia-cufft-cu12, nvidia-cuda-runtime-cu12, nvidia-cuda-nvrtc-cu12, nvidia-cuda-cupti-cu12, nvidia-cublas-cu12, nvidia-cusparse-cu12, nvidia-cudnn-cu12, nvidia-cusolver-cu12, pytorch-tabnet\n",
            "  Attempting uninstall: nvidia-nvjitlink-cu12\n",
            "    Found existing installation: nvidia-nvjitlink-cu12 12.5.82\n",
            "    Uninstalling nvidia-nvjitlink-cu12-12.5.82:\n",
            "      Successfully uninstalled nvidia-nvjitlink-cu12-12.5.82\n",
            "  Attempting uninstall: nvidia-curand-cu12\n",
            "    Found existing installation: nvidia-curand-cu12 10.3.6.82\n",
            "    Uninstalling nvidia-curand-cu12-10.3.6.82:\n",
            "      Successfully uninstalled nvidia-curand-cu12-10.3.6.82\n",
            "  Attempting uninstall: nvidia-cufft-cu12\n",
            "    Found existing installation: nvidia-cufft-cu12 11.2.3.61\n",
            "    Uninstalling nvidia-cufft-cu12-11.2.3.61:\n",
            "      Successfully uninstalled nvidia-cufft-cu12-11.2.3.61\n",
            "  Attempting uninstall: nvidia-cuda-runtime-cu12\n",
            "    Found existing installation: nvidia-cuda-runtime-cu12 12.5.82\n",
            "    Uninstalling nvidia-cuda-runtime-cu12-12.5.82:\n",
            "      Successfully uninstalled nvidia-cuda-runtime-cu12-12.5.82\n",
            "  Attempting uninstall: nvidia-cuda-nvrtc-cu12\n",
            "    Found existing installation: nvidia-cuda-nvrtc-cu12 12.5.82\n",
            "    Uninstalling nvidia-cuda-nvrtc-cu12-12.5.82:\n",
            "      Successfully uninstalled nvidia-cuda-nvrtc-cu12-12.5.82\n",
            "  Attempting uninstall: nvidia-cuda-cupti-cu12\n",
            "    Found existing installation: nvidia-cuda-cupti-cu12 12.5.82\n",
            "    Uninstalling nvidia-cuda-cupti-cu12-12.5.82:\n",
            "      Successfully uninstalled nvidia-cuda-cupti-cu12-12.5.82\n",
            "  Attempting uninstall: nvidia-cublas-cu12\n",
            "    Found existing installation: nvidia-cublas-cu12 12.5.3.2\n",
            "    Uninstalling nvidia-cublas-cu12-12.5.3.2:\n",
            "      Successfully uninstalled nvidia-cublas-cu12-12.5.3.2\n",
            "  Attempting uninstall: nvidia-cusparse-cu12\n",
            "    Found existing installation: nvidia-cusparse-cu12 12.5.1.3\n",
            "    Uninstalling nvidia-cusparse-cu12-12.5.1.3:\n",
            "      Successfully uninstalled nvidia-cusparse-cu12-12.5.1.3\n",
            "  Attempting uninstall: nvidia-cudnn-cu12\n",
            "    Found existing installation: nvidia-cudnn-cu12 9.3.0.75\n",
            "    Uninstalling nvidia-cudnn-cu12-9.3.0.75:\n",
            "      Successfully uninstalled nvidia-cudnn-cu12-9.3.0.75\n",
            "  Attempting uninstall: nvidia-cusolver-cu12\n",
            "    Found existing installation: nvidia-cusolver-cu12 11.6.3.83\n",
            "    Uninstalling nvidia-cusolver-cu12-11.6.3.83:\n",
            "      Successfully uninstalled nvidia-cusolver-cu12-11.6.3.83\n",
            "Successfully installed nvidia-cublas-cu12-12.4.5.8 nvidia-cuda-cupti-cu12-12.4.127 nvidia-cuda-nvrtc-cu12-12.4.127 nvidia-cuda-runtime-cu12-12.4.127 nvidia-cudnn-cu12-9.1.0.70 nvidia-cufft-cu12-11.2.1.3 nvidia-curand-cu12-10.3.5.147 nvidia-cusolver-cu12-11.6.1.9 nvidia-cusparse-cu12-12.3.1.170 nvidia-nvjitlink-cu12-12.4.127 pytorch-tabnet-4.1.0\n"
          ]
        }
      ]
    },
    {
      "cell_type": "code",
      "source": [
        "from sklearn.utils.class_weight import compute_class_weight\n",
        "\n",
        "# Compute class weights\n",
        "class_weights = compute_class_weight(class_weight=\"balanced\", classes=np.unique(y_train), y=y_train)\n",
        "class_weights_dict = {cls: weight for cls, weight in zip(np.unique(y_train), class_weights)}\n",
        "\n",
        "# Create sample weights based on the training labels\n",
        "sample_weights = np.array([class_weights_dict[label] for label in y_train])\n",
        "\n",
        "# Initialize the TabNet model with stronger regularization\n",
        "tabnet_model = TabNetClassifier(\n",
        "    n_d=6,               # Dimension of the prediction layer\n",
        "    n_a=6,               # Dimension of the attention layer\n",
        "    n_steps=3,           # Number of steps in the architecture\n",
        "    gamma=1.3,           # Slightly lower scaling factor (reduces sensitivity)\n",
        "    lambda_sparse=1e-3,  # Higher sparsity regularization (prevents overfitting)\n",
        "    optimizer_params=dict(lr=1e-3),  # Lower learning rate (more stable training)\n",
        "    scheduler_params={\"step_size\":8, \"gamma\":0.8},\n",
        "    scheduler_fn=torch.optim.lr_scheduler.StepLR,  # Learning rate scheduler\n",
        "    mask_type='entmax',   # Masking function\n",
        "    momentum=0.35         # Adds Dropout to prevent overfitting\n",
        ")\n",
        "\n",
        "# Train the model with sample weights and early stopping\n",
        "tabnet_model.fit(\n",
        "    X_train_scaled, y_train,\n",
        "    eval_set=[(X_test_scaled, y_test)],\n",
        "    eval_name=['test'],\n",
        "    eval_metric=['accuracy'],  # More robust evaluation metric\n",
        "    max_epochs=25,  # Reduce training time to prevent memorization\n",
        "    patience=3,  # Stop training if no improvement in x epochs\n",
        "    batch_size=1024,  # Reduce batch size (helps generalization)\n",
        "    virtual_batch_size=1024,\n",
        "    num_workers=0,\n",
        "    weights=sample_weights,  # Apply class weights\n",
        "    drop_last=False\n",
        ")\n",
        "\n",
        "# Save the trained model\n",
        "joblib.dump(tabnet_model, \"tabnet_model.pkl\")\n"
      ],
      "metadata": {
        "colab": {
          "base_uri": "https://localhost:8080/"
        },
        "id": "2UVkVHyS4_Vm",
        "outputId": "416a6736-51a5-4989-f76c-62007cf32f7b"
      },
      "execution_count": 21,
      "outputs": [
        {
          "output_type": "stream",
          "name": "stderr",
          "text": [
            "/usr/local/lib/python3.11/dist-packages/pytorch_tabnet/abstract_model.py:82: UserWarning: Device used : cpu\n",
            "  warnings.warn(f\"Device used : {self.device}\")\n"
          ]
        },
        {
          "output_type": "stream",
          "name": "stdout",
          "text": [
            "epoch 0  | loss: 2.09695 | test_accuracy: 0.30609 |  0:00:01s\n",
            "epoch 1  | loss: 1.69323 | test_accuracy: 0.44052 |  0:00:02s\n",
            "epoch 2  | loss: 1.47189 | test_accuracy: 0.53026 |  0:00:03s\n",
            "epoch 3  | loss: 1.29948 | test_accuracy: 0.56087 |  0:00:03s\n",
            "epoch 4  | loss: 1.17193 | test_accuracy: 0.60713 |  0:00:04s\n",
            "epoch 5  | loss: 1.06288 | test_accuracy: 0.6807  |  0:00:05s\n",
            "epoch 6  | loss: 0.95299 | test_accuracy: 0.71252 |  0:00:06s\n",
            "epoch 7  | loss: 0.85091 | test_accuracy: 0.73217 |  0:00:07s\n",
            "epoch 8  | loss: 0.76323 | test_accuracy: 0.73635 |  0:00:08s\n",
            "epoch 9  | loss: 0.69465 | test_accuracy: 0.74748 |  0:00:08s\n",
            "epoch 10 | loss: 0.64285 | test_accuracy: 0.75183 |  0:00:09s\n",
            "epoch 11 | loss: 0.59164 | test_accuracy: 0.75583 |  0:00:10s\n",
            "epoch 12 | loss: 0.5582  | test_accuracy: 0.7593  |  0:00:11s\n",
            "epoch 13 | loss: 0.51867 | test_accuracy: 0.77165 |  0:00:12s\n",
            "epoch 14 | loss: 0.4995  | test_accuracy: 0.776   |  0:00:13s\n",
            "epoch 15 | loss: 0.46183 | test_accuracy: 0.77843 |  0:00:15s\n",
            "epoch 16 | loss: 0.4559  | test_accuracy: 0.78904 |  0:00:16s\n",
            "epoch 17 | loss: 0.42966 | test_accuracy: 0.78609 |  0:00:16s\n",
            "epoch 18 | loss: 0.41471 | test_accuracy: 0.79322 |  0:00:17s\n",
            "epoch 19 | loss: 0.4123  | test_accuracy: 0.79635 |  0:00:18s\n",
            "epoch 20 | loss: 0.39533 | test_accuracy: 0.89617 |  0:00:19s\n",
            "epoch 21 | loss: 0.37514 | test_accuracy: 0.91757 |  0:00:20s\n",
            "epoch 22 | loss: 0.36079 | test_accuracy: 0.94452 |  0:00:21s\n",
            "epoch 23 | loss: 0.34685 | test_accuracy: 0.95739 |  0:00:22s\n",
            "epoch 24 | loss: 0.32837 | test_accuracy: 0.96522 |  0:00:22s\n",
            "Stop training because you reached max_epochs = 25 with best_epoch = 24 and best_test_accuracy = 0.96522\n"
          ]
        },
        {
          "output_type": "stream",
          "name": "stderr",
          "text": [
            "/usr/local/lib/python3.11/dist-packages/pytorch_tabnet/callbacks.py:172: UserWarning: Best weights from best epoch are automatically used!\n",
            "  warnings.warn(wrn_msg)\n"
          ]
        },
        {
          "output_type": "execute_result",
          "data": {
            "text/plain": [
              "['tabnet_model.pkl']"
            ]
          },
          "metadata": {},
          "execution_count": 21
        }
      ]
    },
    {
      "cell_type": "code",
      "source": [
        "# Make predictions on test data\n",
        "y_pred = tabnet_model.predict(X_test_scaled)\n",
        "\n",
        "# Print evaluation metrics\n",
        "print(\"Model Performance Metrics:\")\n",
        "print(classification_report(y_test, y_pred, digits=4))"
      ],
      "metadata": {
        "colab": {
          "base_uri": "https://localhost:8080/"
        },
        "id": "kXLqhKAc7DqJ",
        "outputId": "640979b5-eefd-4b08-efb4-a658448a5c3d"
      },
      "execution_count": 22,
      "outputs": [
        {
          "output_type": "stream",
          "name": "stdout",
          "text": [
            "Model Performance Metrics:\n",
            "              precision    recall  f1-score   support\n",
            "\n",
            "         0.0     0.9972    0.9259    0.9602      1930\n",
            "         1.0     0.9905    0.9781    0.9843       960\n",
            "         2.0     0.9933    0.9959    0.9946       740\n",
            "         3.0     0.9955    0.9543    0.9745       700\n",
            "         4.0     0.7968    0.9984    0.8863       640\n",
            "         5.0     0.9811    1.0000    0.9905       780\n",
            "\n",
            "    accuracy                         0.9652      5750\n",
            "   macro avg     0.9591    0.9755    0.9651      5750\n",
            "weighted avg     0.9709    0.9652    0.9663      5750\n",
            "\n"
          ]
        }
      ]
    },
    {
      "cell_type": "code",
      "source": [
        "import torch\n",
        "import torch.nn as nn\n",
        "import torch.nn.functional as F\n",
        "import numpy as np\n",
        "from sklearn.preprocessing import StandardScaler\n",
        "from sklearn.model_selection import train_test_split\n",
        "from torch.utils.data import DataLoader, TensorDataset\n",
        "\n",
        "class NativeSparseAttention(nn.Module):\n",
        "    def __init__(self, dim, num_heads):\n",
        "        super(NativeSparseAttention, self).__init__()\n",
        "        self.num_heads = num_heads\n",
        "        self.head_dim = dim // num_heads\n",
        "        assert self.head_dim * num_heads == dim, \"dim must be divisible by num_heads\"\n",
        "\n",
        "        self.query = nn.Linear(dim, dim)\n",
        "        self.key = nn.Linear(dim, dim)\n",
        "        self.value = nn.Linear(dim, dim)\n",
        "        self.proj = nn.Linear(dim, dim)\n",
        "\n",
        "        # Sparse attention parameters\n",
        "        self.dropout = nn.Dropout(0.1)\n",
        "        self.scale = self.head_dim ** -0.5\n",
        "\n",
        "    def forward(self, x):\n",
        "        batch_size, seq_len, dim = x.size()\n",
        "\n",
        "        # Project queries, keys, and values\n",
        "        q = self.query(x).reshape(batch_size, seq_len, self.num_heads, self.head_dim).permute(0, 2, 1, 3)\n",
        "        k = self.key(x).reshape(batch_size, seq_len, self.num_heads, self.head_dim).permute(0, 2, 1, 3)\n",
        "        v = self.value(x).reshape(batch_size, seq_len, self.num_heads, self.head_dim).permute(0, 2, 1, 3)\n",
        "\n",
        "        # Compute attention scores\n",
        "        scores = torch.matmul(q, k.transpose(-2, -1)) * self.scale\n",
        "\n",
        "        # Apply sparse mask (keeping only top-k values per row)\n",
        "        k = min(int(seq_len * 0.3), seq_len)  # Keep top 30% of values\n",
        "        topk_values, topk_indices = torch.topk(scores, k, dim=-1)\n",
        "        sparse_scores = torch.zeros_like(scores).scatter_(-1, topk_indices, topk_values)\n",
        "\n",
        "        # Apply softmax and dropout\n",
        "        attn = F.softmax(sparse_scores, dim=-1)\n",
        "        attn = self.dropout(attn)\n",
        "\n",
        "        # Apply attention to values\n",
        "        out = torch.matmul(attn, v).permute(0, 2, 1, 3).reshape(batch_size, seq_len, dim)\n",
        "        out = self.proj(out)\n",
        "\n",
        "        return out\n",
        "\n",
        "class NSALayer(nn.Module):\n",
        "    def __init__(self, dim, num_heads):\n",
        "        super(NSALayer, self).__init__()\n",
        "        self.attention = NativeSparseAttention(dim, num_heads)\n",
        "        self.norm1 = nn.LayerNorm(dim)\n",
        "        self.norm2 = nn.LayerNorm(dim)\n",
        "        self.ffn = nn.Sequential(\n",
        "            nn.Linear(dim, dim * 4),\n",
        "            nn.ReLU(),\n",
        "            nn.Linear(dim * 4, dim)\n",
        "        )\n",
        "        self.dropout = nn.Dropout(0.1)\n",
        "\n",
        "    def forward(self, x):\n",
        "        # Attention block\n",
        "        attn_output = self.attention(x)\n",
        "        x = self.norm1(x + attn_output)\n",
        "\n",
        "        # Feed-forward block\n",
        "        ffn_output = self.ffn(x)\n",
        "        x = self.norm2(x + self.dropout(ffn_output))\n",
        "\n",
        "        return x\n",
        "\n",
        "class TabNSA(nn.Module):\n",
        "    def __init__(self, input_dim, output_dim, hidden_dim=64, num_heads=4, num_layers=3):\n",
        "        super(TabNSA, self).__init__()\n",
        "        self.input_dim = input_dim\n",
        "        self.hidden_dim = hidden_dim\n",
        "\n",
        "        # Input embedding\n",
        "        self.embedding = nn.Linear(input_dim, hidden_dim)\n",
        "\n",
        "        # NSA layers\n",
        "        self.nsa_layers = nn.ModuleList([NSALayer(hidden_dim, num_heads) for _ in range(num_layers)])\n",
        "\n",
        "        # Output layer\n",
        "        self.fc = nn.Linear(hidden_dim, output_dim)\n",
        "\n",
        "    def forward(self, x):\n",
        "        # Reshape input to add sequence dimension if it's just (batch_size, features)\n",
        "        if len(x.shape) == 2:\n",
        "            x = x.unsqueeze(1)  # (batch_size, 1, features)\n",
        "\n",
        "        # Embed input features\n",
        "        x = self.embedding(x)\n",
        "\n",
        "        # Apply NSA layers\n",
        "        for layer in self.nsa_layers:\n",
        "            x = layer(x)\n",
        "\n",
        "        # Take the output of the last position\n",
        "        x = x.squeeze(1) if x.size(1) == 1 else x.mean(dim=1)\n",
        "\n",
        "        # Classification head\n",
        "        x = self.fc(x)\n",
        "\n",
        "        return x"
      ],
      "metadata": {
        "id": "7Jwo1rQiAiee"
      },
      "execution_count": 23,
      "outputs": []
    },
    {
      "cell_type": "code",
      "source": [
        "def prepare_data(X_train_scaled, y_train_scaled, batch_size=32, test_size=0.2, random_state=42):\n",
        "    # # Split the data into training and validation sets\n",
        "    # X_train_split, X_val, y_train_split, y_val = train_test_split(\n",
        "    #     X_train_scaled, y_train_, test_size=test_size, random_state=random_state, stratify=y_train\n",
        "    # )\n",
        "\n",
        "    # # Scale the features\n",
        "    # scaler = StandardScaler()\n",
        "    # X_train_scaled = scaler.fit_transform(X_train_split)\n",
        "    # X_val_scaled = scaler.transform(X_val)\n",
        "\n",
        "    # Convert to PyTorch tensors\n",
        "    X_train_tensor = torch.FloatTensor(X_train_scaled)\n",
        "    y_train_tensor = torch.LongTensor(y_train.values)\n",
        "    X_val_tensor = torch.FloatTensor(X_test_scaled)\n",
        "    y_val_tensor = torch.LongTensor(y_test.values)\n",
        "\n",
        "    # Create DataLoader objects\n",
        "    train_dataset = TensorDataset(X_train_tensor, y_train_tensor)\n",
        "    val_dataset = TensorDataset(X_val_tensor, y_val_tensor)\n",
        "\n",
        "    train_loader = DataLoader(train_dataset, batch_size=batch_size, shuffle=True)\n",
        "    val_loader = DataLoader(val_dataset, batch_size=batch_size)\n",
        "\n",
        "    return train_loader, val_loader, scaler\n",
        "\n",
        "def train_model(model, train_loader, val_loader, criterion, optimizer, device, num_epochs=100, patience=10):\n",
        "    best_val_loss = float('inf')\n",
        "    patience_counter = 0\n",
        "    history = {'train_loss': [], 'val_loss': [], 'train_acc': [], 'val_acc': []}\n",
        "\n",
        "    for epoch in range(num_epochs):\n",
        "        # Training phase\n",
        "        model.train()\n",
        "        train_loss = 0.0\n",
        "        train_correct = 0\n",
        "        train_total = 0\n",
        "\n",
        "        for inputs, targets in train_loader:\n",
        "            inputs, targets = inputs.to(device), targets.to(device)\n",
        "\n",
        "            # Zero the parameter gradients\n",
        "            optimizer.zero_grad()\n",
        "\n",
        "            # Forward pass\n",
        "            outputs = model(inputs)\n",
        "            loss = criterion(outputs, targets)\n",
        "\n",
        "            # Backward pass and optimize\n",
        "            loss.backward()\n",
        "            optimizer.step()\n",
        "\n",
        "            # Statistics\n",
        "            train_loss += loss.item() * inputs.size(0)\n",
        "            _, predicted = torch.max(outputs, 1)\n",
        "            train_total += targets.size(0)\n",
        "            train_correct += (predicted == targets).sum().item()\n",
        "\n",
        "        train_loss = train_loss / len(train_loader.dataset)\n",
        "        train_acc = train_correct / train_total\n",
        "\n",
        "        # Validation phase\n",
        "        model.eval()\n",
        "        val_loss = 0.0\n",
        "        val_correct = 0\n",
        "        val_total = 0\n",
        "\n",
        "        with torch.no_grad():\n",
        "            for inputs, targets in val_loader:\n",
        "                inputs, targets = inputs.to(device), targets.to(device)\n",
        "\n",
        "                # Forward pass\n",
        "                outputs = model(inputs)\n",
        "                loss = criterion(outputs, targets)\n",
        "\n",
        "                # Statistics\n",
        "                val_loss += loss.item() * inputs.size(0)\n",
        "                _, predicted = torch.max(outputs, 1)\n",
        "                val_total += targets.size(0)\n",
        "                val_correct += (predicted == targets).sum().item()\n",
        "\n",
        "        val_loss = val_loss / len(val_loader.dataset)\n",
        "        val_acc = val_correct / val_total\n",
        "\n",
        "        # Print statistics\n",
        "        print(f'Epoch {epoch+1}/{num_epochs} | '\n",
        "              f'Train Loss: {train_loss:.4f} | Train Acc: {train_acc:.4f} | '\n",
        "              f'Val Loss: {val_loss:.4f} | Val Acc: {val_acc:.4f}')\n",
        "\n",
        "        # Save statistics\n",
        "        history['train_loss'].append(train_loss)\n",
        "        history['val_loss'].append(val_loss)\n",
        "        history['train_acc'].append(train_acc)\n",
        "        history['val_acc'].append(val_acc)\n",
        "\n",
        "        # Early stopping\n",
        "        if val_loss < best_val_loss:\n",
        "            best_val_loss = val_loss\n",
        "            patience_counter = 0\n",
        "            # Save the best model\n",
        "            torch.save(model.state_dict(), 'best_tabnsa_model.pth')\n",
        "        else:\n",
        "            patience_counter += 1\n",
        "            if patience_counter >= patience:\n",
        "                print(f'Early stopping at epoch {epoch+1}')\n",
        "                break\n",
        "\n",
        "    return model, history\n",
        "\n",
        "def evaluate_model(model, test_loader, criterion, device):\n",
        "    model.eval()\n",
        "    test_loss = 0.0\n",
        "    test_correct = 0\n",
        "    test_total = 0\n",
        "\n",
        "    all_preds = []\n",
        "    all_targets = []\n",
        "\n",
        "    with torch.no_grad():\n",
        "        for inputs, targets in test_loader:\n",
        "            inputs, targets = inputs.to(device), targets.to(device)\n",
        "\n",
        "            # Forward pass\n",
        "            outputs = model(inputs)\n",
        "            loss = criterion(outputs, targets)\n",
        "\n",
        "            # Statistics\n",
        "            test_loss += loss.item() * inputs.size(0)\n",
        "            _, predicted = torch.max(outputs, 1)\n",
        "            test_total += targets.size(0)\n",
        "            test_correct += (predicted == targets).sum().item()\n",
        "\n",
        "            all_preds.extend(predicted.cpu().numpy())\n",
        "            all_targets.extend(targets.cpu().numpy())\n",
        "\n",
        "    test_loss = test_loss / len(test_loader.dataset)\n",
        "    test_acc = test_correct / test_total\n",
        "\n",
        "    print(f'Test Loss: {test_loss:.4f} | Test Acc: {test_acc:.4f}')\n",
        "\n",
        "    return test_loss, test_acc, all_preds, all_targets"
      ],
      "metadata": {
        "id": "8k54K5CGGk6K"
      },
      "execution_count": 24,
      "outputs": []
    },
    {
      "cell_type": "code",
      "source": [
        "def main(X_train, y_train):\n",
        "    # Set random seed for reproducibility\n",
        "    torch.manual_seed(42)\n",
        "    np.random.seed(42)\n",
        "\n",
        "    # Check if CUDA is available\n",
        "    device = torch.device(\"cuda\" if torch.cuda.is_available() else \"cpu\")\n",
        "    print(f\"Using device: {device}\")\n",
        "\n",
        "    # Hyperparameters\n",
        "    input_dim = X_train.shape[1]\n",
        "    output_dim = 6  # Number of classes (0-5)\n",
        "    hidden_dim = 64\n",
        "    num_heads = 4\n",
        "    num_layers = 3\n",
        "    batch_size = 64\n",
        "    learning_rate = 0.001\n",
        "    num_epochs = 5\n",
        "\n",
        "    # Prepare data\n",
        "    train_loader, val_loader, scaler = prepare_data(X_train, y_train, batch_size=batch_size)\n",
        "\n",
        "    # Initialize model\n",
        "    model = TabNSA(\n",
        "        input_dim=input_dim,\n",
        "        output_dim=output_dim,\n",
        "        hidden_dim=hidden_dim,\n",
        "        num_heads=num_heads,\n",
        "        num_layers=num_layers\n",
        "    ).to(device)\n",
        "\n",
        "    # Define loss function and optimizer\n",
        "    criterion = nn.CrossEntropyLoss()\n",
        "    optimizer = torch.optim.Adam(model.parameters(), lr=learning_rate)\n",
        "\n",
        "    # Train the model\n",
        "    model, history = train_model(\n",
        "        model=model,\n",
        "        train_loader=train_loader,\n",
        "        val_loader=val_loader,\n",
        "        criterion=criterion,\n",
        "        optimizer=optimizer,\n",
        "        device=device,\n",
        "        num_epochs=num_epochs\n",
        "    )\n",
        "\n",
        "    # Load the best model\n",
        "    joblib.dump(model, \"tabnsa_model.pkl\") #Saving in mulitple modes for easier access during Ensemble creation\n",
        "    model.load_state_dict(torch.load('best_tabnsa_model.pth'))\n",
        "\n",
        "    # Evaluate on validation set\n",
        "    val_loss, val_acc, val_preds, val_targets = evaluate_model(\n",
        "        model=model,\n",
        "        test_loader=val_loader,\n",
        "        criterion=criterion,\n",
        "        device=device\n",
        "    )\n",
        "\n",
        "    print(f\"Final validation accuracy: {val_acc:.4f}\")\n",
        "\n",
        "    return model, scaler, history\n"
      ],
      "metadata": {
        "id": "uTmuccZeGwN5"
      },
      "execution_count": 25,
      "outputs": []
    },
    {
      "cell_type": "code",
      "source": [
        "import os\n",
        "\n",
        "# Train the model\n",
        "model, scaler, history = main(X_train_scaled, y_train)\n"
      ],
      "metadata": {
        "colab": {
          "base_uri": "https://localhost:8080/"
        },
        "id": "dO64Sj70G3K1",
        "outputId": "042ef3aa-078b-4d6c-e591-1f1ed3a84828"
      },
      "execution_count": 26,
      "outputs": [
        {
          "output_type": "stream",
          "name": "stdout",
          "text": [
            "Using device: cpu\n",
            "Epoch 1/5 | Train Loss: 0.1635 | Train Acc: 0.9480 | Val Loss: 0.0544 | Val Acc: 0.9802\n",
            "Epoch 2/5 | Train Loss: 0.0498 | Train Acc: 0.9792 | Val Loss: 0.0555 | Val Acc: 0.9739\n",
            "Epoch 3/5 | Train Loss: 0.0502 | Train Acc: 0.9789 | Val Loss: 0.0419 | Val Acc: 0.9788\n",
            "Epoch 4/5 | Train Loss: 0.0394 | Train Acc: 0.9813 | Val Loss: 0.0477 | Val Acc: 0.9784\n",
            "Epoch 5/5 | Train Loss: 0.0456 | Train Acc: 0.9798 | Val Loss: 0.0245 | Val Acc: 0.9877\n",
            "Test Loss: 0.0245 | Test Acc: 0.9877\n",
            "Final validation accuracy: 0.9877\n"
          ]
        }
      ]
    },
    {
      "cell_type": "code",
      "source": [
        "def test_model(model, X_test_scaled, y_test, batch_size=64):\n",
        "    # Convert to PyTorch tensors\n",
        "    X_test_tensor = torch.FloatTensor(X_test_scaled)\n",
        "    y_test_tensor = torch.LongTensor(y_test.values)\n",
        "\n",
        "    # Create test DataLoader\n",
        "    test_dataset = TensorDataset(X_test_tensor, y_test_tensor)\n",
        "    test_loader = DataLoader(test_dataset, batch_size=batch_size)\n",
        "\n",
        "    # Check if CUDA is available\n",
        "    device = torch.device(\"cuda\" if torch.cuda.is_available() else \"cpu\")\n",
        "\n",
        "    # Set model to evaluation mode\n",
        "    model.eval()\n",
        "\n",
        "    # Initialize metrics\n",
        "    test_loss = 0.0\n",
        "    test_correct = 0\n",
        "    test_total = 0\n",
        "    all_preds = []\n",
        "    all_targets = []\n",
        "\n",
        "    # Define loss function\n",
        "    criterion = nn.CrossEntropyLoss()\n",
        "\n",
        "    # Disable gradient calculation\n",
        "    with torch.no_grad():\n",
        "        for inputs, targets in test_loader:\n",
        "            inputs, targets = inputs.to(device), targets.to(device)\n",
        "\n",
        "            # Forward pass\n",
        "            outputs = model(inputs)\n",
        "            loss = criterion(outputs, targets)\n",
        "\n",
        "            # Calculate statistics\n",
        "            test_loss += loss.item() * inputs.size(0)\n",
        "            _, predicted = torch.max(outputs, 1)\n",
        "            test_total += targets.size(0)\n",
        "            test_correct += (predicted == targets).sum().item()\n",
        "\n",
        "            # Store predictions and targets for further analysis\n",
        "            all_preds.extend(predicted.cpu().numpy())\n",
        "            all_targets.extend(targets.cpu().numpy())\n",
        "\n",
        "    # Calculate final metrics\n",
        "    test_loss = test_loss / len(test_loader.dataset)\n",
        "    test_acc = test_correct / test_total\n",
        "\n",
        "    print(f'Test Loss: {test_loss:.4f} | Test Accuracy: {test_acc:.4f}')\n",
        "\n",
        "    return test_loss, test_acc, all_preds, all_targets\n",
        "\n",
        "# Load the best model\n",
        "model_path = 'best_tabnsa_model.pth'\n",
        "input_dim = X_test_scaled.shape[1]\n",
        "output_dim = 6  # Number of classes (0-5)\n",
        "hidden_dim = 64\n",
        "num_heads = 4\n",
        "num_layers = 3\n",
        "\n",
        "# Initialize model with same architecture\n",
        "model = TabNSA(\n",
        "    input_dim=input_dim,\n",
        "    output_dim=output_dim,\n",
        "    hidden_dim=hidden_dim,\n",
        "    num_heads=num_heads,\n",
        "    num_layers=num_layers\n",
        ")\n",
        "\n",
        "# Load the saved weights\n",
        "device = torch.device(\"cuda\" if torch.cuda.is_available() else \"cpu\")\n",
        "model.load_state_dict(torch.load(model_path, map_location=device))\n",
        "model = model.to(device)\n",
        "\n",
        "# Test the model\n",
        "test_loss, test_acc, test_preds, test_targets = test_model(model, X_test_scaled, y_test)\n",
        "\n",
        "# Optional: You can add more detailed evaluation metrics\n",
        "from sklearn.metrics import classification_report, confusion_matrix\n",
        "\n",
        "print(\"\\nClassification Report:\")\n",
        "print(classification_report(test_targets, test_preds))\n",
        "\n",
        "print(\"\\nConfusion Matrix:\")\n",
        "print(confusion_matrix(test_targets, test_preds))"
      ],
      "metadata": {
        "colab": {
          "base_uri": "https://localhost:8080/"
        },
        "id": "W7M5R3S2G5tk",
        "outputId": "43b3d495-37b8-42a0-a140-c15c7b3d1161"
      },
      "execution_count": 27,
      "outputs": [
        {
          "output_type": "stream",
          "name": "stdout",
          "text": [
            "Test Loss: 0.0245 | Test Accuracy: 0.9877\n",
            "\n",
            "Classification Report:\n",
            "              precision    recall  f1-score   support\n",
            "\n",
            "           0       1.00      0.97      0.98      1930\n",
            "           1       1.00      1.00      1.00       960\n",
            "           2       1.00      1.00      1.00       740\n",
            "           3       1.00      1.00      1.00       700\n",
            "           4       0.91      0.99      0.95       640\n",
            "           5       1.00      1.00      1.00       780\n",
            "\n",
            "    accuracy                           0.99      5750\n",
            "   macro avg       0.98      0.99      0.99      5750\n",
            "weighted avg       0.99      0.99      0.99      5750\n",
            "\n",
            "\n",
            "Confusion Matrix:\n",
            "[[1868    0    0    0   62    0]\n",
            " [   0  960    0    0    0    0]\n",
            " [   0    0  740    0    0    0]\n",
            " [   0    0    0  699    1    0]\n",
            " [   8    0    0    0  632    0]\n",
            " [   0    0    0    0    0  780]]\n"
          ]
        }
      ]
    },
    {
      "cell_type": "code",
      "source": [
        "# Step 1: Obtain probabilistic predictions from each model\n",
        "# TabNet predictions (assuming tabnet_model is already trained)\n",
        "# Load the TabNet model instead of re-initializing it\n",
        "tabnet_model = joblib.load(\"tabnet_model.pkl\")\n",
        "y_proba_tabnet = tabnet_model.predict_proba(X_test_scaled)\n",
        "\n",
        "# The rest of your code to load and use the TabNSA model remains the same...\n",
        "\n",
        "# Load the trained TabNSA model\n",
        "input_dim = X_test_scaled.shape[1]\n",
        "output_dim = 6  # Number of classes (0-5)\n",
        "hidden_dim = 64\n",
        "num_heads = 4\n",
        "num_layers = 3\n",
        "\n",
        "# Initialize the model with the same architecture\n",
        "tabnsa_model = TabNSA(\n",
        "    input_dim=input_dim,\n",
        "    output_dim=output_dim,\n",
        "    hidden_dim=hidden_dim,\n",
        "    num_heads=num_heads,\n",
        "    num_layers=num_layers\n",
        ")\n",
        "\n",
        "# Load the saved weights\n",
        "device = torch.device(\"cuda\" if torch.cuda.is_available() else \"cpu\")\n",
        "tabnsa_model.load_state_dict(torch.load('best_tabnsa_model.pth', map_location=device))\n",
        "tabnsa_model = tabnsa_model.to(device)\n",
        "tabnsa_model.eval()\n",
        "\n",
        "# Get TabNSA predictions\n",
        "X_test_tensor = torch.FloatTensor(X_test_scaled).to(device)\n",
        "with torch.no_grad():\n",
        "    outputs = tabnsa_model(X_test_tensor)\n",
        "    y_proba_tabnsa = torch.softmax(outputs, dim=1).cpu().numpy()\n",
        "\n",
        "# Step 2: Assign fixed weights\n",
        "weight_tabnet = 0.8\n",
        "weight_tabnsa = 0.2\n",
        "\n",
        "# Step 3: Compute weighted average of predictions\n",
        "y_proba_ensemble = (weight_tabnet * y_proba_tabnet) + (weight_tabnsa * y_proba_tabnsa)\n",
        "\n",
        "# Step 4: Make final predictions\n",
        "\n",
        "y_pred_ensemble = np.argmax(y_proba_ensemble, axis=1)\n",
        "\n",
        "# Evaluate the ensemble model\n",
        "ensemble_accuracy = accuracy_score(y_test, y_pred_ensemble)\n",
        "print(f\"Ensemble Model Accuracy: {ensemble_accuracy:.4f}\")\n",
        "print(\"Classification Report:\\n\", classification_report(y_test, y_pred_ensemble))"
      ],
      "metadata": {
        "colab": {
          "base_uri": "https://localhost:8080/"
        },
        "id": "eQIpivr_Jigm",
        "outputId": "19045b8d-d8ee-45ac-d1fa-4251d7766278"
      },
      "execution_count": 28,
      "outputs": [
        {
          "output_type": "stream",
          "name": "stdout",
          "text": [
            "Ensemble Model Accuracy: 0.9739\n",
            "Classification Report:\n",
            "               precision    recall  f1-score   support\n",
            "\n",
            "         0.0       1.00      0.94      0.97      1930\n",
            "         1.0       0.99      1.00      1.00       960\n",
            "         2.0       0.99      1.00      1.00       740\n",
            "         3.0       1.00      0.96      0.98       700\n",
            "         4.0       0.84      1.00      0.91       640\n",
            "         5.0       0.98      1.00      0.99       780\n",
            "\n",
            "    accuracy                           0.97      5750\n",
            "   macro avg       0.97      0.98      0.97      5750\n",
            "weighted avg       0.98      0.97      0.97      5750\n",
            "\n"
          ]
        }
      ]
    },
    {
      "cell_type": "code",
      "source": [
        "from sklearn.ensemble import RandomForestClassifier, AdaBoostClassifier\n",
        "from sklearn.svm import SVC\n",
        "from xgboost import XGBClassifier\n",
        "from lightgbm import LGBMClassifier\n",
        "from sklearn.neighbors import KNeighborsClassifier\n",
        "from sklearn.neural_network import MLPClassifier\n",
        "\n",
        "# Define models\n",
        "models = {\n",
        "    \"Random Forest\": RandomForestClassifier(n_estimators=100, random_state=42),\n",
        "    \"XGBR\": XGBClassifier(random_state=42),\n",
        "    \"SVM\": SVC(probability=True),\n",
        "    \"KNN\": KNeighborsClassifier(),\n",
        "    \"MLP\": MLPClassifier(random_state=42)\n",
        "}\n"
      ],
      "metadata": {
        "id": "I_3VYlgBMF4-"
      },
      "execution_count": 29,
      "outputs": []
    },
    {
      "cell_type": "code",
      "source": [
        "# Train and save tree-based models on X_train\n",
        "for name in [\"Random Forest\", \"XGBR\"]:\n",
        "    print(f\"Training {name}...\")\n",
        "    models[name].fit(X_train, y_train)\n",
        "    joblib.dump(models[name], f\"{name}.pkl\")\n",
        "    print(f\"{name} saved as {name}.pkl\")\n",
        "\n",
        "# Train and save other models on X_train_scaled\n",
        "for name in [\"SVM\", \"KNN\", \"MLP\"]:\n",
        "    print(f\"Training {name}...\")\n",
        "    models[name].fit(X_train_scaled, y_train)\n",
        "    joblib.dump(models[name], f\"{name}.pkl\")\n",
        "    print(f\"{name} saved as {name}.pkl\")"
      ],
      "metadata": {
        "colab": {
          "base_uri": "https://localhost:8080/"
        },
        "id": "3d_UZzFQQ34p",
        "outputId": "14f9d46c-7d4d-4356-cf08-4af8cd29b52a"
      },
      "execution_count": 30,
      "outputs": [
        {
          "output_type": "stream",
          "name": "stdout",
          "text": [
            "Training Random Forest...\n",
            "Random Forest saved as Random Forest.pkl\n",
            "Training XGBR...\n",
            "XGBR saved as XGBR.pkl\n",
            "Training SVM...\n",
            "SVM saved as SVM.pkl\n",
            "Training KNN...\n",
            "KNN saved as KNN.pkl\n",
            "Training MLP...\n",
            "MLP saved as MLP.pkl\n"
          ]
        }
      ]
    },
    {
      "cell_type": "code",
      "source": [
        "# Testing the models\n",
        "for name in models.keys():\n",
        "    model = joblib.load(f\"{name}.pkl\")\n",
        "    if name in [\"Random Forest\", \"XGBR\"]:\n",
        "        y_pred = model.predict(X_test)\n",
        "        y_proba = model.predict_proba(X_test)\n",
        "        X_used = X_test\n",
        "    else:\n",
        "        y_pred = model.predict(X_test_scaled) #isme scaled daalna hai\n",
        "        y_proba = model.predict_proba(X_test_scaled)\n",
        "        X_used = X_test_scaled\n",
        "\n",
        "    accuracy = model.score(X_used, y_test)\n",
        "    print(f\"{name} Accuracy: {accuracy}\")\n",
        "\n",
        "    # Print classification report\n",
        "    print(f\"{name} Classification Report:\")\n",
        "    print(classification_report(y_test, y_pred))"
      ],
      "metadata": {
        "colab": {
          "base_uri": "https://localhost:8080/"
        },
        "id": "MagoCpe4b9vL",
        "outputId": "2eb6eb60-1119-4952-df3d-9ae09e65f9e0"
      },
      "execution_count": 42,
      "outputs": [
        {
          "output_type": "stream",
          "name": "stdout",
          "text": [
            "Random Forest Accuracy: 0.9951304347826087\n",
            "Random Forest Classification Report:\n",
            "              precision    recall  f1-score   support\n",
            "\n",
            "         0.0       1.00      0.99      0.99      1930\n",
            "         1.0       1.00      1.00      1.00       960\n",
            "         2.0       1.00      1.00      1.00       740\n",
            "         3.0       1.00      1.00      1.00       700\n",
            "         4.0       0.97      0.99      0.98       640\n",
            "         5.0       1.00      1.00      1.00       780\n",
            "\n",
            "    accuracy                           1.00      5750\n",
            "   macro avg       0.99      1.00      1.00      5750\n",
            "weighted avg       1.00      1.00      1.00      5750\n",
            "\n",
            "XGBR Accuracy: 0.9937391304347826\n",
            "XGBR Classification Report:\n",
            "              precision    recall  f1-score   support\n",
            "\n",
            "         0.0       0.99      0.99      0.99      1930\n",
            "         1.0       1.00      1.00      1.00       960\n",
            "         2.0       1.00      1.00      1.00       740\n",
            "         3.0       1.00      1.00      1.00       700\n",
            "         4.0       0.97      0.98      0.98       640\n",
            "         5.0       1.00      1.00      1.00       780\n",
            "\n",
            "    accuracy                           0.99      5750\n",
            "   macro avg       0.99      0.99      0.99      5750\n",
            "weighted avg       0.99      0.99      0.99      5750\n",
            "\n",
            "SVM Accuracy: 0.9817391304347826\n",
            "SVM Classification Report:\n",
            "              precision    recall  f1-score   support\n",
            "\n",
            "         0.0       0.96      0.99      0.98      1930\n",
            "         1.0       1.00      1.00      1.00       960\n",
            "         2.0       1.00      1.00      1.00       740\n",
            "         3.0       1.00      0.99      0.99       700\n",
            "         4.0       0.95      0.88      0.91       640\n",
            "         5.0       1.00      1.00      1.00       780\n",
            "\n",
            "    accuracy                           0.98      5750\n",
            "   macro avg       0.99      0.98      0.98      5750\n",
            "weighted avg       0.98      0.98      0.98      5750\n",
            "\n",
            "KNN Accuracy: 0.9925217391304347\n",
            "KNN Classification Report:\n",
            "              precision    recall  f1-score   support\n",
            "\n",
            "         0.0       0.99      0.98      0.99      1930\n",
            "         1.0       1.00      1.00      1.00       960\n",
            "         2.0       1.00      1.00      1.00       740\n",
            "         3.0       1.00      1.00      1.00       700\n",
            "         4.0       0.95      0.98      0.97       640\n",
            "         5.0       1.00      1.00      1.00       780\n",
            "\n",
            "    accuracy                           0.99      5750\n",
            "   macro avg       0.99      0.99      0.99      5750\n",
            "weighted avg       0.99      0.99      0.99      5750\n",
            "\n",
            "MLP Accuracy: 0.9909565217391304\n",
            "MLP Classification Report:\n",
            "              precision    recall  f1-score   support\n",
            "\n",
            "         0.0       0.99      0.98      0.99      1930\n",
            "         1.0       1.00      1.00      1.00       960\n",
            "         2.0       1.00      1.00      1.00       740\n",
            "         3.0       1.00      1.00      1.00       700\n",
            "         4.0       0.94      0.98      0.96       640\n",
            "         5.0       1.00      1.00      1.00       780\n",
            "\n",
            "    accuracy                           0.99      5750\n",
            "   macro avg       0.99      0.99      0.99      5750\n",
            "weighted avg       0.99      0.99      0.99      5750\n",
            "\n"
          ]
        }
      ]
    },
    {
      "cell_type": "code",
      "source": [
        "import joblib\n",
        "import numpy as np\n",
        "import torch\n",
        "from sklearn.metrics import accuracy_score, classification_report\n",
        "from torch.nn.functional import softmax\n",
        "\n",
        "# Load trained models\n",
        "tabnet_model = joblib.load(\"tabnet_model.pkl\")\n",
        "rf_model = joblib.load(\"Random Forest.pkl\")\n",
        "xgb_model = joblib.load(\"XGBR.pkl\")\n",
        "svm_model = joblib.load(\"SVM.pkl\")\n",
        "mlp_model = joblib.load(\"MLP.pkl\")\n",
        "knn_model = joblib.load(\"KNN.pkl\")\n",
        "\n",
        "\n",
        "# Get probabilistic predictions\n",
        "y_proba_tabnet = tabnet_model.predict_proba(X_test_scaled)\n",
        "y_proba_rf = rf_model.predict_proba(X_test_scaled)\n",
        "y_proba_xgb = xgb_model.predict_proba(X_test_scaled)\n",
        "y_proba_svm = svm_model.predict_proba(X_test_scaled)\n",
        "y_proba_mlp = mlp_model.predict_proba(X_test_scaled)\n",
        "y_proba_knn = knn_model.predict_proba(X_test_scaled)\n",
        "\n",
        "# Load and prepare TabNSA model\n",
        "device = torch.device(\"cuda\" if torch.cuda.is_available() else \"cpu\")\n",
        "\n",
        "input_dim = X_test_scaled.shape[1]\n",
        "output_dim = 6  # Number of classes (0-5)\n",
        "hidden_dim = 64\n",
        "num_heads = 4\n",
        "num_layers = 3\n",
        "\n",
        "tabnsa_model = TabNSA(input_dim, output_dim, hidden_dim, num_heads, num_layers)\n",
        "tabnsa_model.load_state_dict(torch.load(\"best_tabnsa_model.pth\", map_location=device))\n",
        "tabnsa_model.to(device)\n",
        "tabnsa_model.eval()\n",
        "\n",
        "X_test_tensor = torch.FloatTensor(X_test_scaled).to(device)\n",
        "with torch.no_grad():\n",
        "    outputs = tabnsa_model(X_test_tensor)\n",
        "    y_proba_tabnsa = softmax(outputs, dim=1).cpu().numpy()\n",
        "\n",
        "# Assign model weights (can be adjusted based on validation performance)\n",
        "weights = {\n",
        "    \"tabnet\": 0.2,\n",
        "    \"tabnsa\": 0.4,\n",
        "    \"rf\": 0.1,\n",
        "    \"xgb\": 0.1,\n",
        "    \"svm\": 0.1,\n",
        "    \"mlp\": 0.1,\n",
        "    \"knn\": 0.1\n",
        "\n",
        "}\n",
        "\n",
        "# Compute weighted average of predictions\n",
        "y_proba_ensemble = (\n",
        "    weights[\"tabnet\"] * y_proba_tabnet +\n",
        "    weights[\"tabnsa\"] * y_proba_tabnsa +\n",
        "    weights[\"rf\"] * y_proba_rf +\n",
        "    weights[\"xgb\"] * y_proba_xgb +\n",
        "    weights[\"svm\"] * y_proba_svm +\n",
        "    weights[\"mlp\"] * y_proba_mlp +\n",
        "    weights[\"knn\"] * y_proba_knn\n",
        ")\n",
        "\n",
        "# Final ensemble predictions\n",
        "y_pred_ensemble = np.argmax(y_proba_ensemble, axis=1)\n",
        "\n",
        "# Evaluate ensemble model\n",
        "ensemble_accuracy = accuracy_score(y_test, y_pred_ensemble)\n",
        "print(f\"Ensemble Model Accuracy: {ensemble_accuracy:.4f}\")\n",
        "print(\"Classification Report:\\n\", classification_report(y_test, y_pred_ensemble))"
      ],
      "metadata": {
        "colab": {
          "base_uri": "https://localhost:8080/"
        },
        "id": "vUG_O_sQTEyc",
        "outputId": "1869f704-927a-48bf-ff05-f244e6db1b2b"
      },
      "execution_count": 43,
      "outputs": [
        {
          "output_type": "stream",
          "name": "stderr",
          "text": [
            "/usr/local/lib/python3.11/dist-packages/sklearn/utils/validation.py:2739: UserWarning: X does not have valid feature names, but RandomForestClassifier was fitted with feature names\n",
            "  warnings.warn(\n"
          ]
        },
        {
          "output_type": "stream",
          "name": "stdout",
          "text": [
            "Ensemble Model Accuracy: 0.9908\n",
            "Classification Report:\n",
            "               precision    recall  f1-score   support\n",
            "\n",
            "         0.0       0.99      0.98      0.99      1930\n",
            "         1.0       1.00      1.00      1.00       960\n",
            "         2.0       1.00      1.00      1.00       740\n",
            "         3.0       1.00      1.00      1.00       700\n",
            "         4.0       0.95      0.97      0.96       640\n",
            "         5.0       1.00      1.00      1.00       780\n",
            "\n",
            "    accuracy                           0.99      5750\n",
            "   macro avg       0.99      0.99      0.99      5750\n",
            "weighted avg       0.99      0.99      0.99      5750\n",
            "\n"
          ]
        }
      ]
    },
    {
      "cell_type": "code",
      "source": [
        "import joblib\n",
        "import numpy as np\n",
        "import torch\n",
        "from sklearn.metrics import accuracy_score, classification_report\n",
        "from torch.nn.functional import softmax\n",
        "\n",
        "# Load trained models\n",
        "tabnet_model = joblib.load(\"tabnet_model.pkl\")\n",
        "rf_model = joblib.load(\"Random Forest.pkl\")\n",
        "xgb_model = joblib.load(\"XGBR.pkl\")\n",
        "svm_model = joblib.load(\"SVM.pkl\")\n",
        "mlp_model = joblib.load(\"MLP.pkl\")\n",
        "knn_model = joblib.load(\"KNN.pkl\")\n",
        "\n",
        "\n",
        "# Get probabilistic predictions\n",
        "y_proba_tabnet = tabnet_model.predict_proba(X_test_scaled)\n",
        "y_proba_rf = rf_model.predict_proba(X_test)\n",
        "y_proba_xgb = xgb_model.predict_proba(X_test)\n",
        "y_proba_svm = svm_model.predict_proba(X_test)\n",
        "y_proba_mlp = mlp_model.predict_proba(X_test_scaled)\n",
        "y_proba_knn = knn_model.predict_proba(X_test_scaled)\n",
        "\n",
        "# Load and prepare TabNSA model\n",
        "device = torch.device(\"cuda\" if torch.cuda.is_available() else \"cpu\")\n",
        "\n",
        "input_dim = X_test_scaled.shape[1]\n",
        "output_dim = 6  # Number of classes (0-5)\n",
        "hidden_dim = 64\n",
        "num_heads = 4\n",
        "num_layers = 3\n",
        "\n",
        "tabnsa_model = TabNSA(input_dim, output_dim, hidden_dim, num_heads, num_layers)\n",
        "tabnsa_model.load_state_dict(torch.load(\"best_tabnsa_model.pth\", map_location=device))\n",
        "tabnsa_model.to(device)\n",
        "tabnsa_model.eval()\n",
        "\n",
        "X_test_tensor = torch.FloatTensor(X_test_scaled).to(device)\n",
        "with torch.no_grad():\n",
        "    outputs = tabnsa_model(X_test_tensor)\n",
        "    y_proba_tabnsa = softmax(outputs, dim=1).cpu().numpy()\n",
        "\n",
        "# Assign model weights (can be adjusted based on validation performance)\n",
        "weights = {\n",
        "    \"tabnet\": 0.2,\n",
        "    \"tabnsa\": 0.2,\n",
        "    \"rf\": 0.1,\n",
        "    \"xgb\": 0.1,\n",
        "    \"svm\": 0.1,\n",
        "    \"mlp\": 0.2,\n",
        "    \"knn\": 0.1\n",
        "\n",
        "}\n",
        "\n",
        "# Compute weighted average of predictions\n",
        "y_proba_ensemble = (\n",
        "    weights[\"tabnet\"] * y_proba_tabnet +\n",
        "    weights[\"tabnsa\"] * y_proba_tabnsa +\n",
        "    weights[\"rf\"] * y_proba_rf +\n",
        "    weights[\"xgb\"] * y_proba_xgb +\n",
        "    weights[\"svm\"] * y_proba_svm +\n",
        "    weights[\"mlp\"] * y_proba_mlp +\n",
        "    weights[\"knn\"] * y_proba_knn\n",
        ")\n",
        "\n",
        "# Final ensemble predictions\n",
        "y_pred_ensemble = np.argmax(y_proba_ensemble, axis=1)\n",
        "\n",
        "# Evaluate ensemble model\n",
        "ensemble_accuracy = accuracy_score(y_test, y_pred_ensemble)\n",
        "print(f\"Ensemble Model Accuracy: {ensemble_accuracy:.4f}\")\n",
        "print(\"Classification Report:\\n\", classification_report(y_test, y_pred_ensemble,digits=4))"
      ],
      "metadata": {
        "id": "a09BLzVkUjK3",
        "colab": {
          "base_uri": "https://localhost:8080/"
        },
        "outputId": "154fd596-2364-49eb-a7d8-f31255f3cb32"
      },
      "execution_count": 52,
      "outputs": [
        {
          "output_type": "stream",
          "name": "stderr",
          "text": [
            "/usr/local/lib/python3.11/dist-packages/sklearn/utils/validation.py:2732: UserWarning: X has feature names, but SVC was fitted without feature names\n",
            "  warnings.warn(\n"
          ]
        },
        {
          "output_type": "stream",
          "name": "stdout",
          "text": [
            "Ensemble Model Accuracy: 0.9934\n",
            "Classification Report:\n",
            "               precision    recall  f1-score   support\n",
            "\n",
            "         0.0     0.9974    0.9829    0.9901      1930\n",
            "         1.0     1.0000    1.0000    1.0000       960\n",
            "         2.0     1.0000    1.0000    1.0000       740\n",
            "         3.0     1.0000    1.0000    1.0000       700\n",
            "         4.0     0.9506    0.9922    0.9709       640\n",
            "         5.0     1.0000    1.0000    1.0000       780\n",
            "\n",
            "    accuracy                         0.9934      5750\n",
            "   macro avg     0.9913    0.9958    0.9935      5750\n",
            "weighted avg     0.9936    0.9934    0.9934      5750\n",
            "\n"
          ]
        }
      ]
    },
    {
      "cell_type": "code",
      "source": [
        "#Knn + Tannet + TabNSA\n",
        "import joblib\n",
        "import numpy as np\n",
        "import torch\n",
        "from sklearn.metrics import accuracy_score, classification_report\n",
        "from torch.nn.functional import softmax\n",
        "\n",
        "# Load trained models\n",
        "tabnet_model = joblib.load(\"tabnet_model.pkl\")\n",
        "rf_model = joblib.load(\"Random Forest.pkl\")\n",
        "xgb_model = joblib.load(\"XGBR.pkl\")\n",
        "svm_model = joblib.load(\"SVM.pkl\")\n",
        "mlp_model = joblib.load(\"MLP.pkl\")\n",
        "knn_model = joblib.load(\"KNN.pkl\")\n",
        "\n",
        "\n",
        "# Get probabilistic predictions\n",
        "y_proba_tabnet = tabnet_model.predict_proba(X_test_scaled)\n",
        "y_proba_rf = rf_model.predict_proba(X_test)\n",
        "y_proba_xgb = xgb_model.predict_proba(X_test)\n",
        "y_proba_svm = svm_model.predict_proba(X_test)\n",
        "y_proba_mlp = mlp_model.predict_proba(X_test_scaled)\n",
        "y_proba_knn = knn_model.predict_proba(X_test_scaled)\n",
        "\n",
        "# Load and prepare TabNSA model\n",
        "device = torch.device(\"cuda\" if torch.cuda.is_available() else \"cpu\")\n",
        "\n",
        "input_dim = X_test_scaled.shape[1]\n",
        "output_dim = 6  # Number of classes (0-5)\n",
        "hidden_dim = 64\n",
        "num_heads = 4\n",
        "num_layers = 3\n",
        "\n",
        "tabnsa_model = TabNSA(input_dim, output_dim, hidden_dim, num_heads, num_layers)\n",
        "tabnsa_model.load_state_dict(torch.load(\"best_tabnsa_model.pth\", map_location=device))\n",
        "tabnsa_model.to(device)\n",
        "tabnsa_model.eval()\n",
        "\n",
        "X_test_tensor = torch.FloatTensor(X_test_scaled).to(device)\n",
        "with torch.no_grad():\n",
        "    outputs = tabnsa_model(X_test_tensor)\n",
        "    y_proba_tabnsa = softmax(outputs, dim=1).cpu().numpy()\n",
        "\n",
        "# Assign model weights (can be adjusted based on validation performance)\n",
        "weights = {\n",
        "    \"tabnet\": 0.4,\n",
        "    \"tabnsa\": 0.4,\n",
        "    \"knn\": 0.2\n",
        "\n",
        "}\n",
        "\n",
        "# Compute weighted average of predictions\n",
        "y_proba_ensemble = (\n",
        "    weights[\"tabnet\"] * y_proba_tabnet +\n",
        "    weights[\"tabnsa\"] * y_proba_tabnsa +\n",
        "\n",
        "    weights[\"knn\"] * y_proba_knn\n",
        ")\n",
        "\n",
        "# Final ensemble predictions\n",
        "y_pred_ensemble = np.argmax(y_proba_ensemble, axis=1)\n",
        "\n",
        "# Evaluate ensemble model\n",
        "ensemble_accuracy = accuracy_score(y_test, y_pred_ensemble)\n",
        "print(f\"Ensemble Model Accuracy: {ensemble_accuracy:.4f}\")\n",
        "print(\"Classification Report:\\n\", classification_report(y_test, y_pred_ensemble,digits=4))"
      ],
      "metadata": {
        "id": "pifCoi_0dhbY",
        "colab": {
          "base_uri": "https://localhost:8080/"
        },
        "outputId": "49780565-25eb-4de3-ab12-8bc9e7d4d3d3"
      },
      "execution_count": 51,
      "outputs": [
        {
          "output_type": "stream",
          "name": "stderr",
          "text": [
            "/usr/local/lib/python3.11/dist-packages/sklearn/utils/validation.py:2732: UserWarning: X has feature names, but SVC was fitted without feature names\n",
            "  warnings.warn(\n"
          ]
        },
        {
          "output_type": "stream",
          "name": "stdout",
          "text": [
            "Ensemble Model Accuracy: 0.9871\n",
            "Classification Report:\n",
            "               precision    recall  f1-score   support\n",
            "\n",
            "         0.0     0.9995    0.9642    0.9815      1930\n",
            "         1.0     1.0000    1.0000    1.0000       960\n",
            "         2.0     1.0000    1.0000    1.0000       740\n",
            "         3.0     1.0000    0.9943    0.9971       700\n",
            "         4.0     0.8975    0.9984    0.9453       640\n",
            "         5.0     1.0000    1.0000    1.0000       780\n",
            "\n",
            "    accuracy                         0.9871      5750\n",
            "   macro avg     0.9828    0.9928    0.9873      5750\n",
            "weighted avg     0.9884    0.9871    0.9874      5750\n",
            "\n"
          ]
        }
      ]
    },
    {
      "cell_type": "code",
      "source": [
        "#SVM + TabNSA\n",
        "import joblib\n",
        "import numpy as np\n",
        "import torch\n",
        "from sklearn.metrics import accuracy_score, classification_report\n",
        "from torch.nn.functional import softmax\n",
        "\n",
        "# Load trained models\n",
        "tabnet_model = joblib.load(\"tabnet_model.pkl\")\n",
        "svm_model = joblib.load(\"SVM.pkl\")\n",
        "\n",
        "\n",
        "\n",
        "# Get probabilistic predictions\n",
        "y_proba_tabnet = tabnet_model.predict_proba(X_test_scaled)\n",
        "y_proba_rf = rf_model.predict_proba(X_test)\n",
        "y_proba_xgb = xgb_model.predict_proba(X_test)\n",
        "y_proba_svm = svm_model.predict_proba(X_test)\n",
        "y_proba_mlp = mlp_model.predict_proba(X_test_scaled)\n",
        "y_proba_knn = knn_model.predict_proba(X_test_scaled)\n",
        "\n",
        "# Load and prepare TabNSA model\n",
        "device = torch.device(\"cuda\" if torch.cuda.is_available() else \"cpu\")\n",
        "\n",
        "input_dim = X_test_scaled.shape[1]\n",
        "output_dim = 6  # Number of classes (0-5)\n",
        "hidden_dim = 64\n",
        "num_heads = 4\n",
        "num_layers = 3\n",
        "\n",
        "tabnsa_model = TabNSA(input_dim, output_dim, hidden_dim, num_heads, num_layers)\n",
        "tabnsa_model.load_state_dict(torch.load(\"best_tabnsa_model.pth\", map_location=device))\n",
        "tabnsa_model.to(device)\n",
        "tabnsa_model.eval()\n",
        "\n",
        "X_test_tensor = torch.FloatTensor(X_test_scaled).to(device)\n",
        "with torch.no_grad():\n",
        "    outputs = tabnsa_model(X_test_tensor)\n",
        "    y_proba_tabnsa = softmax(outputs, dim=1).cpu().numpy()\n",
        "\n",
        "# Assign model weights (can be adjusted based on validation performance)\n",
        "weights = {\n",
        "    \"tabnsa\": 0.7,\n",
        "    \"svm\": 0.3,\n",
        "\n",
        "\n",
        "}\n",
        "\n",
        "# Compute weighted average of predictions\n",
        "y_proba_ensemble = (\n",
        "    weights[\"tabnsa\"] * y_proba_tabnsa +\n",
        "    weights[\"svm\"] * y_proba_svm\n",
        ")\n",
        "\n",
        "# Final ensemble predictions\n",
        "y_pred_ensemble = np.argmax(y_proba_ensemble, axis=1)\n",
        "\n",
        "# Evaluate ensemble model\n",
        "ensemble_accuracy = accuracy_score(y_test, y_pred_ensemble)\n",
        "print(f\"Ensemble Model Accuracy: {ensemble_accuracy:.4f}\")\n",
        "print(\"Classification Report:\\n\", classification_report(y_test, y_pred_ensemble,digits=4))"
      ],
      "metadata": {
        "colab": {
          "base_uri": "https://localhost:8080/"
        },
        "id": "1-TYXI95IbKU",
        "outputId": "dd3fa248-80cf-42c6-ab3c-d0afebf4b25a"
      },
      "execution_count": 50,
      "outputs": [
        {
          "output_type": "stream",
          "name": "stderr",
          "text": [
            "/usr/local/lib/python3.11/dist-packages/sklearn/utils/validation.py:2732: UserWarning: X has feature names, but SVC was fitted without feature names\n",
            "  warnings.warn(\n"
          ]
        },
        {
          "output_type": "stream",
          "name": "stdout",
          "text": [
            "Ensemble Model Accuracy: 0.9882\n",
            "Classification Report:\n",
            "               precision    recall  f1-score   support\n",
            "\n",
            "         0.0     0.9844    0.9808    0.9826      1930\n",
            "         1.0     1.0000    1.0000    1.0000       960\n",
            "         2.0     1.0000    1.0000    1.0000       740\n",
            "         3.0     1.0000    0.9986    0.9993       700\n",
            "         4.0     0.9414    0.9531    0.9472       640\n",
            "         5.0     1.0000    1.0000    1.0000       780\n",
            "\n",
            "    accuracy                         0.9882      5750\n",
            "   macro avg     0.9876    0.9888    0.9882      5750\n",
            "weighted avg     0.9882    0.9882    0.9882      5750\n",
            "\n"
          ]
        }
      ]
    },
    {
      "cell_type": "code",
      "source": [
        "import joblib\n",
        "import numpy as np\n",
        "import torch\n",
        "from sklearn.metrics import accuracy_score, classification_report\n",
        "from torch.nn.functional import softmax\n",
        "\n",
        "# Load trained models\n",
        "\n",
        "mlp_model = joblib.load(\"MLP.pkl\")\n",
        "\n",
        "\n",
        "\n",
        "# Get probabilistic predictions\n",
        "\n",
        "y_proba_mlp = mlp_model.predict_proba(X_test_scaled)\n",
        "\n",
        "\n",
        "# Load and prepare TabNSA model\n",
        "device = torch.device(\"cuda\" if torch.cuda.is_available() else \"cpu\")\n",
        "\n",
        "input_dim = X_test_scaled.shape[1]\n",
        "output_dim = 6  # Number of classes (0-5)\n",
        "hidden_dim = 64\n",
        "num_heads = 4\n",
        "num_layers = 3\n",
        "\n",
        "tabnsa_model = TabNSA(input_dim, output_dim, hidden_dim, num_heads, num_layers)\n",
        "tabnsa_model.load_state_dict(torch.load(\"best_tabnsa_model.pth\", map_location=device))\n",
        "tabnsa_model.to(device)\n",
        "tabnsa_model.eval()\n",
        "\n",
        "X_test_tensor = torch.FloatTensor(X_test_scaled).to(device)\n",
        "with torch.no_grad():\n",
        "    outputs = tabnsa_model(X_test_tensor)\n",
        "    y_proba_tabnsa = softmax(outputs, dim=1).cpu().numpy()\n",
        "\n",
        "# Assign model weights (can be adjusted based on validation performance)\n",
        "weights = {\n",
        "    \"tabnsa\": 0.7,\n",
        "    \"mlp\": 0.3\n",
        "\n",
        "\n",
        "}\n",
        "\n",
        "# Compute weighted average of predictions\n",
        "y_proba_ensemble = (\n",
        "\n",
        "    weights[\"tabnsa\"] * y_proba_tabnsa +\n",
        "    weights[\"mlp\"] * y_proba_mlp\n",
        "\n",
        ")\n",
        "\n",
        "# Final ensemble predictions\n",
        "y_pred_ensemble = np.argmax(y_proba_ensemble, axis=1)\n",
        "\n",
        "# Evaluate ensemble model\n",
        "ensemble_accuracy = accuracy_score(y_test, y_pred_ensemble)\n",
        "print(f\"Ensemble Model Accuracy: {ensemble_accuracy:.4f}\")\n",
        "print(\"Classification Report:\\n\", classification_report(y_test, y_pred_ensemble,digits= 4))"
      ],
      "metadata": {
        "colab": {
          "base_uri": "https://localhost:8080/"
        },
        "id": "b3IYO6B5Iv75",
        "outputId": "d25a11d6-ab17-4ade-aed0-2405fb7335e8"
      },
      "execution_count": 54,
      "outputs": [
        {
          "output_type": "stream",
          "name": "stdout",
          "text": [
            "Ensemble Model Accuracy: 0.9896\n",
            "Classification Report:\n",
            "               precision    recall  f1-score   support\n",
            "\n",
            "         0.0     0.9963    0.9725    0.9843      1930\n",
            "         1.0     1.0000    1.0000    1.0000       960\n",
            "         2.0     1.0000    1.0000    1.0000       740\n",
            "         3.0     1.0000    1.0000    1.0000       700\n",
            "         4.0     0.9227    0.9891    0.9548       640\n",
            "         5.0     1.0000    1.0000    1.0000       780\n",
            "\n",
            "    accuracy                         0.9896      5750\n",
            "   macro avg     0.9865    0.9936    0.9898      5750\n",
            "weighted avg     0.9902    0.9896    0.9897      5750\n",
            "\n"
          ]
        }
      ]
    },
    {
      "cell_type": "code",
      "source": [],
      "metadata": {
        "id": "uoJ7ILrGJ8_v"
      },
      "execution_count": null,
      "outputs": []
    }
  ]
}