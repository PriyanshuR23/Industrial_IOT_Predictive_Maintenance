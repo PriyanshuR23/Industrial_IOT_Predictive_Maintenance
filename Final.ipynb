{
  "nbformat": 4,
  "nbformat_minor": 0,
  "metadata": {
    "colab": {
      "provenance": [],
      "authorship_tag": "ABX9TyN0TgwOw4bI39BhkaAUExCu",
      "include_colab_link": true
    },
    "kernelspec": {
      "name": "python3",
      "display_name": "Python 3"
    },
    "language_info": {
      "name": "python"
    }
  },
  "cells": [
    {
      "cell_type": "markdown",
      "metadata": {
        "id": "view-in-github",
        "colab_type": "text"
      },
      "source": [
        "<a href=\"https://colab.research.google.com/github/PriyanshuR23/Industrial_IOT_Predictive_Maintenance/blob/main/Final.ipynb\" target=\"_parent\"><img src=\"https://colab.research.google.com/assets/colab-badge.svg\" alt=\"Open In Colab\"/></a>"
      ]
    },
    {
      "cell_type": "code",
      "source": [
        "import numpy as np\n",
        "import pandas as pd\n",
        "from google.colab import drive\n",
        "import numpy as np\n",
        "from sklearn.preprocessing import LabelEncoder\n",
        "from sklearn.experimental import enable_iterative_imputer #\n",
        "from sklearn.impute import IterativeImputer\n",
        "from sklearn.linear_model import BayesianRidge\n",
        "import seaborn as sns\n",
        "import matplotlib.pyplot as plt\n",
        "from sklearn.model_selection import train_test_split\n",
        "from sklearn.preprocessing import StandardScaler\n",
        "import torch\n",
        "import joblib\n",
        "from sklearn.metrics import classification_report,accuracy_score,precision_score, recall_score, f1_score"
      ],
      "metadata": {
        "id": "nozG4squyyMR"
      },
      "execution_count": 1,
      "outputs": []
    },
    {
      "cell_type": "code",
      "execution_count": 2,
      "metadata": {
        "colab": {
          "base_uri": "https://localhost:8080/"
        },
        "id": "TyD534wNuJAR",
        "outputId": "ff56ce67-dc62-4e7c-ba43-bf0d990cabe4"
      },
      "outputs": [
        {
          "output_type": "stream",
          "name": "stdout",
          "text": [
            "Mounted at /content/drive\n",
            "   UDI              Date  System Control Product ID Type  Air temperature (K)  \\\n",
            "0    1  15/04/2014 11:56       0       C     M14860    M                  NaN   \n",
            "1    2  12/04/2014 16:09       0       A     L47181    L                298.2   \n",
            "2    3  13/04/2014 01:13       0       A     L47182    L                298.1   \n",
            "3    4  24/07/2014 20:35       0       B     L47183    L                  NaN   \n",
            "4    5  22/07/2014 01:31       0       C     L47184    L                  NaN   \n",
            "\n",
            "   Process temperature (K)  Rotational speed (rpm)  Torque (Nm)  \\\n",
            "0                      NaN                     NaN         42.8   \n",
            "1                    308.7                  1408.0          NaN   \n",
            "2                    308.5                  1498.0          NaN   \n",
            "3                      NaN                  1433.0         39.5   \n",
            "4                      NaN                     NaN         40.0   \n",
            "\n",
            "   Tool wear (min)  Diagnostic  \n",
            "0              0.0  No failure  \n",
            "1              NaN  No failure  \n",
            "2              NaN  No failure  \n",
            "3              NaN  No failure  \n",
            "4              9.0  No failure  \n"
          ]
        }
      ],
      "source": [
        "drive.mount('/content/drive')\n",
        "\n",
        "df = pd.read_csv('/content/drive/MyDrive/Datasets/AI4I-PMDI.csv')\n",
        "\n",
        "print(df.head())"
      ]
    },
    {
      "cell_type": "code",
      "source": [
        "from IPython.display import display, HTML\n",
        "display(HTML(df.head().to_html()))\n",
        "print(df.isnull().sum())"
      ],
      "metadata": {
        "colab": {
          "base_uri": "https://localhost:8080/",
          "height": 415
        },
        "id": "wxcWfJX1uP4s",
        "outputId": "b0d8d2e8-90ab-477f-cf40-06aeb8e5cb3b"
      },
      "execution_count": 3,
      "outputs": [
        {
          "output_type": "display_data",
          "data": {
            "text/plain": [
              "<IPython.core.display.HTML object>"
            ],
            "text/html": [
              "<table border=\"1\" class=\"dataframe\">\n",
              "  <thead>\n",
              "    <tr style=\"text-align: right;\">\n",
              "      <th></th>\n",
              "      <th>UDI</th>\n",
              "      <th>Date</th>\n",
              "      <th>System</th>\n",
              "      <th>Control</th>\n",
              "      <th>Product ID</th>\n",
              "      <th>Type</th>\n",
              "      <th>Air temperature (K)</th>\n",
              "      <th>Process temperature (K)</th>\n",
              "      <th>Rotational speed (rpm)</th>\n",
              "      <th>Torque (Nm)</th>\n",
              "      <th>Tool wear (min)</th>\n",
              "      <th>Diagnostic</th>\n",
              "    </tr>\n",
              "  </thead>\n",
              "  <tbody>\n",
              "    <tr>\n",
              "      <th>0</th>\n",
              "      <td>1</td>\n",
              "      <td>15/04/2014 11:56</td>\n",
              "      <td>0</td>\n",
              "      <td>C</td>\n",
              "      <td>M14860</td>\n",
              "      <td>M</td>\n",
              "      <td>NaN</td>\n",
              "      <td>NaN</td>\n",
              "      <td>NaN</td>\n",
              "      <td>42.8</td>\n",
              "      <td>0.0</td>\n",
              "      <td>No failure</td>\n",
              "    </tr>\n",
              "    <tr>\n",
              "      <th>1</th>\n",
              "      <td>2</td>\n",
              "      <td>12/04/2014 16:09</td>\n",
              "      <td>0</td>\n",
              "      <td>A</td>\n",
              "      <td>L47181</td>\n",
              "      <td>L</td>\n",
              "      <td>298.2</td>\n",
              "      <td>308.7</td>\n",
              "      <td>1408.0</td>\n",
              "      <td>NaN</td>\n",
              "      <td>NaN</td>\n",
              "      <td>No failure</td>\n",
              "    </tr>\n",
              "    <tr>\n",
              "      <th>2</th>\n",
              "      <td>3</td>\n",
              "      <td>13/04/2014 01:13</td>\n",
              "      <td>0</td>\n",
              "      <td>A</td>\n",
              "      <td>L47182</td>\n",
              "      <td>L</td>\n",
              "      <td>298.1</td>\n",
              "      <td>308.5</td>\n",
              "      <td>1498.0</td>\n",
              "      <td>NaN</td>\n",
              "      <td>NaN</td>\n",
              "      <td>No failure</td>\n",
              "    </tr>\n",
              "    <tr>\n",
              "      <th>3</th>\n",
              "      <td>4</td>\n",
              "      <td>24/07/2014 20:35</td>\n",
              "      <td>0</td>\n",
              "      <td>B</td>\n",
              "      <td>L47183</td>\n",
              "      <td>L</td>\n",
              "      <td>NaN</td>\n",
              "      <td>NaN</td>\n",
              "      <td>1433.0</td>\n",
              "      <td>39.5</td>\n",
              "      <td>NaN</td>\n",
              "      <td>No failure</td>\n",
              "    </tr>\n",
              "    <tr>\n",
              "      <th>4</th>\n",
              "      <td>5</td>\n",
              "      <td>22/07/2014 01:31</td>\n",
              "      <td>0</td>\n",
              "      <td>C</td>\n",
              "      <td>L47184</td>\n",
              "      <td>L</td>\n",
              "      <td>NaN</td>\n",
              "      <td>NaN</td>\n",
              "      <td>NaN</td>\n",
              "      <td>40.0</td>\n",
              "      <td>9.0</td>\n",
              "      <td>No failure</td>\n",
              "    </tr>\n",
              "  </tbody>\n",
              "</table>"
            ]
          },
          "metadata": {}
        },
        {
          "output_type": "stream",
          "name": "stdout",
          "text": [
            "UDI                           0\n",
            "Date                          0\n",
            "System                        0\n",
            "Control                       0\n",
            "Product ID                    0\n",
            "Type                          0\n",
            "Air temperature (K)        6563\n",
            "Process temperature (K)    6563\n",
            "Rotational speed (rpm)     3321\n",
            "Torque (Nm)                3437\n",
            "Tool wear (min)            6679\n",
            "Diagnostic                    0\n",
            "dtype: int64\n"
          ]
        }
      ]
    },
    {
      "cell_type": "code",
      "source": [
        "\n",
        "unique_diagnostics = df['Diagnostic'].unique()\n",
        "num_unique_diagnostics = len(unique_diagnostics)\n",
        "\n",
        "print(f\"Number of unique diagnostics: {num_unique_diagnostics}\")\n",
        "print(f\"Unique diagnostic names: {unique_diagnostics}\")"
      ],
      "metadata": {
        "colab": {
          "base_uri": "https://localhost:8080/"
        },
        "id": "QoNxWy4Lv20h",
        "outputId": "170ccee2-9358-4765-ed1d-c45f18c7ebf5"
      },
      "execution_count": 4,
      "outputs": [
        {
          "output_type": "stream",
          "name": "stdout",
          "text": [
            "Number of unique diagnostics: 6\n",
            "Unique diagnostic names: ['No failure' 'Power Failure' 'Overstrain Failure' 'Tool Wear Failure'\n",
            " 'Random Failures' 'Heat Dissipation Failure']\n"
          ]
        }
      ]
    },
    {
      "cell_type": "markdown",
      "source": [
        "***Assigning Numeric Values to the classes using Label Encoder.***"
      ],
      "metadata": {
        "id": "-Hy4b4c8x2u_"
      }
    },
    {
      "cell_type": "code",
      "source": [
        "label_encoder = LabelEncoder()\n",
        "\n",
        "label_encoder.fit(df['Diagnostic'])\n",
        "\n",
        "# 'No failure' is always 0\n",
        "diagnostic_classes = list(label_encoder.classes_)\n",
        "diagnostic_classes.remove('No failure')\n",
        "diagnostic_classes.insert(0, 'No failure')\n",
        "\n",
        "# Apply the adjusted mapping\n",
        "label_encoder.classes_ = np.array(diagnostic_classes, dtype=object)\n",
        "df['Diagnostic_encoded'] = label_encoder.transform(df['Diagnostic'])\n",
        "\n",
        "# Create a mapping dictionary for reference\n",
        "diagnostic_mapping = dict(zip(label_encoder.classes_, label_encoder.transform(label_encoder.classes_)))\n",
        "\n",
        "# Print the mapping\n",
        "print(\"Diagnostic Mapping:\")\n",
        "for diagnostic, encoded_value in diagnostic_mapping.items():\n",
        "    print(f\"{diagnostic}: {encoded_value}\")\n",
        "\n",
        "# Display the updated DataFrame with the encoded column\n",
        "print(\"\\nUpdated DataFrame with encoded 'Diagnostic' column:\")\n",
        "display(HTML(df.head().to_html()))"
      ],
      "metadata": {
        "colab": {
          "base_uri": "https://localhost:8080/",
          "height": 349
        },
        "id": "uB_lXZ5CwItA",
        "outputId": "0c648282-5db7-4f43-8925-8ea3cf2e99e3"
      },
      "execution_count": 5,
      "outputs": [
        {
          "output_type": "stream",
          "name": "stdout",
          "text": [
            "Diagnostic Mapping:\n",
            "No failure: 0\n",
            "Heat Dissipation Failure: 1\n",
            "Overstrain Failure: 2\n",
            "Power Failure: 3\n",
            "Random Failures: 4\n",
            "Tool Wear Failure: 5\n",
            "\n",
            "Updated DataFrame with encoded 'Diagnostic' column:\n"
          ]
        },
        {
          "output_type": "display_data",
          "data": {
            "text/plain": [
              "<IPython.core.display.HTML object>"
            ],
            "text/html": [
              "<table border=\"1\" class=\"dataframe\">\n",
              "  <thead>\n",
              "    <tr style=\"text-align: right;\">\n",
              "      <th></th>\n",
              "      <th>UDI</th>\n",
              "      <th>Date</th>\n",
              "      <th>System</th>\n",
              "      <th>Control</th>\n",
              "      <th>Product ID</th>\n",
              "      <th>Type</th>\n",
              "      <th>Air temperature (K)</th>\n",
              "      <th>Process temperature (K)</th>\n",
              "      <th>Rotational speed (rpm)</th>\n",
              "      <th>Torque (Nm)</th>\n",
              "      <th>Tool wear (min)</th>\n",
              "      <th>Diagnostic</th>\n",
              "      <th>Diagnostic_encoded</th>\n",
              "    </tr>\n",
              "  </thead>\n",
              "  <tbody>\n",
              "    <tr>\n",
              "      <th>0</th>\n",
              "      <td>1</td>\n",
              "      <td>15/04/2014 11:56</td>\n",
              "      <td>0</td>\n",
              "      <td>C</td>\n",
              "      <td>M14860</td>\n",
              "      <td>M</td>\n",
              "      <td>NaN</td>\n",
              "      <td>NaN</td>\n",
              "      <td>NaN</td>\n",
              "      <td>42.8</td>\n",
              "      <td>0.0</td>\n",
              "      <td>No failure</td>\n",
              "      <td>0</td>\n",
              "    </tr>\n",
              "    <tr>\n",
              "      <th>1</th>\n",
              "      <td>2</td>\n",
              "      <td>12/04/2014 16:09</td>\n",
              "      <td>0</td>\n",
              "      <td>A</td>\n",
              "      <td>L47181</td>\n",
              "      <td>L</td>\n",
              "      <td>298.2</td>\n",
              "      <td>308.7</td>\n",
              "      <td>1408.0</td>\n",
              "      <td>NaN</td>\n",
              "      <td>NaN</td>\n",
              "      <td>No failure</td>\n",
              "      <td>0</td>\n",
              "    </tr>\n",
              "    <tr>\n",
              "      <th>2</th>\n",
              "      <td>3</td>\n",
              "      <td>13/04/2014 01:13</td>\n",
              "      <td>0</td>\n",
              "      <td>A</td>\n",
              "      <td>L47182</td>\n",
              "      <td>L</td>\n",
              "      <td>298.1</td>\n",
              "      <td>308.5</td>\n",
              "      <td>1498.0</td>\n",
              "      <td>NaN</td>\n",
              "      <td>NaN</td>\n",
              "      <td>No failure</td>\n",
              "      <td>0</td>\n",
              "    </tr>\n",
              "    <tr>\n",
              "      <th>3</th>\n",
              "      <td>4</td>\n",
              "      <td>24/07/2014 20:35</td>\n",
              "      <td>0</td>\n",
              "      <td>B</td>\n",
              "      <td>L47183</td>\n",
              "      <td>L</td>\n",
              "      <td>NaN</td>\n",
              "      <td>NaN</td>\n",
              "      <td>1433.0</td>\n",
              "      <td>39.5</td>\n",
              "      <td>NaN</td>\n",
              "      <td>No failure</td>\n",
              "      <td>0</td>\n",
              "    </tr>\n",
              "    <tr>\n",
              "      <th>4</th>\n",
              "      <td>5</td>\n",
              "      <td>22/07/2014 01:31</td>\n",
              "      <td>0</td>\n",
              "      <td>C</td>\n",
              "      <td>L47184</td>\n",
              "      <td>L</td>\n",
              "      <td>NaN</td>\n",
              "      <td>NaN</td>\n",
              "      <td>NaN</td>\n",
              "      <td>40.0</td>\n",
              "      <td>9.0</td>\n",
              "      <td>No failure</td>\n",
              "      <td>0</td>\n",
              "    </tr>\n",
              "  </tbody>\n",
              "</table>"
            ]
          },
          "metadata": {}
        }
      ]
    },
    {
      "cell_type": "markdown",
      "source": [],
      "metadata": {
        "id": "e9wo6wwmyTGr"
      }
    },
    {
      "cell_type": "code",
      "source": [
        "# Save the columns to be dropped\n",
        "dropped_columns = df[['UDI', 'Date', 'System', 'Control', 'Product ID', 'Type', 'Diagnostic']]\n",
        "\n",
        "# Create a new dataframe with dropped columns.\n",
        "df_dropped = pd.DataFrame(dropped_columns)\n",
        "\n",
        "# Export the dropped columns to a new CSV file\n",
        "df_dropped.to_csv('/content/drive/MyDrive/Capstone/dropped_columns.csv', index=False)\n",
        "\n",
        "# Drop the specified columns from the original DataFrame\n",
        "df = df.drop(['UDI', 'Date', 'System', 'Control', 'Product ID', 'Type', 'Diagnostic'], axis=1)\n",
        "\n",
        "# Display the updated DataFrame\n",
        "print(\"\\nDataFrame after dropping columns:\")\n",
        "display(HTML(df.head().to_html()))\n"
      ],
      "metadata": {
        "colab": {
          "base_uri": "https://localhost:8080/",
          "height": 234
        },
        "id": "q7UnmTCn2K33",
        "outputId": "e5885a8a-28c4-499d-c301-6a759e9bd00c"
      },
      "execution_count": 6,
      "outputs": [
        {
          "output_type": "stream",
          "name": "stdout",
          "text": [
            "\n",
            "DataFrame after dropping columns:\n"
          ]
        },
        {
          "output_type": "display_data",
          "data": {
            "text/plain": [
              "<IPython.core.display.HTML object>"
            ],
            "text/html": [
              "<table border=\"1\" class=\"dataframe\">\n",
              "  <thead>\n",
              "    <tr style=\"text-align: right;\">\n",
              "      <th></th>\n",
              "      <th>Air temperature (K)</th>\n",
              "      <th>Process temperature (K)</th>\n",
              "      <th>Rotational speed (rpm)</th>\n",
              "      <th>Torque (Nm)</th>\n",
              "      <th>Tool wear (min)</th>\n",
              "      <th>Diagnostic_encoded</th>\n",
              "    </tr>\n",
              "  </thead>\n",
              "  <tbody>\n",
              "    <tr>\n",
              "      <th>0</th>\n",
              "      <td>NaN</td>\n",
              "      <td>NaN</td>\n",
              "      <td>NaN</td>\n",
              "      <td>42.8</td>\n",
              "      <td>0.0</td>\n",
              "      <td>0</td>\n",
              "    </tr>\n",
              "    <tr>\n",
              "      <th>1</th>\n",
              "      <td>298.2</td>\n",
              "      <td>308.7</td>\n",
              "      <td>1408.0</td>\n",
              "      <td>NaN</td>\n",
              "      <td>NaN</td>\n",
              "      <td>0</td>\n",
              "    </tr>\n",
              "    <tr>\n",
              "      <th>2</th>\n",
              "      <td>298.1</td>\n",
              "      <td>308.5</td>\n",
              "      <td>1498.0</td>\n",
              "      <td>NaN</td>\n",
              "      <td>NaN</td>\n",
              "      <td>0</td>\n",
              "    </tr>\n",
              "    <tr>\n",
              "      <th>3</th>\n",
              "      <td>NaN</td>\n",
              "      <td>NaN</td>\n",
              "      <td>1433.0</td>\n",
              "      <td>39.5</td>\n",
              "      <td>NaN</td>\n",
              "      <td>0</td>\n",
              "    </tr>\n",
              "    <tr>\n",
              "      <th>4</th>\n",
              "      <td>NaN</td>\n",
              "      <td>NaN</td>\n",
              "      <td>NaN</td>\n",
              "      <td>40.0</td>\n",
              "      <td>9.0</td>\n",
              "      <td>0</td>\n",
              "    </tr>\n",
              "  </tbody>\n",
              "</table>"
            ]
          },
          "metadata": {}
        }
      ]
    },
    {
      "cell_type": "code",
      "source": [
        "numerical_cols = df.select_dtypes(include=['number']).columns\n",
        "# Create an IterativeImputer object with Bayesian Ridge\n",
        "imputer = IterativeImputer(estimator=BayesianRidge(), random_state=42,tol =0.01)\n",
        "\n",
        "# Apply imputation\n",
        "df[numerical_cols] = imputer.fit_transform(df[numerical_cols])\n",
        "\n",
        "# Apply constraints to keep values within reasonable limits\n",
        "df['Air temperature (K)'] = np.clip(df['Air temperature (K)'], 250, 400)\n",
        "df['Process temperature (K)'] = np.clip(df['Process temperature (K)'], 250, 400)\n",
        "df['Rotational speed (rpm)'] = np.clip(df['Rotational speed (rpm)'], 900, 3500)\n",
        "df['Torque (Nm)'] = np.clip(df['Torque (Nm)'], 0, 100)\n",
        "df['Tool wear (min)'] = np.clip(df['Tool wear (min)'], 0, 300)\n",
        "\n",
        "# Display the updated DataFrame\n",
        "print(\"\\nUpdated DataFrame after imputing and clipping:\")\n",
        "display(HTML(df.head().to_html()))"
      ],
      "metadata": {
        "colab": {
          "base_uri": "https://localhost:8080/",
          "height": 267
        },
        "id": "Nxaa0l8vxNAE",
        "outputId": "892f1df3-8de2-447a-ea2b-42ff7d2bccaf"
      },
      "execution_count": 7,
      "outputs": [
        {
          "output_type": "stream",
          "name": "stdout",
          "text": [
            "\n",
            "Updated DataFrame after imputing and clipping:\n"
          ]
        },
        {
          "output_type": "stream",
          "name": "stderr",
          "text": [
            "/usr/local/lib/python3.11/dist-packages/sklearn/impute/_iterative.py:895: ConvergenceWarning: [IterativeImputer] Early stopping criterion not reached.\n",
            "  warnings.warn(\n"
          ]
        },
        {
          "output_type": "display_data",
          "data": {
            "text/plain": [
              "<IPython.core.display.HTML object>"
            ],
            "text/html": [
              "<table border=\"1\" class=\"dataframe\">\n",
              "  <thead>\n",
              "    <tr style=\"text-align: right;\">\n",
              "      <th></th>\n",
              "      <th>Air temperature (K)</th>\n",
              "      <th>Process temperature (K)</th>\n",
              "      <th>Rotational speed (rpm)</th>\n",
              "      <th>Torque (Nm)</th>\n",
              "      <th>Tool wear (min)</th>\n",
              "      <th>Diagnostic_encoded</th>\n",
              "    </tr>\n",
              "  </thead>\n",
              "  <tbody>\n",
              "    <tr>\n",
              "      <th>0</th>\n",
              "      <td>250.0</td>\n",
              "      <td>250.0</td>\n",
              "      <td>900.0</td>\n",
              "      <td>42.800000</td>\n",
              "      <td>0.000000</td>\n",
              "      <td>0.0</td>\n",
              "    </tr>\n",
              "    <tr>\n",
              "      <th>1</th>\n",
              "      <td>298.2</td>\n",
              "      <td>308.7</td>\n",
              "      <td>1408.0</td>\n",
              "      <td>49.352130</td>\n",
              "      <td>101.735729</td>\n",
              "      <td>0.0</td>\n",
              "    </tr>\n",
              "    <tr>\n",
              "      <th>2</th>\n",
              "      <td>298.1</td>\n",
              "      <td>308.5</td>\n",
              "      <td>1498.0</td>\n",
              "      <td>44.847462</td>\n",
              "      <td>104.383550</td>\n",
              "      <td>0.0</td>\n",
              "    </tr>\n",
              "    <tr>\n",
              "      <th>3</th>\n",
              "      <td>250.0</td>\n",
              "      <td>250.0</td>\n",
              "      <td>1433.0</td>\n",
              "      <td>39.500000</td>\n",
              "      <td>77.538358</td>\n",
              "      <td>0.0</td>\n",
              "    </tr>\n",
              "    <tr>\n",
              "      <th>4</th>\n",
              "      <td>250.0</td>\n",
              "      <td>250.0</td>\n",
              "      <td>900.0</td>\n",
              "      <td>40.000000</td>\n",
              "      <td>9.000000</td>\n",
              "      <td>0.0</td>\n",
              "    </tr>\n",
              "  </tbody>\n",
              "</table>"
            ]
          },
          "metadata": {}
        }
      ]
    },
    {
      "cell_type": "code",
      "source": [
        "# Count occurrences of each diagnostic\n",
        "diagnostic_counts = df['Diagnostic_encoded'].value_counts()\n",
        "\n",
        "# Calculate percentages\n",
        "diagnostic_percentages = (diagnostic_counts / len(df)) * 100\n",
        "\n",
        "# Print counts and percentages\n",
        "print(\"Diagnostic Counts and Percentages:\")\n",
        "for diagnostic, count in diagnostic_counts.items():\n",
        "    percentage = diagnostic_percentages[diagnostic]\n",
        "    print(f\"Diagnostic {diagnostic}: Count = {count}, Percentage = {percentage:.2f}%\")"
      ],
      "metadata": {
        "colab": {
          "base_uri": "https://localhost:8080/"
        },
        "id": "rEbs5UiSyrEI",
        "outputId": "c97dcb3a-fe02-4c19-8b73-03924f6f6619"
      },
      "execution_count": 8,
      "outputs": [
        {
          "output_type": "stream",
          "name": "stdout",
          "text": [
            "Diagnostic Counts and Percentages:\n",
            "Diagnostic 0.0: Count = 9652, Percentage = 96.52%\n",
            "Diagnostic 1.0: Count = 106, Percentage = 1.06%\n",
            "Diagnostic 2.0: Count = 98, Percentage = 0.98%\n",
            "Diagnostic 3.0: Count = 83, Percentage = 0.83%\n",
            "Diagnostic 5.0: Count = 42, Percentage = 0.42%\n",
            "Diagnostic 4.0: Count = 19, Percentage = 0.19%\n"
          ]
        }
      ]
    },
    {
      "cell_type": "code",
      "source": [
        "plt.figure(figsize=(10, 6))\n",
        "sns.histplot(df['Diagnostic_encoded'], kde=True,color=\"pink\")\n",
        "plt.title('Histogram of Diagnostic Encoded')\n",
        "plt.xlabel('Diagnostic Encoded')\n",
        "plt.ylabel('Frequency')\n",
        "plt.show()\n"
      ],
      "metadata": {
        "colab": {
          "base_uri": "https://localhost:8080/",
          "height": 563
        },
        "id": "YAQ2lyxnofbu",
        "outputId": "71101e0f-639b-4cec-fd2a-148d33a34ad8"
      },
      "execution_count": 10,
      "outputs": [
        {
          "output_type": "display_data",
          "data": {
            "text/plain": [
              "<Figure size 1000x600 with 1 Axes>"
            ],
            "image/png": "[encoded data removed]"
          },
          "metadata": {}
        }
      ]
    },
    {
      "cell_type": "code",
      "source": [
        "from imblearn.over_sampling import SMOTE\n",
        "import numpy as np\n",
        "import pandas as pd\n",
        "\n",
        "# Assuming `df` is your original dataset\n",
        "X = df.drop(columns=['Diagnostic_encoded'])  # Features\n",
        "y = df['Diagnostic_encoded']                 # Target Variable\n",
        "\n",
        "# Define new sampling strategy based on encoded values\n",
        "sampling_strategy = {\n",
        "    1.0: 2800,\n",
        "    2.0: 2700,\n",
        "    3.0: 2500,\n",
        "    5.0: 2200,\n",
        "    4.0: 1900\n",
        "}\n",
        "\n",
        "# Apply SMOTE with custom distribution\n",
        "smote = SMOTE(sampling_strategy=sampling_strategy, random_state=42)\n",
        "X_resampled, y_resampled = smote.fit_resample(X, y)\n",
        "\n",
        "# Convert back to DataFrame\n",
        "df = pd.DataFrame(X_resampled, columns=X.columns)\n",
        "df['Diagnostic_encoded'] = y_resampled\n",
        "\n",
        "# Check new class distribution\n",
        "print(df['Diagnostic_encoded'].value_counts(normalize=True) * 100)"
      ],
      "metadata": {
        "colab": {
          "base_uri": "https://localhost:8080/"
        },
        "id": "6u18_a4VlOaK",
        "outputId": "3f6f4b54-e02b-40d8-da09-89fb3624550b"
      },
      "execution_count": 14,
      "outputs": [
        {
          "output_type": "stream",
          "name": "stdout",
          "text": [
            "Diagnostic_encoded\n",
            "0.0    44.372931\n",
            "1.0    12.872380\n",
            "2.0    12.412652\n",
            "3.0    11.493196\n",
            "5.0    10.114013\n",
            "4.0     8.734829\n",
            "Name: proportion, dtype: float64\n"
          ]
        }
      ]
    },
    {
      "cell_type": "code",
      "source": [
        "plt.figure(figsize=(10, 6))\n",
        "sns.histplot(df['Diagnostic_encoded'], kde=True,color=\"pink\")\n",
        "plt.title('Histogram of Diagnostic Encoded')\n",
        "plt.xlabel('Diagnostic Encoded')\n",
        "plt.ylabel('Frequency')\n",
        "plt.show()\n"
      ],
      "metadata": {
        "colab": {
          "base_uri": "https://localhost:8080/",
          "height": 563
        },
        "id": "qS6aJHfTpkkq",
        "outputId": "c4f8e267-bc93-4fe1-8789-3e944fae1a3f"
      },
      "execution_count": 15,
      "outputs": [
        {
          "output_type": "display_data",
          "data": {
            "text/plain": [
              "<Figure size 1000x600 with 1 Axes>"
            ],
            "image/png": "[encoded data removed]"
          },
          "metadata": {}
        }
      ]
    },
    {
      "cell_type": "code",
      "source": [
        "# Calculate the correlation matrix\n",
        "correlation_matrix = df.corr()\n",
        "\n",
        "# Create a heatmap\n",
        "plt.figure(figsize=(12, 10))\n",
        "sns.heatmap(correlation_matrix, annot=True, cmap='coolwarm', fmt=\".2f\")\n",
        "plt.title('Correlation Matrix of Features')\n",
        "plt.show()\n"
      ],
      "metadata": {
        "colab": {
          "base_uri": "https://localhost:8080/",
          "height": 1000
        },
        "id": "L7LR46Pf3ib-",
        "outputId": "76a99413-fc83-4669-e6bf-535b498c9386"
      },
      "execution_count": 16,
      "outputs": [
        {
          "output_type": "display_data",
          "data": {
            "text/plain": [
              "<Figure size 1200x1000 with 2 Axes>"
            ],
            "image/png": "[encoded data removed]"
          },
          "metadata": {}
        }
      ]
    },
    {
      "cell_type": "code",
      "source": [
        "# Create box plots for all numerical features\n",
        "plt.figure(figsize=(15, 10))\n",
        "for i, col in enumerate(df.select_dtypes(include=np.number).columns):\n",
        "    plt.subplot(3, 3, i + 1)\n",
        "    sns.boxplot(y=df[col])\n",
        "    plt.title(col)\n",
        "plt.tight_layout()\n",
        "plt.show()\n"
      ],
      "metadata": {
        "colab": {
          "base_uri": "https://localhost:8080/",
          "height": 681
        },
        "id": "k_igcbwD3wyP",
        "outputId": "a1437ae9-a2ff-470b-a925-a8fbd13e68b7"
      },
      "execution_count": 17,
      "outputs": [
        {
          "output_type": "display_data",
          "data": {
            "text/plain": [
              "<Figure size 1500x1000 with 6 Axes>"
            ],
            "image/png": "[encoded data removed]"
          },
          "metadata": {}
        }
      ]
    },
    {
      "cell_type": "code",
      "source": [
        "def calculate_iqr_outliers(df):\n",
        "  \"\"\"\n",
        "  Calculates the IQR and counts outliers for numerical features in a DataFrame.\n",
        "\n",
        "  Args:\n",
        "    df: The DataFrame to analyze.\n",
        "\n",
        "  Returns:\n",
        "    A dictionary with feature names as keys and a tuple of (IQR, outlier_count) as values.\n",
        "  \"\"\"\n",
        "  outlier_info = {}\n",
        "  for column in df.select_dtypes(include=['number']).columns:\n",
        "    if column != 'Diagnostic_encoded':  # Exclude the target variable\n",
        "      Q1 = df[column].quantile(0.25)\n",
        "      Q3 = df[column].quantile(0.75)\n",
        "      IQR = Q3 - Q1\n",
        "      lower_bound = Q1 - 1.5 * IQR\n",
        "      upper_bound = Q3 + 1.5 * IQR\n",
        "      outlier_count = len(df[(df[column] < lower_bound) | (df[column] > upper_bound)])\n",
        "      outlier_info[column] = (IQR, outlier_count)\n",
        "  return outlier_info\n",
        "\n",
        "# Calculate IQR and outlier counts for df_balanced\n",
        "outlier_counts_df = calculate_iqr_outliers(df)\n",
        "\n",
        "\n",
        "# Print the results\n",
        "for feature, (IQR, outlier_count) in outlier_counts_df.items():\n",
        "  print(f\"Feature: {feature}, IQR: {IQR:.2f}, Outlier Count: {outlier_count}\")"
      ],
      "metadata": {
        "colab": {
          "base_uri": "https://localhost:8080/"
        },
        "id": "Msa4nCu20dk3",
        "outputId": "85b5b30c-0df0-4ac5-bdf0-8bf713bdae52"
      },
      "execution_count": 18,
      "outputs": [
        {
          "output_type": "stream",
          "name": "stdout",
          "text": [
            "Feature: Air temperature (K), IQR: 150.00, Outlier Count: 0\n",
            "Feature: Process temperature (K), IQR: 150.00, Outlier Count: 0\n",
            "Feature: Rotational speed (rpm), IQR: 314.37, Outlier Count: 1332\n",
            "Feature: Torque (Nm), IQR: 19.44, Outlier Count: 198\n",
            "Feature: Tool wear (min), IQR: 99.41, Outlier Count: 0\n"
          ]
        }
      ]
    },
    {
      "cell_type": "code",
      "source": [
        "# # Define the IQR range for 'Rotational speed (rpm)' and 'Tool wear (min)'\n",
        "# Q1 = df[['Rotational speed (rpm)', 'Tool wear (min)']].quantile(0.25)\n",
        "# Q3 = df[['Rotational speed (rpm)', 'Tool wear (min)']].quantile(0.75)\n",
        "# IQR = Q3 - Q1\n",
        "\n",
        "# # Define outlier boundaries\n",
        "# lower_bound = Q1 - 1.5 * IQR\n",
        "# upper_bound = Q3 + 1.5 * IQR\n",
        "\n",
        "# # Filter the DataFrame to remove outliers\n",
        "# df = df[\n",
        "#     (df['Rotational speed (rpm)'] >= lower_bound['Rotational speed (rpm)']) &\n",
        "#     (df['Rotational speed (rpm)'] <= upper_bound['Rotational speed (rpm)']) &\n",
        "#     (df['Tool wear (min)'] >= lower_bound['Tool wear (min)']) &\n",
        "#     (df['Tool wear (min)'] <= upper_bound['Tool wear (min)'])\n",
        "# ]\n",
        "\n",
        "# print(f\"New dataset shape after outlier removal: {df.shape}\")\n"
      ],
      "metadata": {
        "id": "uxBz7N_S0zfV"
      },
      "execution_count": null,
      "outputs": []
    },
    {
      "cell_type": "code",
      "source": [
        "print(df['Diagnostic_encoded'].nunique())\n"
      ],
      "metadata": {
        "colab": {
          "base_uri": "https://localhost:8080/"
        },
        "id": "3938tilyC5Dk",
        "outputId": "7b86083c-c0f8-4e39-816c-35e354af6eda"
      },
      "execution_count": 19,
      "outputs": [
        {
          "output_type": "stream",
          "name": "stdout",
          "text": [
            "6\n"
          ]
        }
      ]
    },
    {
      "cell_type": "code",
      "source": [
        "from sklearn.model_selection import train_test_split\n",
        "\n",
        "# Define features (X) and target (y)\n",
        "X = df.drop(columns=['Diagnostic_encoded'])\n",
        "y = df['Diagnostic_encoded']\n",
        "\n",
        "# Get unique classes\n",
        "classes = y.unique()\n",
        "\n",
        "# Separate out each class\n",
        "X_class = {cls: X[y == cls] for cls in classes}\n",
        "y_class = {cls: y[y == cls] for cls in classes}\n",
        "\n",
        "# Set aside at least one sample from each class for test\n",
        "X_test_list = []\n",
        "y_test_list = []\n",
        "\n",
        "for cls in classes:\n",
        "    X_cls, X_remaining, y_cls, y_remaining = train_test_split(\n",
        "        X_class[cls], y_class[cls], test_size=0.8, random_state=42  # Keep 20% as test\n",
        "    )\n",
        "\n",
        "    X_test_list.append(X_cls)\n",
        "    y_test_list.append(y_cls)\n",
        "\n",
        "    X_class[cls] = X_remaining\n",
        "    y_class[cls] = y_remaining\n",
        "\n",
        "# Combine test sets\n",
        "X_test = pd.concat(X_test_list, axis=0)\n",
        "y_test = pd.concat(y_test_list, axis=0)\n",
        "\n",
        "# Combine remaining samples and split into train/val\n",
        "X_remaining = pd.concat(X_class.values(), axis=0)\n",
        "y_remaining = pd.concat(y_class.values(), axis=0)\n",
        "\n",
        "X_train, X_val, y_train, y_val = train_test_split(\n",
        "    X_remaining, y_remaining, test_size=0.2, random_state=42, stratify=y_remaining\n",
        ")\n",
        "\n",
        "# Print class distributions\n",
        "print(\"Class distribution in training set:\\n\", y_train.value_counts())\n",
        "print(\"Class distribution in test set:\\n\", y_test.value_counts())"
      ],
      "metadata": {
        "colab": {
          "base_uri": "https://localhost:8080/"
        },
        "id": "Gb4d7wUM4RFg",
        "outputId": "ad03dd43-f33a-429b-c705-51a2d33e82d9"
      },
      "execution_count": 20,
      "outputs": [
        {
          "output_type": "stream",
          "name": "stdout",
          "text": [
            "Class distribution in training set:\n",
            " Diagnostic_encoded\n",
            "0.0    6177\n",
            "1.0    1792\n",
            "2.0    1728\n",
            "3.0    1600\n",
            "5.0    1408\n",
            "4.0    1216\n",
            "Name: count, dtype: int64\n",
            "Class distribution in test set:\n",
            " Diagnostic_encoded\n",
            "0.0    1930\n",
            "1.0     560\n",
            "2.0     540\n",
            "3.0     500\n",
            "5.0     440\n",
            "4.0     380\n",
            "Name: count, dtype: int64\n"
          ]
        }
      ]
    },
    {
      "cell_type": "code",
      "source": [
        "# Initialize the scaler\n",
        "scaler = StandardScaler()\n",
        "\n",
        "# Fit on training data and transform both train and test sets\n",
        "X_train_scaled = scaler.fit_transform(X_train)\n",
        "X_test_scaled = scaler.transform(X_test)"
      ],
      "metadata": {
        "id": "8Bue1eT0479_"
      },
      "execution_count": 21,
      "outputs": []
    },
    {
      "cell_type": "code",
      "source": [
        "!pip install pytorch-tabnet\n",
        "from pytorch_tabnet.tab_model import TabNetClassifier"
      ],
      "metadata": {
        "colab": {
          "base_uri": "https://localhost:8080/"
        },
        "collapsed": true,
        "id": "QzVxwbe56Rai",
        "outputId": "138246be-6ebe-4176-e13b-f1c245f12491"
      },
      "execution_count": 23,
      "outputs": [
        {
          "output_type": "stream",
          "name": "stdout",
          "text": [
            "Collecting pytorch-tabnet\n",
            "  Downloading pytorch_tabnet-4.1.0-py3-none-any.whl.metadata (15 kB)\n",
            "Requirement already satisfied: numpy>=1.17 in /usr/local/lib/python3.11/dist-packages (from pytorch-tabnet) (2.0.2)\n",
            "Requirement already satisfied: scikit_learn>0.21 in /usr/local/lib/python3.11/dist-packages (from pytorch-tabnet) (1.6.1)\n",
            "Requirement already satisfied: scipy>1.4 in /usr/local/lib/python3.11/dist-packages (from pytorch-tabnet) (1.14.1)\n",
            "Requirement already satisfied: torch>=1.3 in /usr/local/lib/python3.11/dist-packages (from pytorch-tabnet) (2.6.0+cu124)\n",
            "Requirement already satisfied: tqdm>=4.36 in /usr/local/lib/python3.11/dist-packages (from pytorch-tabnet) (4.67.1)\n",
            "Requirement already satisfied: joblib>=1.2.0 in /usr/local/lib/python3.11/dist-packages (from scikit_learn>0.21->pytorch-tabnet) (1.4.2)\n",
            "Requirement already satisfied: threadpoolctl>=3.1.0 in /usr/local/lib/python3.11/dist-packages (from scikit_learn>0.21->pytorch-tabnet) (3.6.0)\n",
            "Requirement already satisfied: filelock in /usr/local/lib/python3.11/dist-packages (from torch>=1.3->pytorch-tabnet) (3.18.0)\n",
            "Requirement already satisfied: typing-extensions>=4.10.0 in /usr/local/lib/python3.11/dist-packages (from torch>=1.3->pytorch-tabnet) (4.12.2)\n",
            "Requirement already satisfied: networkx in /usr/local/lib/python3.11/dist-packages (from torch>=1.3->pytorch-tabnet) (3.4.2)\n",
            "Requirement already satisfied: jinja2 in /usr/local/lib/python3.11/dist-packages (from torch>=1.3->pytorch-tabnet) (3.1.6)\n",
            "Requirement already satisfied: fsspec in /usr/local/lib/python3.11/dist-packages (from torch>=1.3->pytorch-tabnet) (2025.3.0)\n",
            "Collecting nvidia-cuda-nvrtc-cu12==12.4.127 (from torch>=1.3->pytorch-tabnet)\n",
            "  Downloading nvidia_cuda_nvrtc_cu12-12.4.127-py3-none-manylinux2014_x86_64.whl.metadata (1.5 kB)\n",
            "Collecting nvidia-cuda-runtime-cu12==12.4.127 (from torch>=1.3->pytorch-tabnet)\n",
            "  Downloading nvidia_cuda_runtime_cu12-12.4.127-py3-none-manylinux2014_x86_64.whl.metadata (1.5 kB)\n",
            "Collecting nvidia-cuda-cupti-cu12==12.4.127 (from torch>=1.3->pytorch-tabnet)\n",
            "  Downloading nvidia_cuda_cupti_cu12-12.4.127-py3-none-manylinux2014_x86_64.whl.metadata (1.6 kB)\n",
            "Collecting nvidia-cudnn-cu12==9.1.0.70 (from torch>=1.3->pytorch-tabnet)\n",
            "  Downloading nvidia_cudnn_cu12-9.1.0.70-py3-none-manylinux2014_x86_64.whl.metadata (1.6 kB)\n",
            "Collecting nvidia-cublas-cu12==12.4.5.8 (from torch>=1.3->pytorch-tabnet)\n",
            "  Downloading nvidia_cublas_cu12-12.4.5.8-py3-none-manylinux2014_x86_64.whl.metadata (1.5 kB)\n",
            "Collecting nvidia-cufft-cu12==11.2.1.3 (from torch>=1.3->pytorch-tabnet)\n",
            "  Downloading nvidia_cufft_cu12-11.2.1.3-py3-none-manylinux2014_x86_64.whl.metadata (1.5 kB)\n",
            "Collecting nvidia-curand-cu12==10.3.5.147 (from torch>=1.3->pytorch-tabnet)\n",
            "  Downloading nvidia_curand_cu12-10.3.5.147-py3-none-manylinux2014_x86_64.whl.metadata (1.5 kB)\n",
            "Collecting nvidia-cusolver-cu12==11.6.1.9 (from torch>=1.3->pytorch-tabnet)\n",
            "  Downloading nvidia_cusolver_cu12-11.6.1.9-py3-none-manylinux2014_x86_64.whl.metadata (1.6 kB)\n",
            "Collecting nvidia-cusparse-cu12==12.3.1.170 (from torch>=1.3->pytorch-tabnet)\n",
            "  Downloading nvidia_cusparse_cu12-12.3.1.170-py3-none-manylinux2014_x86_64.whl.metadata (1.6 kB)\n",
            "Requirement already satisfied: nvidia-cusparselt-cu12==0.6.2 in /usr/local/lib/python3.11/dist-packages (from torch>=1.3->pytorch-tabnet) (0.6.2)\n",
            "Requirement already satisfied: nvidia-nccl-cu12==2.21.5 in /usr/local/lib/python3.11/dist-packages (from torch>=1.3->pytorch-tabnet) (2.21.5)\n",
            "Requirement already satisfied: nvidia-nvtx-cu12==12.4.127 in /usr/local/lib/python3.11/dist-packages (from torch>=1.3->pytorch-tabnet) (12.4.127)\n",
            "Collecting nvidia-nvjitlink-cu12==12.4.127 (from torch>=1.3->pytorch-tabnet)\n",
            "  Downloading nvidia_nvjitlink_cu12-12.4.127-py3-none-manylinux2014_x86_64.whl.metadata (1.5 kB)\n",
            "Requirement already satisfied: triton==3.2.0 in /usr/local/lib/python3.11/dist-packages (from torch>=1.3->pytorch-tabnet) (3.2.0)\n",
            "Requirement already satisfied: sympy==1.13.1 in /usr/local/lib/python3.11/dist-packages (from torch>=1.3->pytorch-tabnet) (1.13.1)\n",
            "Requirement already satisfied: mpmath<1.4,>=1.1.0 in /usr/local/lib/python3.11/dist-packages (from sympy==1.13.1->torch>=1.3->pytorch-tabnet) (1.3.0)\n",
            "Requirement already satisfied: MarkupSafe>=2.0 in /usr/local/lib/python3.11/dist-packages (from jinja2->torch>=1.3->pytorch-tabnet) (3.0.2)\n",
            "Downloading pytorch_tabnet-4.1.0-py3-none-any.whl (44 kB)\n",
            "\u001b[2K   \u001b[90m━━━━━━━━━━━━━━━━━━━━━━━━━━━━━━━━━━━━━━━━\u001b[0m \u001b[32m44.5/44.5 kB\u001b[0m \u001b[31m2.0 MB/s\u001b[0m eta \u001b[36m0:00:00\u001b[0m\n",
            "\u001b[?25hDownloading nvidia_cublas_cu12-12.4.5.8-py3-none-manylinux2014_x86_64.whl (363.4 MB)\n",
            "\u001b[2K   \u001b[90m━━━━━━━━━━━━━━━━━━━━━━━━━━━━━━━━━━━━━━━━\u001b[0m \u001b[32m363.4/363.4 MB\u001b[0m \u001b[31m1.7 MB/s\u001b[0m eta \u001b[36m0:00:00\u001b[0m\n",
            "\u001b[?25hDownloading nvidia_cuda_cupti_cu12-12.4.127-py3-none-manylinux2014_x86_64.whl (13.8 MB)\n",
            "\u001b[2K   \u001b[90m━━━━━━━━━━━━━━━━━━━━━━━━━━━━━━━━━━━━━━━━\u001b[0m \u001b[32m13.8/13.8 MB\u001b[0m \u001b[31m60.6 MB/s\u001b[0m eta \u001b[36m0:00:00\u001b[0m\n",
            "\u001b[?25hDownloading nvidia_cuda_nvrtc_cu12-12.4.127-py3-none-manylinux2014_x86_64.whl (24.6 MB)\n",
            "\u001b[2K   \u001b[90m━━━━━━━━━━━━━━━━━━━━━━━━━━━━━━━━━━━━━━━━\u001b[0m \u001b[32m24.6/24.6 MB\u001b[0m \u001b[31m51.7 MB/s\u001b[0m eta \u001b[36m0:00:00\u001b[0m\n",
            "\u001b[?25hDownloading nvidia_cuda_runtime_cu12-12.4.127-py3-none-manylinux2014_x86_64.whl (883 kB)\n",
            "\u001b[2K   \u001b[90m━━━━━━━━━━━━━━━━━━━━━━━━━━━━━━━━━━━━━━━━\u001b[0m \u001b[32m883.7/883.7 kB\u001b[0m \u001b[31m38.6 MB/s\u001b[0m eta \u001b[36m0:00:00\u001b[0m\n",
            "\u001b[?25hDownloading nvidia_cudnn_cu12-9.1.0.70-py3-none-manylinux2014_x86_64.whl (664.8 MB)\n",
            "\u001b[2K   \u001b[90m━━━━━━━━━━━━━━━━━━━━━━━━━━━━━━━━━━━━━━━━\u001b[0m \u001b[32m664.8/664.8 MB\u001b[0m \u001b[31m2.6 MB/s\u001b[0m eta \u001b[36m0:00:00\u001b[0m\n",
            "\u001b[?25hDownloading nvidia_cufft_cu12-11.2.1.3-py3-none-manylinux2014_x86_64.whl (211.5 MB)\n",
            "\u001b[2K   \u001b[90m━━━━━━━━━━━━━━━━━━━━━━━━━━━━━━━━━━━━━━━━\u001b[0m \u001b[32m211.5/211.5 MB\u001b[0m \u001b[31m6.4 MB/s\u001b[0m eta \u001b[36m0:00:00\u001b[0m\n",
            "\u001b[?25hDownloading nvidia_curand_cu12-10.3.5.147-py3-none-manylinux2014_x86_64.whl (56.3 MB)\n",
            "\u001b[2K   \u001b[90m━━━━━━━━━━━━━━━━━━━━━━━━━━━━━━━━━━━━━━━━\u001b[0m \u001b[32m56.3/56.3 MB\u001b[0m \u001b[31m13.7 MB/s\u001b[0m eta \u001b[36m0:00:00\u001b[0m\n",
            "\u001b[?25hDownloading nvidia_cusolver_cu12-11.6.1.9-py3-none-manylinux2014_x86_64.whl (127.9 MB)\n",
            "\u001b[2K   \u001b[90m━━━━━━━━━━━━━━━━━━━━━━━━━━━━━━━━━━━━━━━━\u001b[0m \u001b[32m127.9/127.9 MB\u001b[0m \u001b[31m7.8 MB/s\u001b[0m eta \u001b[36m0:00:00\u001b[0m\n",
            "\u001b[?25hDownloading nvidia_cusparse_cu12-12.3.1.170-py3-none-manylinux2014_x86_64.whl (207.5 MB)\n",
            "\u001b[2K   \u001b[90m━━━━━━━━━━━━━━━━━━━━━━━━━━━━━━━━━━━━━━━━\u001b[0m \u001b[32m207.5/207.5 MB\u001b[0m \u001b[31m6.7 MB/s\u001b[0m eta \u001b[36m0:00:00\u001b[0m\n",
            "\u001b[?25hDownloading nvidia_nvjitlink_cu12-12.4.127-py3-none-manylinux2014_x86_64.whl (21.1 MB)\n",
            "\u001b[2K   \u001b[90m━━━━━━━━━━━━━━━━━━━━━━━━━━━━━━━━━━━━━━━━\u001b[0m \u001b[32m21.1/21.1 MB\u001b[0m \u001b[31m56.4 MB/s\u001b[0m eta \u001b[36m0:00:00\u001b[0m\n",
            "\u001b[?25hInstalling collected packages: nvidia-nvjitlink-cu12, nvidia-curand-cu12, nvidia-cufft-cu12, nvidia-cuda-runtime-cu12, nvidia-cuda-nvrtc-cu12, nvidia-cuda-cupti-cu12, nvidia-cublas-cu12, nvidia-cusparse-cu12, nvidia-cudnn-cu12, nvidia-cusolver-cu12, pytorch-tabnet\n",
            "  Attempting uninstall: nvidia-nvjitlink-cu12\n",
            "    Found existing installation: nvidia-nvjitlink-cu12 12.5.82\n",
            "    Uninstalling nvidia-nvjitlink-cu12-12.5.82:\n",
            "      Successfully uninstalled nvidia-nvjitlink-cu12-12.5.82\n",
            "  Attempting uninstall: nvidia-curand-cu12\n",
            "    Found existing installation: nvidia-curand-cu12 10.3.6.82\n",
            "    Uninstalling nvidia-curand-cu12-10.3.6.82:\n",
            "      Successfully uninstalled nvidia-curand-cu12-10.3.6.82\n",
            "  Attempting uninstall: nvidia-cufft-cu12\n",
            "    Found existing installation: nvidia-cufft-cu12 11.2.3.61\n",
            "    Uninstalling nvidia-cufft-cu12-11.2.3.61:\n",
            "      Successfully uninstalled nvidia-cufft-cu12-11.2.3.61\n",
            "  Attempting uninstall: nvidia-cuda-runtime-cu12\n",
            "    Found existing installation: nvidia-cuda-runtime-cu12 12.5.82\n",
            "    Uninstalling nvidia-cuda-runtime-cu12-12.5.82:\n",
            "      Successfully uninstalled nvidia-cuda-runtime-cu12-12.5.82\n",
            "  Attempting uninstall: nvidia-cuda-nvrtc-cu12\n",
            "    Found existing installation: nvidia-cuda-nvrtc-cu12 12.5.82\n",
            "    Uninstalling nvidia-cuda-nvrtc-cu12-12.5.82:\n",
            "      Successfully uninstalled nvidia-cuda-nvrtc-cu12-12.5.82\n",
            "  Attempting uninstall: nvidia-cuda-cupti-cu12\n",
            "    Found existing installation: nvidia-cuda-cupti-cu12 12.5.82\n",
            "    Uninstalling nvidia-cuda-cupti-cu12-12.5.82:\n",
            "      Successfully uninstalled nvidia-cuda-cupti-cu12-12.5.82\n",
            "  Attempting uninstall: nvidia-cublas-cu12\n",
            "    Found existing installation: nvidia-cublas-cu12 12.5.3.2\n",
            "    Uninstalling nvidia-cublas-cu12-12.5.3.2:\n",
            "      Successfully uninstalled nvidia-cublas-cu12-12.5.3.2\n",
            "  Attempting uninstall: nvidia-cusparse-cu12\n",
            "    Found existing installation: nvidia-cusparse-cu12 12.5.1.3\n",
            "    Uninstalling nvidia-cusparse-cu12-12.5.1.3:\n",
            "      Successfully uninstalled nvidia-cusparse-cu12-12.5.1.3\n",
            "  Attempting uninstall: nvidia-cudnn-cu12\n",
            "    Found existing installation: nvidia-cudnn-cu12 9.3.0.75\n",
            "    Uninstalling nvidia-cudnn-cu12-9.3.0.75:\n",
            "      Successfully uninstalled nvidia-cudnn-cu12-9.3.0.75\n",
            "  Attempting uninstall: nvidia-cusolver-cu12\n",
            "    Found existing installation: nvidia-cusolver-cu12 11.6.3.83\n",
            "    Uninstalling nvidia-cusolver-cu12-11.6.3.83:\n",
            "      Successfully uninstalled nvidia-cusolver-cu12-11.6.3.83\n",
            "Successfully installed nvidia-cublas-cu12-12.4.5.8 nvidia-cuda-cupti-cu12-12.4.127 nvidia-cuda-nvrtc-cu12-12.4.127 nvidia-cuda-runtime-cu12-12.4.127 nvidia-cudnn-cu12-9.1.0.70 nvidia-cufft-cu12-11.2.1.3 nvidia-curand-cu12-10.3.5.147 nvidia-cusolver-cu12-11.6.1.9 nvidia-cusparse-cu12-12.3.1.170 nvidia-nvjitlink-cu12-12.4.127 pytorch-tabnet-4.1.0\n"
          ]
        }
      ]
    },
    {
      "cell_type": "code",
      "source": [
        "from sklearn.utils.class_weight import compute_class_weight\n",
        "\n",
        "# Compute class weights\n",
        "class_weights = compute_class_weight(class_weight=\"balanced\", classes=np.unique(y_train), y=y_train)\n",
        "class_weights_dict = {cls: weight for cls, weight in zip(np.unique(y_train), class_weights)}\n",
        "\n",
        "# Create sample weights based on the training labels\n",
        "sample_weights = np.array([class_weights_dict[label] for label in y_train])\n",
        "\n",
        "# Initialize the TabNet model with stronger regularization\n",
        "tabnet_model = TabNetClassifier(\n",
        "    n_d=6,               # Dimension of the prediction layer\n",
        "    n_a=6,               # Dimension of the attention layer\n",
        "    n_steps=3,           # Number of steps in the architecture\n",
        "    gamma=1.3,           # Slightly lower scaling factor (reduces sensitivity)\n",
        "    lambda_sparse=1e-3,  # Higher sparsity regularization (prevents overfitting)\n",
        "    optimizer_params=dict(lr=1e-3),  # Lower learning rate (more stable training)\n",
        "    scheduler_params={\"step_size\":8, \"gamma\":0.8},\n",
        "    scheduler_fn=torch.optim.lr_scheduler.StepLR,  # Learning rate scheduler\n",
        "    mask_type='entmax',   # Masking function\n",
        "    momentum=0.35         # Adds Dropout to prevent overfitting\n",
        ")\n",
        "\n",
        "# Train the model with sample weights and early stopping\n",
        "tabnet_model.fit(\n",
        "    X_train_scaled, y_train,\n",
        "    eval_set=[(X_test_scaled, y_test)],\n",
        "    eval_name=['test'],\n",
        "    eval_metric=['accuracy'],  # More robust evaluation metric\n",
        "    max_epochs=25,  # Reduce training time to prevent memorization\n",
        "    patience=3,  # Stop training if no improvement in x epochs\n",
        "    batch_size=1024,  # Reduce batch size (helps generalization)\n",
        "    virtual_batch_size=1024,\n",
        "    num_workers=0,\n",
        "    weights=sample_weights,  # Apply class weights\n",
        "    drop_last=False\n",
        ")\n",
        "\n",
        "# Save the trained model\n",
        "joblib.dump(tabnet_model, \"tabnet_model.pkl\")\n",
        "\n",
        "# Save results for future comparison\n",
        "results = {\n",
        "    \"Model Name\": [\"TabNet\"],\n",
        "    \"Average Accuracy\": [average_accuracy]\n",
        "}\n",
        "\n",
        "# Convert to DataFrame\n",
        "df_results = pd.DataFrame(results)\n",
        "\n",
        "# Save results to CSV (append if file exists)\n",
        "csv_filename = \"model_results.csv\"\n",
        "try:\n",
        "    existing_results = pd.read_csv(csv_filename)\n",
        "    df_results = pd.concat([existing_results, df_results], ignore_index=True)\n",
        "except FileNotFoundError:\n",
        "    pass  # If file doesn't exist, we'll create a new one\n",
        "\n",
        "df_results.to_csv(csv_filename, index=False)\n",
        "print(f\"Results saved to {csv_filename}\")"
      ],
      "metadata": {
        "colab": {
          "base_uri": "https://localhost:8080/"
        },
        "id": "2UVkVHyS4_Vm",
        "outputId": "2e48fc74-b149-4766-abdf-5609745f7e39"
      },
      "execution_count": 44,
      "outputs": [
        {
          "output_type": "stream",
          "name": "stderr",
          "text": [
            "/usr/local/lib/python3.11/dist-packages/pytorch_tabnet/abstract_model.py:82: UserWarning: Device used : cpu\n",
            "  warnings.warn(f\"Device used : {self.device}\")\n"
          ]
        },
        {
          "output_type": "stream",
          "name": "stdout",
          "text": [
            "epoch 0  | loss: 2.09017 | test_accuracy: 0.21586 |  0:00:01s\n",
            "epoch 1  | loss: 1.79973 | test_accuracy: 0.32345 |  0:00:02s\n",
            "epoch 2  | loss: 1.58086 | test_accuracy: 0.50713 |  0:00:03s\n",
            "epoch 3  | loss: 1.41139 | test_accuracy: 0.58    |  0:00:04s\n",
            "epoch 4  | loss: 1.26382 | test_accuracy: 0.66069 |  0:00:06s\n",
            "epoch 5  | loss: 1.14699 | test_accuracy: 0.71977 |  0:00:09s\n",
            "epoch 6  | loss: 1.02774 | test_accuracy: 0.74851 |  0:00:10s\n",
            "epoch 7  | loss: 0.95592 | test_accuracy: 0.76299 |  0:00:11s\n",
            "epoch 8  | loss: 0.87259 | test_accuracy: 0.77908 |  0:00:12s\n",
            "epoch 9  | loss: 0.80552 | test_accuracy: 0.78598 |  0:00:12s\n",
            "epoch 10 | loss: 0.73923 | test_accuracy: 0.79057 |  0:00:13s\n",
            "epoch 11 | loss: 0.68962 | test_accuracy: 0.80322 |  0:00:14s\n",
            "epoch 12 | loss: 0.6311  | test_accuracy: 0.8046  |  0:00:14s\n",
            "epoch 13 | loss: 0.59211 | test_accuracy: 0.83471 |  0:00:15s\n",
            "epoch 14 | loss: 0.53605 | test_accuracy: 0.84046 |  0:00:16s\n",
            "epoch 15 | loss: 0.49067 | test_accuracy: 0.83931 |  0:00:17s\n",
            "epoch 16 | loss: 0.45168 | test_accuracy: 0.83747 |  0:00:17s\n",
            "epoch 17 | loss: 0.44847 | test_accuracy: 0.84644 |  0:00:18s\n",
            "epoch 18 | loss: 0.41026 | test_accuracy: 0.84874 |  0:00:19s\n",
            "epoch 19 | loss: 0.39786 | test_accuracy: 0.87241 |  0:00:20s\n",
            "epoch 20 | loss: 0.37543 | test_accuracy: 0.91034 |  0:00:21s\n",
            "epoch 21 | loss: 0.35761 | test_accuracy: 0.96184 |  0:00:22s\n",
            "epoch 22 | loss: 0.3362  | test_accuracy: 0.98115 |  0:00:23s\n",
            "epoch 23 | loss: 0.31958 | test_accuracy: 0.98207 |  0:00:24s\n",
            "epoch 24 | loss: 0.29327 | test_accuracy: 0.98276 |  0:00:24s\n",
            "Stop training because you reached max_epochs = 25 with best_epoch = 24 and best_test_accuracy = 0.98276\n"
          ]
        },
        {
          "output_type": "stream",
          "name": "stderr",
          "text": [
            "/usr/local/lib/python3.11/dist-packages/pytorch_tabnet/callbacks.py:172: UserWarning: Best weights from best epoch are automatically used!\n",
            "  warnings.warn(wrn_msg)\n"
          ]
        },
        {
          "output_type": "stream",
          "name": "stdout",
          "text": [
            "Results saved to model_results.csv\n"
          ]
        }
      ]
    },
    {
      "cell_type": "code",
      "source": [
        "# Make predictions on test data\n",
        "y_pred = tabnet_model.predict(X_test_scaled)\n",
        "\n",
        "# Print evaluation metrics\n",
        "print(\"Model Performance Metrics:\")\n",
        "print(classification_report(y_test, y_pred, digits=4))"
      ],
      "metadata": {
        "colab": {
          "base_uri": "https://localhost:8080/"
        },
        "id": "kXLqhKAc7DqJ",
        "outputId": "7f474a14-c578-495a-de09-d74740ad81dd"
      },
      "execution_count": 45,
      "outputs": [
        {
          "output_type": "stream",
          "name": "stdout",
          "text": [
            "Model Performance Metrics:\n",
            "              precision    recall  f1-score   support\n",
            "\n",
            "         0.0     0.9995    0.9668    0.9829      1930\n",
            "         1.0     0.9672    1.0000    0.9833       560\n",
            "         2.0     0.9818    1.0000    0.9908       540\n",
            "         3.0     1.0000    0.9820    0.9909       500\n",
            "         4.0     0.9130    0.9947    0.9521       380\n",
            "         5.0     0.9800    1.0000    0.9899       440\n",
            "\n",
            "    accuracy                         0.9828      4350\n",
            "   macro avg     0.9736    0.9906    0.9817      4350\n",
            "weighted avg     0.9837    0.9828    0.9829      4350\n",
            "\n"
          ]
        }
      ]
    },
    {
      "cell_type": "code",
      "source": [
        "import torch\n",
        "import torch.nn as nn\n",
        "import torch.nn.functional as F\n",
        "import numpy as np\n",
        "from sklearn.preprocessing import StandardScaler\n",
        "from sklearn.model_selection import train_test_split\n",
        "from torch.utils.data import DataLoader, TensorDataset\n",
        "\n",
        "class NativeSparseAttention(nn.Module):\n",
        "    def __init__(self, dim, num_heads):\n",
        "        super(NativeSparseAttention, self).__init__()\n",
        "        self.num_heads = num_heads\n",
        "        self.head_dim = dim // num_heads\n",
        "        assert self.head_dim * num_heads == dim, \"dim must be divisible by num_heads\"\n",
        "\n",
        "        self.query = nn.Linear(dim, dim)\n",
        "        self.key = nn.Linear(dim, dim)\n",
        "        self.value = nn.Linear(dim, dim)\n",
        "        self.proj = nn.Linear(dim, dim)\n",
        "\n",
        "        # Sparse attention parameters\n",
        "        self.dropout = nn.Dropout(0.1)\n",
        "        self.scale = self.head_dim ** -0.5\n",
        "\n",
        "    def forward(self, x):\n",
        "        batch_size, seq_len, dim = x.size()\n",
        "\n",
        "        # Project queries, keys, and values\n",
        "        q = self.query(x).reshape(batch_size, seq_len, self.num_heads, self.head_dim).permute(0, 2, 1, 3)\n",
        "        k = self.key(x).reshape(batch_size, seq_len, self.num_heads, self.head_dim).permute(0, 2, 1, 3)\n",
        "        v = self.value(x).reshape(batch_size, seq_len, self.num_heads, self.head_dim).permute(0, 2, 1, 3)\n",
        "\n",
        "        # Compute attention scores\n",
        "        scores = torch.matmul(q, k.transpose(-2, -1)) * self.scale\n",
        "\n",
        "        # Apply sparse mask (keeping only top-k values per row)\n",
        "        k = min(int(seq_len * 0.3), seq_len)  # Keep top 30% of values\n",
        "        topk_values, topk_indices = torch.topk(scores, k, dim=-1)\n",
        "        sparse_scores = torch.zeros_like(scores).scatter_(-1, topk_indices, topk_values)\n",
        "\n",
        "        # Apply softmax and dropout\n",
        "        attn = F.softmax(sparse_scores, dim=-1)\n",
        "        attn = self.dropout(attn)\n",
        "\n",
        "        # Apply attention to values\n",
        "        out = torch.matmul(attn, v).permute(0, 2, 1, 3).reshape(batch_size, seq_len, dim)\n",
        "        out = self.proj(out)\n",
        "\n",
        "        return out\n",
        "\n",
        "class NSALayer(nn.Module):\n",
        "    def __init__(self, dim, num_heads):\n",
        "        super(NSALayer, self).__init__()\n",
        "        self.attention = NativeSparseAttention(dim, num_heads)\n",
        "        self.norm1 = nn.LayerNorm(dim)\n",
        "        self.norm2 = nn.LayerNorm(dim)\n",
        "        self.ffn = nn.Sequential(\n",
        "            nn.Linear(dim, dim * 4),\n",
        "            nn.ReLU(),\n",
        "            nn.Linear(dim * 4, dim)\n",
        "        )\n",
        "        self.dropout = nn.Dropout(0.1)\n",
        "\n",
        "    def forward(self, x):\n",
        "        # Attention block\n",
        "        attn_output = self.attention(x)\n",
        "        x = self.norm1(x + attn_output)\n",
        "\n",
        "        # Feed-forward block\n",
        "        ffn_output = self.ffn(x)\n",
        "        x = self.norm2(x + self.dropout(ffn_output))\n",
        "\n",
        "        return x\n",
        "\n",
        "class TabNSA(nn.Module):\n",
        "    def __init__(self, input_dim, output_dim, hidden_dim=64, num_heads=4, num_layers=3):\n",
        "        super(TabNSA, self).__init__()\n",
        "        self.input_dim = input_dim\n",
        "        self.hidden_dim = hidden_dim\n",
        "\n",
        "        # Input embedding\n",
        "        self.embedding = nn.Linear(input_dim, hidden_dim)\n",
        "\n",
        "        # NSA layers\n",
        "        self.nsa_layers = nn.ModuleList([NSALayer(hidden_dim, num_heads) for _ in range(num_layers)])\n",
        "\n",
        "        # Output layer\n",
        "        self.fc = nn.Linear(hidden_dim, output_dim)\n",
        "\n",
        "    def forward(self, x):\n",
        "        # Reshape input to add sequence dimension if it's just (batch_size, features)\n",
        "        if len(x.shape) == 2:\n",
        "            x = x.unsqueeze(1)  # (batch_size, 1, features)\n",
        "\n",
        "        # Embed input features\n",
        "        x = self.embedding(x)\n",
        "\n",
        "        # Apply NSA layers\n",
        "        for layer in self.nsa_layers:\n",
        "            x = layer(x)\n",
        "\n",
        "        # Take the output of the last position\n",
        "        x = x.squeeze(1) if x.size(1) == 1 else x.mean(dim=1)\n",
        "\n",
        "        # Classification head\n",
        "        x = self.fc(x)\n",
        "\n",
        "        return x"
      ],
      "metadata": {
        "id": "7Jwo1rQiAiee"
      },
      "execution_count": 47,
      "outputs": []
    },
    {
      "cell_type": "code",
      "source": [
        "def prepare_data(X_train_scaled, y_train_scaled, batch_size=32, test_size=0.2, random_state=42):\n",
        "    # # Split the data into training and validation sets\n",
        "    # X_train_split, X_val, y_train_split, y_val = train_test_split(\n",
        "    #     X_train_scaled, y_train_, test_size=test_size, random_state=random_state, stratify=y_train\n",
        "    # )\n",
        "\n",
        "    # # Scale the features\n",
        "    # scaler = StandardScaler()\n",
        "    # X_train_scaled = scaler.fit_transform(X_train_split)\n",
        "    # X_val_scaled = scaler.transform(X_val)\n",
        "\n",
        "    # Convert to PyTorch tensors\n",
        "    X_train_tensor = torch.FloatTensor(X_train_scaled)\n",
        "    y_train_tensor = torch.LongTensor(y_train.values)\n",
        "    X_val_tensor = torch.FloatTensor(X_test_scaled)\n",
        "    y_val_tensor = torch.LongTensor(y_test.values)\n",
        "\n",
        "    # Create DataLoader objects\n",
        "    train_dataset = TensorDataset(X_train_tensor, y_train_tensor)\n",
        "    val_dataset = TensorDataset(X_val_tensor, y_val_tensor)\n",
        "\n",
        "    train_loader = DataLoader(train_dataset, batch_size=batch_size, shuffle=True)\n",
        "    val_loader = DataLoader(val_dataset, batch_size=batch_size)\n",
        "\n",
        "    return train_loader, val_loader, scaler\n",
        "\n",
        "def train_model(model, train_loader, val_loader, criterion, optimizer, device, num_epochs=100, patience=10):\n",
        "    best_val_loss = float('inf')\n",
        "    patience_counter = 0\n",
        "    history = {'train_loss': [], 'val_loss': [], 'train_acc': [], 'val_acc': []}\n",
        "\n",
        "    for epoch in range(num_epochs):\n",
        "        # Training phase\n",
        "        model.train()\n",
        "        train_loss = 0.0\n",
        "        train_correct = 0\n",
        "        train_total = 0\n",
        "\n",
        "        for inputs, targets in train_loader:\n",
        "            inputs, targets = inputs.to(device), targets.to(device)\n",
        "\n",
        "            # Zero the parameter gradients\n",
        "            optimizer.zero_grad()\n",
        "\n",
        "            # Forward pass\n",
        "            outputs = model(inputs)\n",
        "            loss = criterion(outputs, targets)\n",
        "\n",
        "            # Backward pass and optimize\n",
        "            loss.backward()\n",
        "            optimizer.step()\n",
        "\n",
        "            # Statistics\n",
        "            train_loss += loss.item() * inputs.size(0)\n",
        "            _, predicted = torch.max(outputs, 1)\n",
        "            train_total += targets.size(0)\n",
        "            train_correct += (predicted == targets).sum().item()\n",
        "\n",
        "        train_loss = train_loss / len(train_loader.dataset)\n",
        "        train_acc = train_correct / train_total\n",
        "\n",
        "        # Validation phase\n",
        "        model.eval()\n",
        "        val_loss = 0.0\n",
        "        val_correct = 0\n",
        "        val_total = 0\n",
        "\n",
        "        with torch.no_grad():\n",
        "            for inputs, targets in val_loader:\n",
        "                inputs, targets = inputs.to(device), targets.to(device)\n",
        "\n",
        "                # Forward pass\n",
        "                outputs = model(inputs)\n",
        "                loss = criterion(outputs, targets)\n",
        "\n",
        "                # Statistics\n",
        "                val_loss += loss.item() * inputs.size(0)\n",
        "                _, predicted = torch.max(outputs, 1)\n",
        "                val_total += targets.size(0)\n",
        "                val_correct += (predicted == targets).sum().item()\n",
        "\n",
        "        val_loss = val_loss / len(val_loader.dataset)\n",
        "        val_acc = val_correct / val_total\n",
        "\n",
        "        # Print statistics\n",
        "        print(f'Epoch {epoch+1}/{num_epochs} | '\n",
        "              f'Train Loss: {train_loss:.4f} | Train Acc: {train_acc:.4f} | '\n",
        "              f'Val Loss: {val_loss:.4f} | Val Acc: {val_acc:.4f}')\n",
        "\n",
        "        # Save statistics\n",
        "        history['train_loss'].append(train_loss)\n",
        "        history['val_loss'].append(val_loss)\n",
        "        history['train_acc'].append(train_acc)\n",
        "        history['val_acc'].append(val_acc)\n",
        "\n",
        "        # Early stopping\n",
        "        if val_loss < best_val_loss:\n",
        "            best_val_loss = val_loss\n",
        "            patience_counter = 0\n",
        "            # Save the best model\n",
        "            torch.save(model.state_dict(), 'best_tabnsa_model.pth')\n",
        "        else:\n",
        "            patience_counter += 1\n",
        "            if patience_counter >= patience:\n",
        "                print(f'Early stopping at epoch {epoch+1}')\n",
        "                break\n",
        "\n",
        "    return model, history\n",
        "\n",
        "def evaluate_model(model, test_loader, criterion, device):\n",
        "    model.eval()\n",
        "    test_loss = 0.0\n",
        "    test_correct = 0\n",
        "    test_total = 0\n",
        "\n",
        "    all_preds = []\n",
        "    all_targets = []\n",
        "\n",
        "    with torch.no_grad():\n",
        "        for inputs, targets in test_loader:\n",
        "            inputs, targets = inputs.to(device), targets.to(device)\n",
        "\n",
        "            # Forward pass\n",
        "            outputs = model(inputs)\n",
        "            loss = criterion(outputs, targets)\n",
        "\n",
        "            # Statistics\n",
        "            test_loss += loss.item() * inputs.size(0)\n",
        "            _, predicted = torch.max(outputs, 1)\n",
        "            test_total += targets.size(0)\n",
        "            test_correct += (predicted == targets).sum().item()\n",
        "\n",
        "            all_preds.extend(predicted.cpu().numpy())\n",
        "            all_targets.extend(targets.cpu().numpy())\n",
        "\n",
        "    test_loss = test_loss / len(test_loader.dataset)\n",
        "    test_acc = test_correct / test_total\n",
        "\n",
        "    print(f'Test Loss: {test_loss:.4f} | Test Acc: {test_acc:.4f}')\n",
        "\n",
        "    return test_loss, test_acc, all_preds, all_targets"
      ],
      "metadata": {
        "id": "8k54K5CGGk6K"
      },
      "execution_count": 48,
      "outputs": []
    },
    {
      "cell_type": "code",
      "source": [
        "def main(X_train, y_train):\n",
        "    # Set random seed for reproducibility\n",
        "    torch.manual_seed(42)\n",
        "    np.random.seed(42)\n",
        "\n",
        "    # Check if CUDA is available\n",
        "    device = torch.device(\"cuda\" if torch.cuda.is_available() else \"cpu\")\n",
        "    print(f\"Using device: {device}\")\n",
        "\n",
        "    # Hyperparameters\n",
        "    input_dim = X_train.shape[1]\n",
        "    output_dim = 6  # Number of classes (0-5)\n",
        "    hidden_dim = 64\n",
        "    num_heads = 4\n",
        "    num_layers = 3\n",
        "    batch_size = 64\n",
        "    learning_rate = 0.001\n",
        "    num_epochs = 5\n",
        "\n",
        "    # Prepare data\n",
        "    train_loader, val_loader, scaler = prepare_data(X_train, y_train, batch_size=batch_size)\n",
        "\n",
        "    # Initialize model\n",
        "    model = TabNSA(\n",
        "        input_dim=input_dim,\n",
        "        output_dim=output_dim,\n",
        "        hidden_dim=hidden_dim,\n",
        "        num_heads=num_heads,\n",
        "        num_layers=num_layers\n",
        "    ).to(device)\n",
        "\n",
        "    # Define loss function and optimizer\n",
        "    criterion = nn.CrossEntropyLoss()\n",
        "    optimizer = torch.optim.Adam(model.parameters(), lr=learning_rate)\n",
        "\n",
        "    # Train the model\n",
        "    model, history = train_model(\n",
        "        model=model,\n",
        "        train_loader=train_loader,\n",
        "        val_loader=val_loader,\n",
        "        criterion=criterion,\n",
        "        optimizer=optimizer,\n",
        "        device=device,\n",
        "        num_epochs=num_epochs\n",
        "    )\n",
        "\n",
        "    # Load the best model\n",
        "    joblib.dump(model, \"tabnsa_model.pkl\") #Saving in mulitple modes for easier access during Ensemble creation\n",
        "    model.load_state_dict(torch.load('best_tabnsa_model.pth'))\n",
        "\n",
        "    # Evaluate on validation set\n",
        "    val_loss, val_acc, val_preds, val_targets = evaluate_model(\n",
        "        model=model,\n",
        "        test_loader=val_loader,\n",
        "        criterion=criterion,\n",
        "        device=device\n",
        "    )\n",
        "\n",
        "    print(f\"Final validation accuracy: {val_acc:.4f}\")\n",
        "\n",
        "    return model, scaler, history\n"
      ],
      "metadata": {
        "id": "uTmuccZeGwN5"
      },
      "execution_count": 53,
      "outputs": []
    },
    {
      "cell_type": "code",
      "source": [
        "import os\n",
        "\n",
        "# Train the model\n",
        "model, scaler, history = main(X_train_scaled, y_train)\n"
      ],
      "metadata": {
        "colab": {
          "base_uri": "https://localhost:8080/"
        },
        "id": "dO64Sj70G3K1",
        "outputId": "54434170-fe41-4367-fca6-629ab10f45d6"
      },
      "execution_count": 60,
      "outputs": [
        {
          "output_type": "stream",
          "name": "stdout",
          "text": [
            "Using device: cpu\n",
            "Epoch 1/5 | Train Loss: 0.1430 | Train Acc: 0.9591 | Val Loss: 0.0317 | Val Acc: 0.9901\n",
            "Epoch 2/5 | Train Loss: 0.0543 | Train Acc: 0.9852 | Val Loss: 0.0494 | Val Acc: 0.9795\n",
            "Epoch 3/5 | Train Loss: 0.0342 | Train Acc: 0.9889 | Val Loss: 0.0308 | Val Acc: 0.9894\n",
            "Epoch 4/5 | Train Loss: 0.0236 | Train Acc: 0.9910 | Val Loss: 0.0171 | Val Acc: 0.9920\n",
            "Epoch 5/5 | Train Loss: 0.0310 | Train Acc: 0.9891 | Val Loss: 0.0147 | Val Acc: 0.9913\n",
            "Test Loss: 0.0147 | Test Acc: 0.9913\n",
            "Final validation accuracy: 0.9913\n"
          ]
        }
      ]
    },
    {
      "cell_type": "code",
      "source": [],
      "metadata": {
        "id": "GQTTT32ZDoON"
      },
      "execution_count": 55,
      "outputs": []
    },
    {
      "cell_type": "code",
      "source": [
        "def test_model(model, X_test_scaled, y_test, batch_size=64):\n",
        "    # Convert to PyTorch tensors\n",
        "    X_test_tensor = torch.FloatTensor(X_test_scaled)\n",
        "    y_test_tensor = torch.LongTensor(y_test.values)\n",
        "\n",
        "    # Create test DataLoader\n",
        "    test_dataset = TensorDataset(X_test_tensor, y_test_tensor)\n",
        "    test_loader = DataLoader(test_dataset, batch_size=batch_size)\n",
        "\n",
        "    # Check if CUDA is available\n",
        "    device = torch.device(\"cuda\" if torch.cuda.is_available() else \"cpu\")\n",
        "\n",
        "    # Set model to evaluation mode\n",
        "    model.eval()\n",
        "\n",
        "    # Initialize metrics\n",
        "    test_loss = 0.0\n",
        "    test_correct = 0\n",
        "    test_total = 0\n",
        "    all_preds = []\n",
        "    all_targets = []\n",
        "\n",
        "    # Define loss function\n",
        "    criterion = nn.CrossEntropyLoss()\n",
        "\n",
        "    # Disable gradient calculation\n",
        "    with torch.no_grad():\n",
        "        for inputs, targets in test_loader:\n",
        "            inputs, targets = inputs.to(device), targets.to(device)\n",
        "\n",
        "            # Forward pass\n",
        "            outputs = model(inputs)\n",
        "            loss = criterion(outputs, targets)\n",
        "\n",
        "            # Calculate statistics\n",
        "            test_loss += loss.item() * inputs.size(0)\n",
        "            _, predicted = torch.max(outputs, 1)\n",
        "            test_total += targets.size(0)\n",
        "            test_correct += (predicted == targets).sum().item()\n",
        "\n",
        "            # Store predictions and targets for further analysis\n",
        "            all_preds.extend(predicted.cpu().numpy())\n",
        "            all_targets.extend(targets.cpu().numpy())\n",
        "\n",
        "    # Calculate final metrics\n",
        "    test_loss = test_loss / len(test_loader.dataset)\n",
        "    test_acc = test_correct / test_total\n",
        "\n",
        "    print(f'Test Loss: {test_loss:.4f} | Test Accuracy: {test_acc:.4f}')\n",
        "\n",
        "    return test_loss, test_acc, all_preds, all_targets\n",
        "\n",
        "# Load the best model\n",
        "model_path = 'best_tabnsa_model.pth'\n",
        "input_dim = X_test_scaled.shape[1]\n",
        "output_dim = 6  # Number of classes (0-5)\n",
        "hidden_dim = 64\n",
        "num_heads = 4\n",
        "num_layers = 3\n",
        "\n",
        "# Initialize model with same architecture\n",
        "model = TabNSA(\n",
        "    input_dim=input_dim,\n",
        "    output_dim=output_dim,\n",
        "    hidden_dim=hidden_dim,\n",
        "    num_heads=num_heads,\n",
        "    num_layers=num_layers\n",
        ")\n",
        "\n",
        "# Load the saved weights\n",
        "device = torch.device(\"cuda\" if torch.cuda.is_available() else \"cpu\")\n",
        "model.load_state_dict(torch.load(model_path, map_location=device))\n",
        "model = model.to(device)\n",
        "\n",
        "# Test the model\n",
        "test_loss, test_acc, test_preds, test_targets = test_model(model, X_test_scaled, y_test)\n",
        "\n",
        "# Optional: You can add more detailed evaluation metrics\n",
        "from sklearn.metrics import classification_report, confusion_matrix\n",
        "\n",
        "print(\"\\nClassification Report:\")\n",
        "print(classification_report(test_targets, test_preds))\n",
        "\n",
        "print(\"\\nConfusion Matrix:\")\n",
        "print(confusion_matrix(test_targets, test_preds))"
      ],
      "metadata": {
        "colab": {
          "base_uri": "https://localhost:8080/"
        },
        "id": "W7M5R3S2G5tk",
        "outputId": "d4d1c730-4411-4372-fb7f-53a33485fefc"
      },
      "execution_count": 61,
      "outputs": [
        {
          "output_type": "stream",
          "name": "stdout",
          "text": [
            "Test Loss: 0.0147 | Test Accuracy: 0.9913\n",
            "\n",
            "Classification Report:\n",
            "              precision    recall  f1-score   support\n",
            "\n",
            "           0       0.99      0.99      0.99      1930\n",
            "           1       1.00      1.00      1.00       560\n",
            "           2       1.00      1.00      1.00       540\n",
            "           3       1.00      1.00      1.00       500\n",
            "           4       0.94      0.96      0.95       380\n",
            "           5       1.00      1.00      1.00       440\n",
            "\n",
            "    accuracy                           0.99      4350\n",
            "   macro avg       0.99      0.99      0.99      4350\n",
            "weighted avg       0.99      0.99      0.99      4350\n",
            "\n",
            "\n",
            "Confusion Matrix:\n",
            "[[1909    0    0    0   21    0]\n",
            " [   0  560    0    0    0    0]\n",
            " [   0    0  540    0    0    0]\n",
            " [   0    0    0  498    2    0]\n",
            " [  15    0    0    0  365    0]\n",
            " [   0    0    0    0    0  440]]\n"
          ]
        }
      ]
    },
    {
      "cell_type": "code",
      "source": [
        "loaded_model = joblib.load(\"tabnet_model.pkl\")\n",
        "print(type(loaded_model))"
      ],
      "metadata": {
        "colab": {
          "base_uri": "https://localhost:8080/"
        },
        "id": "epPlDdKVOgck",
        "outputId": "668e1169-4bd8-4cd5-f07c-e3844d19d60f"
      },
      "execution_count": 62,
      "outputs": [
        {
          "output_type": "stream",
          "name": "stdout",
          "text": [
            "<class 'pytorch_tabnet.tab_model.TabNetClassifier'>\n"
          ]
        }
      ]
    },
    {
      "cell_type": "code",
      "source": [
        "# Step 1: Obtain probabilistic predictions from each model\n",
        "# TabNet predictions (assuming tabnet_model is already trained)\n",
        "# Load the TabNet model instead of re-initializing it\n",
        "tabnet_model = joblib.load(\"tabnet_model.pkl\")\n",
        "y_proba_tabnet = tabnet_model.predict_proba(X_test_scaled)\n",
        "\n",
        "# The rest of your code to load and use the TabNSA model remains the same...\n",
        "\n",
        "# Load the trained TabNSA model\n",
        "input_dim = X_test_scaled.shape[1]\n",
        "output_dim = 6  # Number of classes (0-5)\n",
        "hidden_dim = 64\n",
        "num_heads = 4\n",
        "num_layers = 3\n",
        "\n",
        "# Initialize the model with the same architecture\n",
        "tabnsa_model = TabNSA(\n",
        "    input_dim=input_dim,\n",
        "    output_dim=output_dim,\n",
        "    hidden_dim=hidden_dim,\n",
        "    num_heads=num_heads,\n",
        "    num_layers=num_layers\n",
        ")\n",
        "\n",
        "# Load the saved weights\n",
        "device = torch.device(\"cuda\" if torch.cuda.is_available() else \"cpu\")\n",
        "tabnsa_model.load_state_dict(torch.load('best_tabnsa_model.pth', map_location=device))\n",
        "tabnsa_model = tabnsa_model.to(device)\n",
        "tabnsa_model.eval()\n",
        "\n",
        "# Get TabNSA predictions\n",
        "X_test_tensor = torch.FloatTensor(X_test_scaled).to(device)\n",
        "with torch.no_grad():\n",
        "    outputs = tabnsa_model(X_test_tensor)\n",
        "    y_proba_tabnsa = torch.softmax(outputs, dim=1).cpu().numpy()\n",
        "\n",
        "# Step 2: Assign fixed weights\n",
        "weight_tabnet = 0.8\n",
        "weight_tabnsa = 0.2\n",
        "\n",
        "# Step 3: Compute weighted average of predictions\n",
        "y_proba_ensemble = (weight_tabnet * y_proba_tabnet) + (weight_tabnsa * y_proba_tabnsa)\n",
        "\n",
        "# Step 4: Make final predictions\n",
        "\n",
        "y_pred_ensemble = np.argmax(y_proba_ensemble, axis=1)\n",
        "\n",
        "# Evaluate the ensemble model\n",
        "ensemble_accuracy = accuracy_score(y_test, y_pred_ensemble)\n",
        "print(f\"Ensemble Model Accuracy: {ensemble_accuracy:.4f}\")\n",
        "print(\"Classification Report:\\n\", classification_report(y_test, y_pred_ensemble))"
      ],
      "metadata": {
        "colab": {
          "base_uri": "https://localhost:8080/"
        },
        "id": "eQIpivr_Jigm",
        "outputId": "795fe50c-2c7a-4585-8dd1-4ceba7385d2e"
      },
      "execution_count": 73,
      "outputs": [
        {
          "output_type": "stream",
          "name": "stdout",
          "text": [
            "Ensemble Model Accuracy: 0.9890\n",
            "Classification Report:\n",
            "               precision    recall  f1-score   support\n",
            "\n",
            "         0.0       1.00      0.98      0.99      1930\n",
            "         1.0       1.00      1.00      1.00       560\n",
            "         2.0       0.99      1.00      0.99       540\n",
            "         3.0       1.00      0.98      0.99       500\n",
            "         4.0       0.92      0.99      0.96       380\n",
            "         5.0       0.99      1.00      0.99       440\n",
            "\n",
            "    accuracy                           0.99      4350\n",
            "   macro avg       0.98      0.99      0.99      4350\n",
            "weighted avg       0.99      0.99      0.99      4350\n",
            "\n"
          ]
        }
      ]
    },
    {
      "cell_type": "code",
      "source": [
        "from sklearn.ensemble import RandomForestClassifier, AdaBoostClassifier\n",
        "from sklearn.svm import SVC\n",
        "from xgboost import XGBClassifier\n",
        "from lightgbm import LGBMClassifier\n",
        "from sklearn.neighbors import KNeighborsClassifier\n",
        "from sklearn.neural_network import MLPClassifier\n",
        "\n",
        "# Define models\n",
        "models = {\n",
        "    \"Random Forest\": RandomForestClassifier(n_estimators=100, random_state=42),\n",
        "    \"XGBR\": XGBClassifier(random_state=42),\n",
        "    \"SVM\": SVC(probability=True),\n",
        "    \"KNN\": KNeighborsClassifier(),\n",
        "    \"MLP\": MLPClassifier(random_state=42)\n",
        "}\n"
      ],
      "metadata": {
        "id": "I_3VYlgBMF4-"
      },
      "execution_count": 80,
      "outputs": []
    },
    {
      "cell_type": "code",
      "source": [
        "# Train and save tree-based models on X_train\n",
        "for name in [\"Random Forest\", \"XGBR\"]:\n",
        "    print(f\"Training {name}...\")\n",
        "    models[name].fit(X_train, y_train)\n",
        "    joblib.dump(models[name], f\"{name}.pkl\")\n",
        "    print(f\"{name} saved as {name}.pkl\")\n",
        "\n",
        "# Train and save other models on X_train_scaled\n",
        "for name in [\"SVM\", \"KNN\", \"MLP\"]:\n",
        "    print(f\"Training {name}...\")\n",
        "    models[name].fit(X_train_scaled, y_train)\n",
        "    joblib.dump(models[name], f\"{name}.pkl\")\n",
        "    print(f\"{name} saved as {name}.pkl\")"
      ],
      "metadata": {
        "colab": {
          "base_uri": "https://localhost:8080/"
        },
        "id": "3d_UZzFQQ34p",
        "outputId": "b3e072b5-5db0-4dc1-fe40-f369fe1ce403"
      },
      "execution_count": 87,
      "outputs": [
        {
          "output_type": "stream",
          "name": "stdout",
          "text": [
            "Training Random Forest...\n",
            "Random Forest saved as Random Forest.pkl\n",
            "Training XGBR...\n",
            "XGBR saved as XGBR.pkl\n",
            "Training SVM...\n",
            "SVM saved as SVM.pkl\n",
            "Training KNN...\n",
            "KNN saved as KNN.pkl\n",
            "Training MLP...\n",
            "MLP saved as MLP.pkl\n"
          ]
        }
      ]
    },
    {
      "cell_type": "code",
      "source": [
        "# Testing the models\n",
        "for name in models.keys():\n",
        "    model = joblib.load(f\"{name}.pkl\")\n",
        "    if name in [\"Random Forest\", \"XGBR\"]:\n",
        "        y_pred = model.predict(X_test)\n",
        "        y_proba = model.predict_proba(X_test)\n",
        "        X_used = X_test\n",
        "    else:\n",
        "        y_pred = model.predict(X_test_scaled)\n",
        "        y_proba = model.predict_proba(X_test_scaled)\n",
        "        X_used = X_test_scaled\n",
        "\n",
        "    accuracy = model.score(X_used, y_test)\n",
        "    print(f\"{name} Accuracy: {accuracy}\")\n",
        "\n",
        "    # Print classification report\n",
        "    print(f\"{name} Classification Report:\")\n",
        "    print(classification_report(y_test, y_pred))"
      ],
      "metadata": {
        "colab": {
          "base_uri": "https://localhost:8080/"
        },
        "id": "MagoCpe4b9vL",
        "outputId": "4221b4c4-3381-4e42-a65f-7295ddacd23d"
      },
      "execution_count": 89,
      "outputs": [
        {
          "output_type": "stream",
          "name": "stdout",
          "text": [
            "Random Forest Accuracy: 0.9979310344827587\n",
            "Random Forest Classification Report:\n",
            "              precision    recall  f1-score   support\n",
            "\n",
            "         0.0       1.00      1.00      1.00      1930\n",
            "         1.0       1.00      1.00      1.00       560\n",
            "         2.0       1.00      1.00      1.00       540\n",
            "         3.0       1.00      1.00      1.00       500\n",
            "         4.0       0.99      0.99      0.99       380\n",
            "         5.0       1.00      1.00      1.00       440\n",
            "\n",
            "    accuracy                           1.00      4350\n",
            "   macro avg       1.00      1.00      1.00      4350\n",
            "weighted avg       1.00      1.00      1.00      4350\n",
            "\n",
            "XGBR Accuracy: 0.9967816091954023\n",
            "XGBR Classification Report:\n",
            "              precision    recall  f1-score   support\n",
            "\n",
            "         0.0       1.00      1.00      1.00      1930\n",
            "         1.0       1.00      1.00      1.00       560\n",
            "         2.0       0.99      1.00      1.00       540\n",
            "         3.0       1.00      1.00      1.00       500\n",
            "         4.0       0.98      0.99      0.99       380\n",
            "         5.0       1.00      1.00      1.00       440\n",
            "\n",
            "    accuracy                           1.00      4350\n",
            "   macro avg       1.00      1.00      1.00      4350\n",
            "weighted avg       1.00      1.00      1.00      4350\n",
            "\n",
            "SVM Accuracy: 0.9940229885057471\n",
            "SVM Classification Report:\n",
            "              precision    recall  f1-score   support\n",
            "\n",
            "         0.0       0.99      1.00      0.99      1930\n",
            "         1.0       1.00      1.00      1.00       560\n",
            "         2.0       1.00      1.00      1.00       540\n",
            "         3.0       1.00      1.00      1.00       500\n",
            "         4.0       0.99      0.94      0.96       380\n",
            "         5.0       1.00      1.00      1.00       440\n",
            "\n",
            "    accuracy                           0.99      4350\n",
            "   macro avg       1.00      0.99      0.99      4350\n",
            "weighted avg       0.99      0.99      0.99      4350\n",
            "\n",
            "KNN Accuracy: 0.9972413793103448\n",
            "KNN Classification Report:\n",
            "              precision    recall  f1-score   support\n",
            "\n",
            "         0.0       1.00      1.00      1.00      1930\n",
            "         1.0       1.00      1.00      1.00       560\n",
            "         2.0       1.00      1.00      1.00       540\n",
            "         3.0       1.00      1.00      1.00       500\n",
            "         4.0       0.98      0.99      0.98       380\n",
            "         5.0       1.00      1.00      1.00       440\n",
            "\n",
            "    accuracy                           1.00      4350\n",
            "   macro avg       1.00      1.00      1.00      4350\n",
            "weighted avg       1.00      1.00      1.00      4350\n",
            "\n",
            "MLP Accuracy: 0.9977011494252873\n",
            "MLP Classification Report:\n",
            "              precision    recall  f1-score   support\n",
            "\n",
            "         0.0       1.00      1.00      1.00      1930\n",
            "         1.0       1.00      1.00      1.00       560\n",
            "         2.0       1.00      1.00      1.00       540\n",
            "         3.0       1.00      1.00      1.00       500\n",
            "         4.0       0.98      0.99      0.99       380\n",
            "         5.0       1.00      1.00      1.00       440\n",
            "\n",
            "    accuracy                           1.00      4350\n",
            "   macro avg       1.00      1.00      1.00      4350\n",
            "weighted avg       1.00      1.00      1.00      4350\n",
            "\n"
          ]
        }
      ]
    },
    {
      "cell_type": "code",
      "source": [
        "import joblib\n",
        "import numpy as np\n",
        "import torch\n",
        "from sklearn.metrics import accuracy_score, classification_report\n",
        "from torch.nn.functional import softmax\n",
        "\n",
        "# Load trained models\n",
        "tabnet_model = joblib.load(\"tabnet_model.pkl\")\n",
        "rf_model = joblib.load(\"Random Forest.pkl\")\n",
        "xgb_model = joblib.load(\"XGBR.pkl\")\n",
        "svm_model = joblib.load(\"SVM.pkl\")\n",
        "mlp_model = joblib.load(\"MLP.pkl\")\n",
        "knn_model = joblib.load(\"KNN.pkl\")\n",
        "\n",
        "\n",
        "# Get probabilistic predictions\n",
        "y_proba_tabnet = tabnet_model.predict_proba(X_test_scaled)\n",
        "y_proba_rf = rf_model.predict_proba(X_test_scaled)\n",
        "y_proba_xgb = xgb_model.predict_proba(X_test_scaled)\n",
        "y_proba_svm = svm_model.predict_proba(X_test_scaled)\n",
        "y_proba_mlp = mlp_model.predict_proba(X_test_scaled)\n",
        "y_proba_knn = knn_model.predict_proba(X_test_scaled)\n",
        "\n",
        "# Load and prepare TabNSA model\n",
        "device = torch.device(\"cuda\" if torch.cuda.is_available() else \"cpu\")\n",
        "\n",
        "input_dim = X_test_scaled.shape[1]\n",
        "output_dim = 6  # Number of classes (0-5)\n",
        "hidden_dim = 64\n",
        "num_heads = 4\n",
        "num_layers = 3\n",
        "\n",
        "tabnsa_model = TabNSA(input_dim, output_dim, hidden_dim, num_heads, num_layers)\n",
        "tabnsa_model.load_state_dict(torch.load(\"best_tabnsa_model.pth\", map_location=device))\n",
        "tabnsa_model.to(device)\n",
        "tabnsa_model.eval()\n",
        "\n",
        "X_test_tensor = torch.FloatTensor(X_test_scaled).to(device)\n",
        "with torch.no_grad():\n",
        "    outputs = tabnsa_model(X_test_tensor)\n",
        "    y_proba_tabnsa = softmax(outputs, dim=1).cpu().numpy()\n",
        "\n",
        "# Assign model weights (can be adjusted based on validation performance)\n",
        "weights = {\n",
        "    \"tabnet\": 0.4,\n",
        "    \"tabnsa\": 0.2,\n",
        "    \"rf\": 0.1,\n",
        "    \"xgb\": 0.1,\n",
        "    \"svm\": 0.1,\n",
        "    \"mlp\": 0.1,\n",
        "    \"knn\": 0.1\n",
        "\n",
        "}\n",
        "\n",
        "# Compute weighted average of predictions\n",
        "y_proba_ensemble = (\n",
        "    weights[\"tabnet\"] * y_proba_tabnet +\n",
        "    weights[\"tabnsa\"] * y_proba_tabnsa +\n",
        "    weights[\"rf\"] * y_proba_rf +\n",
        "    weights[\"xgb\"] * y_proba_xgb +\n",
        "    weights[\"svm\"] * y_proba_svm +\n",
        "    weights[\"mlp\"] * y_proba_mlp +\n",
        "    weights[\"knn\"] * y_proba_knn\n",
        ")\n",
        "\n",
        "# Final ensemble predictions\n",
        "y_pred_ensemble = np.argmax(y_proba_ensemble, axis=1)\n",
        "\n",
        "# Evaluate ensemble model\n",
        "ensemble_accuracy = accuracy_score(y_test, y_pred_ensemble)\n",
        "print(f\"Ensemble Model Accuracy: {ensemble_accuracy:.4f}\")\n",
        "print(\"Classification Report:\\n\", classification_report(y_test, y_pred_ensemble))"
      ],
      "metadata": {
        "colab": {
          "base_uri": "https://localhost:8080/"
        },
        "id": "vUG_O_sQTEyc",
        "outputId": "0c199d9a-e481-4726-b829-89e685744769"
      },
      "execution_count": 92,
      "outputs": [
        {
          "output_type": "stream",
          "name": "stderr",
          "text": [
            "/usr/local/lib/python3.11/dist-packages/sklearn/utils/validation.py:2739: UserWarning: X does not have valid feature names, but RandomForestClassifier was fitted with feature names\n",
            "  warnings.warn(\n"
          ]
        },
        {
          "output_type": "stream",
          "name": "stdout",
          "text": [
            "Ensemble Model Accuracy: 0.9961\n",
            "Classification Report:\n",
            "               precision    recall  f1-score   support\n",
            "\n",
            "         0.0       1.00      0.99      1.00      1930\n",
            "         1.0       1.00      1.00      1.00       560\n",
            "         2.0       1.00      1.00      1.00       540\n",
            "         3.0       1.00      1.00      1.00       500\n",
            "         4.0       0.97      0.99      0.98       380\n",
            "         5.0       1.00      1.00      1.00       440\n",
            "\n",
            "    accuracy                           1.00      4350\n",
            "   macro avg       0.99      1.00      1.00      4350\n",
            "weighted avg       1.00      1.00      1.00      4350\n",
            "\n"
          ]
        }
      ]
    },
    {
      "cell_type": "code",
      "source": [],
      "metadata": {
        "id": "a09BLzVkUjK3"
      },
      "execution_count": null,
      "outputs": []
    }
  ]
}